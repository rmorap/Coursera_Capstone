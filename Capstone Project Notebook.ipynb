{
    "cells": [
        {
            "metadata": {
                "id": "6yyLgGK7oIYR",
                "colab_type": "text"
            },
            "cell_type": "markdown",
            "source": "<h1 align=\"center\"> A Way to Find The Best Place</h1>\n<h2 align=\"center\">Clustering the Neighbourhoods of Bogota</h2>"
        },
        {
            "metadata": {
                "id": "2mGZf__gI-nX",
                "colab_type": "text"
            },
            "cell_type": "markdown",
            "source": "<p align =\"center\"> Richard Alejandro Mora Perilla \n<br>\n<br>\n06 February 2021\n</p>\n\n\n"
        },
        {
            "metadata": {
                "id": "MeV3b1twUm8I",
                "colab_type": "text"
            },
            "cell_type": "markdown",
            "source": "# Introduction\n\n\nNormally when people travel they make a plan or a routine to be able to know certain places of the site to which they are going to travel, however, prior to this, people usually look for those relevant places to which they would like to go according to the opinions or comments of the people who are near there.\n\n# Business Problem\n\nThe problem to be solved is that of which sites could be known according to the good opinions of people from places close to that site, in order to make a decision before making your trip also this data collection can also help to recognize a good place to live in the city.\n\n\n# Data Description\n\nWe require geolocation data for both Bogota. The city's zip codes serve as a starting point. Using the zip codes we use we can find the most popular towns, districts, places and their categories of places.\n\n\n## Bogota\n\nTo derive our solution, We scrape our data from https://es.wikipedia.org/wiki/Anexo:Localidades_de_Bogot%C3%A1\n\nThis wikipedia page has information about all the localities.\n\n1. *borough* : Name of Neighbourhood\n2. *town* : Name of borough\n3. *post_code* : Postal codes for London.\n\n## Foursquare API Data\n\nWe will need data about different venues. In order to gain that information we will use \"Foursquare\" locational information. Foursquare is a location data provider with information about all manner of venues and events within an area of interest. Such information includes venue names, locations, menus and even photos. As such, the foursquare location platform will be used as the sole data source since all the stated required information can be obtained through the API.\n\nThe data retrieved from Foursquare contained information of venues within a specified distance of the longitude and latitude of the postcodes. The information obtained per venue as follows:\n\nNeighborhood\nNeighborhood Latitude\nNeighborhood Longitude\nVenue\nName of the venue e.g. the name of a store or restaurant\nVenue Latitude\nVenue Longitude\nVenue Category"
        },
        {
            "metadata": {
                "id": "grxuaIg4VzqI",
                "colab_type": "text"
            },
            "cell_type": "markdown",
            "source": "# Methodology\n\nWe will be creating our model with the help of Python so we start off by importing all the required packages."
        },
        {
            "metadata": {
                "id": "nLfRKuimJA8l",
                "colab_type": "code",
                "colab": {},
                "executionInfo": {
                    "status": "ok",
                    "timestamp": 1597724127785,
                    "user_tz": -330,
                    "elapsed": 5683,
                    "user": {
                        "displayName": "Thomas George Thomas",
                        "photoUrl": "https://lh3.googleusercontent.com/a-/AOh14GhRjmtno5yCmJOUjYiFNGHi_xP5YZBJ1ZpWGKsZ=s64",
                        "userId": "09561174857978505545"
                    }
                }
            },
            "cell_type": "code",
            "source": "import pandas as pd\nimport requests\nimport numpy as np\nimport matplotlib.cm as cm\nimport matplotlib.colors as colors\nimport folium\nfrom sklearn.cluster import KMeans",
            "execution_count": 3,
            "outputs": []
        },
        {
            "metadata": {
                "id": "GMUK5JXj-v02",
                "colab_type": "text"
            },
            "cell_type": "markdown",
            "source": "### Localities\n\nWe begin to start collecting and refining the data needed for thwe business solution."
        },
        {
            "metadata": {
                "id": "Gcykox2lACgw",
                "colab_type": "text"
            },
            "cell_type": "markdown",
            "source": "### Data Collection"
        },
        {
            "metadata": {
                "id": "BQabiUfuojRh",
                "colab_type": "text"
            },
            "cell_type": "markdown",
            "source": "To get the localities in Bogota, we start by scraping the list of areas of Bogota wiki page."
        },
        {
            "metadata": {
                "id": "kv-k8uzMJzE7",
                "colab_type": "code",
                "colab": {
                    "base_uri": "https://localhost:8080/",
                    "height": 34
                },
                "executionInfo": {
                    "status": "ok",
                    "timestamp": 1597724127787,
                    "user_tz": -330,
                    "elapsed": 5652,
                    "user": {
                        "displayName": "Thomas George Thomas",
                        "photoUrl": "https://lh3.googleusercontent.com/a-/AOh14GhRjmtno5yCmJOUjYiFNGHi_xP5YZBJ1ZpWGKsZ=s64",
                        "userId": "09561174857978505545"
                    }
                },
                "outputId": "a5cae1cf-8387-4c88-fc39-c4b30e50f374"
            },
            "cell_type": "code",
            "source": "url = \"https://es.wikipedia.org/wiki/Anexo:Localidades_de_Bogot%C3%A1\"\nwiki = requests.get(url)\nwiki",
            "execution_count": 4,
            "outputs": [
                {
                    "output_type": "execute_result",
                    "execution_count": 4,
                    "data": {
                        "text/plain": "<Response [200]>"
                    },
                    "metadata": {}
                }
            ]
        },
        {
            "metadata": {
                "id": "zYL7DqPsor6M",
                "colab_type": "text"
            },
            "cell_type": "markdown",
            "source": "Response 200 means that we are able to make the connection"
        },
        {
            "metadata": {
                "id": "1XTWMxawJ_JX",
                "colab_type": "code",
                "colab": {
                    "base_uri": "https://localhost:8080/",
                    "height": 612
                },
                "executionInfo": {
                    "status": "ok",
                    "timestamp": 1597724129256,
                    "user_tz": -330,
                    "elapsed": 7107,
                    "user": {
                        "displayName": "Thomas George Thomas",
                        "photoUrl": "https://lh3.googleusercontent.com/a-/AOh14GhRjmtno5yCmJOUjYiFNGHi_xP5YZBJ1ZpWGKsZ=s64",
                        "userId": "09561174857978505545"
                    }
                },
                "outputId": "a04670cf-0151-4d18-c710-252b387c53a7"
            },
            "cell_type": "code",
            "source": "wiki_data = pd.read_html(wiki.text)\nwiki_data",
            "execution_count": 12,
            "outputs": [
                {
                    "output_type": "execute_result",
                    "execution_count": 12,
                    "data": {
                        "text/plain": "[    N\u00ba           Localidad C\u00f3digos Postales  Superficie km\u00b2[2]\u200b Poblaci\u00f3n[3]\u200b  \\\n 0    1             Usaqu\u00e9n    110111-110151               65.31       501\u00a0999   \n 1    2           Chapinero    110211-110231               38.15       139\u00a0701   \n 2    3            Santa Fe    110311-110321               45.17       110\u00a0048   \n 3    4       San Crist\u00f3bal    110411-110441               49.09       404\u00a0697   \n 4    5                Usme    110511-110571              215.06       457\u00a0302   \n 5    6          Tunjuelito    110611-110621                9.91       199\u00a0430   \n 6    7                Bosa    110711-110741               23.93       673\u00a0077   \n 7    8             Kennedy    110811-110881               38.59     1 088\u00a0443   \n 8    9            Fontib\u00f3n    110911-110931               33.28       394\u00a0648   \n 9   10            Engativ\u00e1    111011-111071               35.88       887\u00a0080   \n 10  11                Suba    111111-111176              100.56     1 218\u00a0513   \n 11  12      Barrios Unidos    111211-111221               11.90       243\u00a0465   \n 12  13         Teusaquillo    111311-111321               14.19       153\u00a0025   \n 13  14        Los M\u00e1rtires           111411                6.51        99\u00a0119   \n 14  15      Antonio Nari\u00f1o           111511                4.88       109\u00a0176   \n 15  16       Puente Aranda    111611-111631               17.31       258\u00a0287   \n 16  17       La Candelaria           111711                2.06        24\u00a0088   \n 17  18  Rafael Uribe Uribe    111811-111841               13.83       374\u00a0246   \n 18  19      Ciudad Bol\u00edvar    111911-111981              130.00       733\u00a0859   \n 19  20             Sumapaz    112011-112041              780.96         6\u00a0531   \n \n    Densidad hab/km\u00b2  \n 0           7\u00a0686.4  \n 1          3\u00a0661.88  \n 2           2\u00a0436.3  \n 3          8\u00a0243.98  \n 4          2\u00a0126.39  \n 5         20\u00a0124.11  \n 6         28\u00a0126.91  \n 7         28\u00a0205.31  \n 8         11\u00a0858.41  \n 9         24\u00a0723.52  \n 10        12\u00a0117.27  \n 11        20\u00a0459.24  \n 12           10\u00a0784  \n 13        15\u00a0225.65  \n 14        22\u00a0372.12  \n 15        14\u00a0921.25  \n 16         11\u00a0693.2  \n 17        27\u00a0060.44  \n 18         5\u00a0442.83  \n 19             8.36  ]"
                    },
                    "metadata": {}
                }
            ]
        },
        {
            "metadata": {
                "id": "8GEHfe2SowP8",
                "colab_type": "text"
            },
            "cell_type": "markdown",
            "source": "Scraping the webpage gives us all the tables present on the page. We need the 2nd table, so selecting the 2nd table."
        },
        {
            "metadata": {
                "id": "Kpvqvt8SKNKC",
                "colab_type": "code",
                "colab": {
                    "base_uri": "https://localhost:8080/",
                    "height": 419
                },
                "executionInfo": {
                    "status": "ok",
                    "timestamp": 1597724129257,
                    "user_tz": -330,
                    "elapsed": 7095,
                    "user": {
                        "displayName": "Thomas George Thomas",
                        "photoUrl": "https://lh3.googleusercontent.com/a-/AOh14GhRjmtno5yCmJOUjYiFNGHi_xP5YZBJ1ZpWGKsZ=s64",
                        "userId": "09561174857978505545"
                    }
                },
                "outputId": "042ed43d-6187-4f8c-ba96-1e72a18aecc7"
            },
            "cell_type": "code",
            "source": "wiki_data = wiki_data[0]\nwiki_data",
            "execution_count": 13,
            "outputs": [
                {
                    "output_type": "execute_result",
                    "execution_count": 13,
                    "data": {
                        "text/plain": "    N\u00ba           Localidad C\u00f3digos Postales  Superficie km\u00b2[2]\u200b Poblaci\u00f3n[3]\u200b  \\\n0    1             Usaqu\u00e9n    110111-110151               65.31       501\u00a0999   \n1    2           Chapinero    110211-110231               38.15       139\u00a0701   \n2    3            Santa Fe    110311-110321               45.17       110\u00a0048   \n3    4       San Crist\u00f3bal    110411-110441               49.09       404\u00a0697   \n4    5                Usme    110511-110571              215.06       457\u00a0302   \n5    6          Tunjuelito    110611-110621                9.91       199\u00a0430   \n6    7                Bosa    110711-110741               23.93       673\u00a0077   \n7    8             Kennedy    110811-110881               38.59     1 088\u00a0443   \n8    9            Fontib\u00f3n    110911-110931               33.28       394\u00a0648   \n9   10            Engativ\u00e1    111011-111071               35.88       887\u00a0080   \n10  11                Suba    111111-111176              100.56     1 218\u00a0513   \n11  12      Barrios Unidos    111211-111221               11.90       243\u00a0465   \n12  13         Teusaquillo    111311-111321               14.19       153\u00a0025   \n13  14        Los M\u00e1rtires           111411                6.51        99\u00a0119   \n14  15      Antonio Nari\u00f1o           111511                4.88       109\u00a0176   \n15  16       Puente Aranda    111611-111631               17.31       258\u00a0287   \n16  17       La Candelaria           111711                2.06        24\u00a0088   \n17  18  Rafael Uribe Uribe    111811-111841               13.83       374\u00a0246   \n18  19      Ciudad Bol\u00edvar    111911-111981              130.00       733\u00a0859   \n19  20             Sumapaz    112011-112041              780.96         6\u00a0531   \n\n   Densidad hab/km\u00b2  \n0           7\u00a0686.4  \n1          3\u00a0661.88  \n2           2\u00a0436.3  \n3          8\u00a0243.98  \n4          2\u00a0126.39  \n5         20\u00a0124.11  \n6         28\u00a0126.91  \n7         28\u00a0205.31  \n8         11\u00a0858.41  \n9         24\u00a0723.52  \n10        12\u00a0117.27  \n11        20\u00a0459.24  \n12           10\u00a0784  \n13        15\u00a0225.65  \n14        22\u00a0372.12  \n15        14\u00a0921.25  \n16         11\u00a0693.2  \n17        27\u00a0060.44  \n18         5\u00a0442.83  \n19             8.36  ",
                        "text/html": "<div>\n<style scoped>\n    .dataframe tbody tr th:only-of-type {\n        vertical-align: middle;\n    }\n\n    .dataframe tbody tr th {\n        vertical-align: top;\n    }\n\n    .dataframe thead th {\n        text-align: right;\n    }\n</style>\n<table border=\"1\" class=\"dataframe\">\n  <thead>\n    <tr style=\"text-align: right;\">\n      <th></th>\n      <th>N\u00ba</th>\n      <th>Localidad</th>\n      <th>C\u00f3digos Postales</th>\n      <th>Superficie km\u00b2[2]\u200b</th>\n      <th>Poblaci\u00f3n[3]\u200b</th>\n      <th>Densidad hab/km\u00b2</th>\n    </tr>\n  </thead>\n  <tbody>\n    <tr>\n      <th>0</th>\n      <td>1</td>\n      <td>Usaqu\u00e9n</td>\n      <td>110111-110151</td>\n      <td>65.31</td>\n      <td>501\u00a0999</td>\n      <td>7\u00a0686.4</td>\n    </tr>\n    <tr>\n      <th>1</th>\n      <td>2</td>\n      <td>Chapinero</td>\n      <td>110211-110231</td>\n      <td>38.15</td>\n      <td>139\u00a0701</td>\n      <td>3\u00a0661.88</td>\n    </tr>\n    <tr>\n      <th>2</th>\n      <td>3</td>\n      <td>Santa Fe</td>\n      <td>110311-110321</td>\n      <td>45.17</td>\n      <td>110\u00a0048</td>\n      <td>2\u00a0436.3</td>\n    </tr>\n    <tr>\n      <th>3</th>\n      <td>4</td>\n      <td>San Crist\u00f3bal</td>\n      <td>110411-110441</td>\n      <td>49.09</td>\n      <td>404\u00a0697</td>\n      <td>8\u00a0243.98</td>\n    </tr>\n    <tr>\n      <th>4</th>\n      <td>5</td>\n      <td>Usme</td>\n      <td>110511-110571</td>\n      <td>215.06</td>\n      <td>457\u00a0302</td>\n      <td>2\u00a0126.39</td>\n    </tr>\n    <tr>\n      <th>5</th>\n      <td>6</td>\n      <td>Tunjuelito</td>\n      <td>110611-110621</td>\n      <td>9.91</td>\n      <td>199\u00a0430</td>\n      <td>20\u00a0124.11</td>\n    </tr>\n    <tr>\n      <th>6</th>\n      <td>7</td>\n      <td>Bosa</td>\n      <td>110711-110741</td>\n      <td>23.93</td>\n      <td>673\u00a0077</td>\n      <td>28\u00a0126.91</td>\n    </tr>\n    <tr>\n      <th>7</th>\n      <td>8</td>\n      <td>Kennedy</td>\n      <td>110811-110881</td>\n      <td>38.59</td>\n      <td>1 088\u00a0443</td>\n      <td>28\u00a0205.31</td>\n    </tr>\n    <tr>\n      <th>8</th>\n      <td>9</td>\n      <td>Fontib\u00f3n</td>\n      <td>110911-110931</td>\n      <td>33.28</td>\n      <td>394\u00a0648</td>\n      <td>11\u00a0858.41</td>\n    </tr>\n    <tr>\n      <th>9</th>\n      <td>10</td>\n      <td>Engativ\u00e1</td>\n      <td>111011-111071</td>\n      <td>35.88</td>\n      <td>887\u00a0080</td>\n      <td>24\u00a0723.52</td>\n    </tr>\n    <tr>\n      <th>10</th>\n      <td>11</td>\n      <td>Suba</td>\n      <td>111111-111176</td>\n      <td>100.56</td>\n      <td>1 218\u00a0513</td>\n      <td>12\u00a0117.27</td>\n    </tr>\n    <tr>\n      <th>11</th>\n      <td>12</td>\n      <td>Barrios Unidos</td>\n      <td>111211-111221</td>\n      <td>11.90</td>\n      <td>243\u00a0465</td>\n      <td>20\u00a0459.24</td>\n    </tr>\n    <tr>\n      <th>12</th>\n      <td>13</td>\n      <td>Teusaquillo</td>\n      <td>111311-111321</td>\n      <td>14.19</td>\n      <td>153\u00a0025</td>\n      <td>10\u00a0784</td>\n    </tr>\n    <tr>\n      <th>13</th>\n      <td>14</td>\n      <td>Los M\u00e1rtires</td>\n      <td>111411</td>\n      <td>6.51</td>\n      <td>99\u00a0119</td>\n      <td>15\u00a0225.65</td>\n    </tr>\n    <tr>\n      <th>14</th>\n      <td>15</td>\n      <td>Antonio Nari\u00f1o</td>\n      <td>111511</td>\n      <td>4.88</td>\n      <td>109\u00a0176</td>\n      <td>22\u00a0372.12</td>\n    </tr>\n    <tr>\n      <th>15</th>\n      <td>16</td>\n      <td>Puente Aranda</td>\n      <td>111611-111631</td>\n      <td>17.31</td>\n      <td>258\u00a0287</td>\n      <td>14\u00a0921.25</td>\n    </tr>\n    <tr>\n      <th>16</th>\n      <td>17</td>\n      <td>La Candelaria</td>\n      <td>111711</td>\n      <td>2.06</td>\n      <td>24\u00a0088</td>\n      <td>11\u00a0693.2</td>\n    </tr>\n    <tr>\n      <th>17</th>\n      <td>18</td>\n      <td>Rafael Uribe Uribe</td>\n      <td>111811-111841</td>\n      <td>13.83</td>\n      <td>374\u00a0246</td>\n      <td>27\u00a0060.44</td>\n    </tr>\n    <tr>\n      <th>18</th>\n      <td>19</td>\n      <td>Ciudad Bol\u00edvar</td>\n      <td>111911-111981</td>\n      <td>130.00</td>\n      <td>733\u00a0859</td>\n      <td>5\u00a0442.83</td>\n    </tr>\n    <tr>\n      <th>19</th>\n      <td>20</td>\n      <td>Sumapaz</td>\n      <td>112011-112041</td>\n      <td>780.96</td>\n      <td>6\u00a0531</td>\n      <td>8.36</td>\n    </tr>\n  </tbody>\n</table>\n</div>"
                    },
                    "metadata": {}
                }
            ]
        },
        {
            "metadata": {
                "id": "gwvW2aT1pc-a",
                "colab_type": "text"
            },
            "cell_type": "markdown",
            "source": "### Data Preprocessing"
        },
        {
            "metadata": {
                "id": "viTJ-4irzMVC",
                "colab_type": "text"
            },
            "cell_type": "markdown",
            "source": "we remove the spaces in the column titles and then we add _ between words."
        },
        {
            "metadata": {
                "id": "1t3mLV-MwTMk",
                "colab_type": "code",
                "colab": {
                    "base_uri": "https://localhost:8080/",
                    "height": 419
                },
                "executionInfo": {
                    "status": "ok",
                    "timestamp": 1597724129258,
                    "user_tz": -330,
                    "elapsed": 7083,
                    "user": {
                        "displayName": "Thomas George Thomas",
                        "photoUrl": "https://lh3.googleusercontent.com/a-/AOh14GhRjmtno5yCmJOUjYiFNGHi_xP5YZBJ1ZpWGKsZ=s64",
                        "userId": "09561174857978505545"
                    }
                },
                "outputId": "6b7e3287-5924-4eb5-813d-61a4dafdd372"
            },
            "cell_type": "code",
            "source": "wiki_data.rename(columns=lambda x: x.strip().replace(\" \", \"_\"), inplace=True)\nwiki_data",
            "execution_count": 14,
            "outputs": [
                {
                    "output_type": "execute_result",
                    "execution_count": 14,
                    "data": {
                        "text/plain": "    N\u00ba           Localidad C\u00f3digos_Postales  Superficie_km\u00b2[2]\u200b Poblaci\u00f3n[3]\u200b  \\\n0    1             Usaqu\u00e9n    110111-110151               65.31       501\u00a0999   \n1    2           Chapinero    110211-110231               38.15       139\u00a0701   \n2    3            Santa Fe    110311-110321               45.17       110\u00a0048   \n3    4       San Crist\u00f3bal    110411-110441               49.09       404\u00a0697   \n4    5                Usme    110511-110571              215.06       457\u00a0302   \n5    6          Tunjuelito    110611-110621                9.91       199\u00a0430   \n6    7                Bosa    110711-110741               23.93       673\u00a0077   \n7    8             Kennedy    110811-110881               38.59     1 088\u00a0443   \n8    9            Fontib\u00f3n    110911-110931               33.28       394\u00a0648   \n9   10            Engativ\u00e1    111011-111071               35.88       887\u00a0080   \n10  11                Suba    111111-111176              100.56     1 218\u00a0513   \n11  12      Barrios Unidos    111211-111221               11.90       243\u00a0465   \n12  13         Teusaquillo    111311-111321               14.19       153\u00a0025   \n13  14        Los M\u00e1rtires           111411                6.51        99\u00a0119   \n14  15      Antonio Nari\u00f1o           111511                4.88       109\u00a0176   \n15  16       Puente Aranda    111611-111631               17.31       258\u00a0287   \n16  17       La Candelaria           111711                2.06        24\u00a0088   \n17  18  Rafael Uribe Uribe    111811-111841               13.83       374\u00a0246   \n18  19      Ciudad Bol\u00edvar    111911-111981              130.00       733\u00a0859   \n19  20             Sumapaz    112011-112041              780.96         6\u00a0531   \n\n   Densidad_hab/km\u00b2  \n0           7\u00a0686.4  \n1          3\u00a0661.88  \n2           2\u00a0436.3  \n3          8\u00a0243.98  \n4          2\u00a0126.39  \n5         20\u00a0124.11  \n6         28\u00a0126.91  \n7         28\u00a0205.31  \n8         11\u00a0858.41  \n9         24\u00a0723.52  \n10        12\u00a0117.27  \n11        20\u00a0459.24  \n12           10\u00a0784  \n13        15\u00a0225.65  \n14        22\u00a0372.12  \n15        14\u00a0921.25  \n16         11\u00a0693.2  \n17        27\u00a0060.44  \n18         5\u00a0442.83  \n19             8.36  ",
                        "text/html": "<div>\n<style scoped>\n    .dataframe tbody tr th:only-of-type {\n        vertical-align: middle;\n    }\n\n    .dataframe tbody tr th {\n        vertical-align: top;\n    }\n\n    .dataframe thead th {\n        text-align: right;\n    }\n</style>\n<table border=\"1\" class=\"dataframe\">\n  <thead>\n    <tr style=\"text-align: right;\">\n      <th></th>\n      <th>N\u00ba</th>\n      <th>Localidad</th>\n      <th>C\u00f3digos_Postales</th>\n      <th>Superficie_km\u00b2[2]\u200b</th>\n      <th>Poblaci\u00f3n[3]\u200b</th>\n      <th>Densidad_hab/km\u00b2</th>\n    </tr>\n  </thead>\n  <tbody>\n    <tr>\n      <th>0</th>\n      <td>1</td>\n      <td>Usaqu\u00e9n</td>\n      <td>110111-110151</td>\n      <td>65.31</td>\n      <td>501\u00a0999</td>\n      <td>7\u00a0686.4</td>\n    </tr>\n    <tr>\n      <th>1</th>\n      <td>2</td>\n      <td>Chapinero</td>\n      <td>110211-110231</td>\n      <td>38.15</td>\n      <td>139\u00a0701</td>\n      <td>3\u00a0661.88</td>\n    </tr>\n    <tr>\n      <th>2</th>\n      <td>3</td>\n      <td>Santa Fe</td>\n      <td>110311-110321</td>\n      <td>45.17</td>\n      <td>110\u00a0048</td>\n      <td>2\u00a0436.3</td>\n    </tr>\n    <tr>\n      <th>3</th>\n      <td>4</td>\n      <td>San Crist\u00f3bal</td>\n      <td>110411-110441</td>\n      <td>49.09</td>\n      <td>404\u00a0697</td>\n      <td>8\u00a0243.98</td>\n    </tr>\n    <tr>\n      <th>4</th>\n      <td>5</td>\n      <td>Usme</td>\n      <td>110511-110571</td>\n      <td>215.06</td>\n      <td>457\u00a0302</td>\n      <td>2\u00a0126.39</td>\n    </tr>\n    <tr>\n      <th>5</th>\n      <td>6</td>\n      <td>Tunjuelito</td>\n      <td>110611-110621</td>\n      <td>9.91</td>\n      <td>199\u00a0430</td>\n      <td>20\u00a0124.11</td>\n    </tr>\n    <tr>\n      <th>6</th>\n      <td>7</td>\n      <td>Bosa</td>\n      <td>110711-110741</td>\n      <td>23.93</td>\n      <td>673\u00a0077</td>\n      <td>28\u00a0126.91</td>\n    </tr>\n    <tr>\n      <th>7</th>\n      <td>8</td>\n      <td>Kennedy</td>\n      <td>110811-110881</td>\n      <td>38.59</td>\n      <td>1 088\u00a0443</td>\n      <td>28\u00a0205.31</td>\n    </tr>\n    <tr>\n      <th>8</th>\n      <td>9</td>\n      <td>Fontib\u00f3n</td>\n      <td>110911-110931</td>\n      <td>33.28</td>\n      <td>394\u00a0648</td>\n      <td>11\u00a0858.41</td>\n    </tr>\n    <tr>\n      <th>9</th>\n      <td>10</td>\n      <td>Engativ\u00e1</td>\n      <td>111011-111071</td>\n      <td>35.88</td>\n      <td>887\u00a0080</td>\n      <td>24\u00a0723.52</td>\n    </tr>\n    <tr>\n      <th>10</th>\n      <td>11</td>\n      <td>Suba</td>\n      <td>111111-111176</td>\n      <td>100.56</td>\n      <td>1 218\u00a0513</td>\n      <td>12\u00a0117.27</td>\n    </tr>\n    <tr>\n      <th>11</th>\n      <td>12</td>\n      <td>Barrios Unidos</td>\n      <td>111211-111221</td>\n      <td>11.90</td>\n      <td>243\u00a0465</td>\n      <td>20\u00a0459.24</td>\n    </tr>\n    <tr>\n      <th>12</th>\n      <td>13</td>\n      <td>Teusaquillo</td>\n      <td>111311-111321</td>\n      <td>14.19</td>\n      <td>153\u00a0025</td>\n      <td>10\u00a0784</td>\n    </tr>\n    <tr>\n      <th>13</th>\n      <td>14</td>\n      <td>Los M\u00e1rtires</td>\n      <td>111411</td>\n      <td>6.51</td>\n      <td>99\u00a0119</td>\n      <td>15\u00a0225.65</td>\n    </tr>\n    <tr>\n      <th>14</th>\n      <td>15</td>\n      <td>Antonio Nari\u00f1o</td>\n      <td>111511</td>\n      <td>4.88</td>\n      <td>109\u00a0176</td>\n      <td>22\u00a0372.12</td>\n    </tr>\n    <tr>\n      <th>15</th>\n      <td>16</td>\n      <td>Puente Aranda</td>\n      <td>111611-111631</td>\n      <td>17.31</td>\n      <td>258\u00a0287</td>\n      <td>14\u00a0921.25</td>\n    </tr>\n    <tr>\n      <th>16</th>\n      <td>17</td>\n      <td>La Candelaria</td>\n      <td>111711</td>\n      <td>2.06</td>\n      <td>24\u00a0088</td>\n      <td>11\u00a0693.2</td>\n    </tr>\n    <tr>\n      <th>17</th>\n      <td>18</td>\n      <td>Rafael Uribe Uribe</td>\n      <td>111811-111841</td>\n      <td>13.83</td>\n      <td>374\u00a0246</td>\n      <td>27\u00a0060.44</td>\n    </tr>\n    <tr>\n      <th>18</th>\n      <td>19</td>\n      <td>Ciudad Bol\u00edvar</td>\n      <td>111911-111981</td>\n      <td>130.00</td>\n      <td>733\u00a0859</td>\n      <td>5\u00a0442.83</td>\n    </tr>\n    <tr>\n      <th>19</th>\n      <td>20</td>\n      <td>Sumapaz</td>\n      <td>112011-112041</td>\n      <td>780.96</td>\n      <td>6\u00a0531</td>\n      <td>8.36</td>\n    </tr>\n  </tbody>\n</table>\n</div>"
                    },
                    "metadata": {}
                }
            ]
        },
        {
            "metadata": {
                "id": "MFILMLJrzWsB",
                "colab_type": "text"
            },
            "cell_type": "markdown",
            "source": "We see that few columns have no '_' between the words despite applying our function meaning that there are special characters"
        },
        {
            "metadata": {
                "id": "hvAk3yi2AN9U",
                "colab_type": "text"
            },
            "cell_type": "markdown",
            "source": "### Feature Selection"
        },
        {
            "metadata": {
                "id": "aDeZfsxBpW_r",
                "colab_type": "text"
            },
            "cell_type": "markdown",
            "source": "We need only the boroughs, Postal codes, Post town for further steps. We can drop the locations, dial codes and OS grid."
        },
        {
            "metadata": {
                "id": "vyT83o79xQK1",
                "colab_type": "code",
                "colab": {},
                "executionInfo": {
                    "status": "ok",
                    "timestamp": 1597724129259,
                    "user_tz": -330,
                    "elapsed": 7081,
                    "user": {
                        "displayName": "Thomas George Thomas",
                        "photoUrl": "https://lh3.googleusercontent.com/a-/AOh14GhRjmtno5yCmJOUjYiFNGHi_xP5YZBJ1ZpWGKsZ=s64",
                        "userId": "09561174857978505545"
                    }
                }
            },
            "cell_type": "code",
            "source": "df = wiki_data.drop( [ wiki_data.columns[0], wiki_data.columns[3], wiki_data.columns[4], wiki_data.columns[5]], axis=1)",
            "execution_count": 127,
            "outputs": []
        },
        {
            "metadata": {
                "id": "HxSpyKovqgpD",
                "colab_type": "code",
                "colab": {
                    "base_uri": "https://localhost:8080/",
                    "height": 204
                },
                "executionInfo": {
                    "status": "ok",
                    "timestamp": 1597724129260,
                    "user_tz": -330,
                    "elapsed": 7068,
                    "user": {
                        "displayName": "Thomas George Thomas",
                        "photoUrl": "https://lh3.googleusercontent.com/a-/AOh14GhRjmtno5yCmJOUjYiFNGHi_xP5YZBJ1ZpWGKsZ=s64",
                        "userId": "09561174857978505545"
                    }
                },
                "outputId": "c6450886-b8b2-451e-ff6b-7ad05daf8dfb"
            },
            "cell_type": "code",
            "source": "df.head()",
            "execution_count": 103,
            "outputs": [
                {
                    "output_type": "execute_result",
                    "execution_count": 103,
                    "data": {
                        "text/plain": "       Localidad C\u00f3digos_Postales\n0        Usaqu\u00e9n    110111-110151\n1      Chapinero    110211-110231\n2       Santa Fe    110311-110321\n3  San Crist\u00f3bal    110411-110441\n4           Usme    110511-110571",
                        "text/html": "<div>\n<style scoped>\n    .dataframe tbody tr th:only-of-type {\n        vertical-align: middle;\n    }\n\n    .dataframe tbody tr th {\n        vertical-align: top;\n    }\n\n    .dataframe thead th {\n        text-align: right;\n    }\n</style>\n<table border=\"1\" class=\"dataframe\">\n  <thead>\n    <tr style=\"text-align: right;\">\n      <th></th>\n      <th>Localidad</th>\n      <th>C\u00f3digos_Postales</th>\n    </tr>\n  </thead>\n  <tbody>\n    <tr>\n      <th>0</th>\n      <td>Usaqu\u00e9n</td>\n      <td>110111-110151</td>\n    </tr>\n    <tr>\n      <th>1</th>\n      <td>Chapinero</td>\n      <td>110211-110231</td>\n    </tr>\n    <tr>\n      <th>2</th>\n      <td>Santa Fe</td>\n      <td>110311-110321</td>\n    </tr>\n    <tr>\n      <th>3</th>\n      <td>San Crist\u00f3bal</td>\n      <td>110411-110441</td>\n    </tr>\n    <tr>\n      <th>4</th>\n      <td>Usme</td>\n      <td>110511-110571</td>\n    </tr>\n  </tbody>\n</table>\n</div>"
                    },
                    "metadata": {}
                }
            ]
        },
        {
            "metadata": {},
            "cell_type": "markdown",
            "source": "We change the column names for athe english language"
        },
        {
            "metadata": {
                "id": "EIJNAOAwz3no",
                "colab_type": "code",
                "colab": {
                    "base_uri": "https://localhost:8080/",
                    "height": 419
                },
                "executionInfo": {
                    "status": "ok",
                    "timestamp": 1597724129261,
                    "user_tz": -330,
                    "elapsed": 7057,
                    "user": {
                        "displayName": "Thomas George Thomas",
                        "photoUrl": "https://lh3.googleusercontent.com/a-/AOh14GhRjmtno5yCmJOUjYiFNGHi_xP5YZBJ1ZpWGKsZ=s64",
                        "userId": "09561174857978505545"
                    }
                },
                "outputId": "bd1b396b-3f56-4020-fe0e-1f5fbee19ebe"
            },
            "cell_type": "code",
            "source": "df.columns = ['town','post_code']\ndf",
            "execution_count": 128,
            "outputs": [
                {
                    "output_type": "execute_result",
                    "execution_count": 128,
                    "data": {
                        "text/plain": "                  town      post_code\n0              Usaqu\u00e9n  110111-110151\n1            Chapinero  110211-110231\n2             Santa Fe  110311-110321\n3        San Crist\u00f3bal  110411-110441\n4                 Usme  110511-110571\n5           Tunjuelito  110611-110621\n6                 Bosa  110711-110741\n7              Kennedy  110811-110881\n8             Fontib\u00f3n  110911-110931\n9             Engativ\u00e1  111011-111071\n10                Suba  111111-111176\n11      Barrios Unidos  111211-111221\n12         Teusaquillo  111311-111321\n13        Los M\u00e1rtires         111411\n14      Antonio Nari\u00f1o         111511\n15       Puente Aranda  111611-111631\n16       La Candelaria         111711\n17  Rafael Uribe Uribe  111811-111841\n18      Ciudad Bol\u00edvar  111911-111981\n19             Sumapaz  112011-112041",
                        "text/html": "<div>\n<style scoped>\n    .dataframe tbody tr th:only-of-type {\n        vertical-align: middle;\n    }\n\n    .dataframe tbody tr th {\n        vertical-align: top;\n    }\n\n    .dataframe thead th {\n        text-align: right;\n    }\n</style>\n<table border=\"1\" class=\"dataframe\">\n  <thead>\n    <tr style=\"text-align: right;\">\n      <th></th>\n      <th>town</th>\n      <th>post_code</th>\n    </tr>\n  </thead>\n  <tbody>\n    <tr>\n      <th>0</th>\n      <td>Usaqu\u00e9n</td>\n      <td>110111-110151</td>\n    </tr>\n    <tr>\n      <th>1</th>\n      <td>Chapinero</td>\n      <td>110211-110231</td>\n    </tr>\n    <tr>\n      <th>2</th>\n      <td>Santa Fe</td>\n      <td>110311-110321</td>\n    </tr>\n    <tr>\n      <th>3</th>\n      <td>San Crist\u00f3bal</td>\n      <td>110411-110441</td>\n    </tr>\n    <tr>\n      <th>4</th>\n      <td>Usme</td>\n      <td>110511-110571</td>\n    </tr>\n    <tr>\n      <th>5</th>\n      <td>Tunjuelito</td>\n      <td>110611-110621</td>\n    </tr>\n    <tr>\n      <th>6</th>\n      <td>Bosa</td>\n      <td>110711-110741</td>\n    </tr>\n    <tr>\n      <th>7</th>\n      <td>Kennedy</td>\n      <td>110811-110881</td>\n    </tr>\n    <tr>\n      <th>8</th>\n      <td>Fontib\u00f3n</td>\n      <td>110911-110931</td>\n    </tr>\n    <tr>\n      <th>9</th>\n      <td>Engativ\u00e1</td>\n      <td>111011-111071</td>\n    </tr>\n    <tr>\n      <th>10</th>\n      <td>Suba</td>\n      <td>111111-111176</td>\n    </tr>\n    <tr>\n      <th>11</th>\n      <td>Barrios Unidos</td>\n      <td>111211-111221</td>\n    </tr>\n    <tr>\n      <th>12</th>\n      <td>Teusaquillo</td>\n      <td>111311-111321</td>\n    </tr>\n    <tr>\n      <th>13</th>\n      <td>Los M\u00e1rtires</td>\n      <td>111411</td>\n    </tr>\n    <tr>\n      <th>14</th>\n      <td>Antonio Nari\u00f1o</td>\n      <td>111511</td>\n    </tr>\n    <tr>\n      <th>15</th>\n      <td>Puente Aranda</td>\n      <td>111611-111631</td>\n    </tr>\n    <tr>\n      <th>16</th>\n      <td>La Candelaria</td>\n      <td>111711</td>\n    </tr>\n    <tr>\n      <th>17</th>\n      <td>Rafael Uribe Uribe</td>\n      <td>111811-111841</td>\n    </tr>\n    <tr>\n      <th>18</th>\n      <td>Ciudad Bol\u00edvar</td>\n      <td>111911-111981</td>\n    </tr>\n    <tr>\n      <th>19</th>\n      <td>Sumapaz</td>\n      <td>112011-112041</td>\n    </tr>\n  </tbody>\n</table>\n</div>"
                    },
                    "metadata": {}
                }
            ]
        },
        {
            "metadata": {},
            "cell_type": "markdown",
            "source": "We need to limit the postal codes of the localities to only one."
        },
        {
            "metadata": {},
            "cell_type": "code",
            "source": "df['post_code'] = df['post_code'].str.split('-',expand=True)\ndf",
            "execution_count": 129,
            "outputs": [
                {
                    "output_type": "execute_result",
                    "execution_count": 129,
                    "data": {
                        "text/plain": "                  town post_code\n0              Usaqu\u00e9n    110111\n1            Chapinero    110211\n2             Santa Fe    110311\n3        San Crist\u00f3bal    110411\n4                 Usme    110511\n5           Tunjuelito    110611\n6                 Bosa    110711\n7              Kennedy    110811\n8             Fontib\u00f3n    110911\n9             Engativ\u00e1    111011\n10                Suba    111111\n11      Barrios Unidos    111211\n12         Teusaquillo    111311\n13        Los M\u00e1rtires    111411\n14      Antonio Nari\u00f1o    111511\n15       Puente Aranda    111611\n16       La Candelaria    111711\n17  Rafael Uribe Uribe    111811\n18      Ciudad Bol\u00edvar    111911\n19             Sumapaz    112011",
                        "text/html": "<div>\n<style scoped>\n    .dataframe tbody tr th:only-of-type {\n        vertical-align: middle;\n    }\n\n    .dataframe tbody tr th {\n        vertical-align: top;\n    }\n\n    .dataframe thead th {\n        text-align: right;\n    }\n</style>\n<table border=\"1\" class=\"dataframe\">\n  <thead>\n    <tr style=\"text-align: right;\">\n      <th></th>\n      <th>town</th>\n      <th>post_code</th>\n    </tr>\n  </thead>\n  <tbody>\n    <tr>\n      <th>0</th>\n      <td>Usaqu\u00e9n</td>\n      <td>110111</td>\n    </tr>\n    <tr>\n      <th>1</th>\n      <td>Chapinero</td>\n      <td>110211</td>\n    </tr>\n    <tr>\n      <th>2</th>\n      <td>Santa Fe</td>\n      <td>110311</td>\n    </tr>\n    <tr>\n      <th>3</th>\n      <td>San Crist\u00f3bal</td>\n      <td>110411</td>\n    </tr>\n    <tr>\n      <th>4</th>\n      <td>Usme</td>\n      <td>110511</td>\n    </tr>\n    <tr>\n      <th>5</th>\n      <td>Tunjuelito</td>\n      <td>110611</td>\n    </tr>\n    <tr>\n      <th>6</th>\n      <td>Bosa</td>\n      <td>110711</td>\n    </tr>\n    <tr>\n      <th>7</th>\n      <td>Kennedy</td>\n      <td>110811</td>\n    </tr>\n    <tr>\n      <th>8</th>\n      <td>Fontib\u00f3n</td>\n      <td>110911</td>\n    </tr>\n    <tr>\n      <th>9</th>\n      <td>Engativ\u00e1</td>\n      <td>111011</td>\n    </tr>\n    <tr>\n      <th>10</th>\n      <td>Suba</td>\n      <td>111111</td>\n    </tr>\n    <tr>\n      <th>11</th>\n      <td>Barrios Unidos</td>\n      <td>111211</td>\n    </tr>\n    <tr>\n      <th>12</th>\n      <td>Teusaquillo</td>\n      <td>111311</td>\n    </tr>\n    <tr>\n      <th>13</th>\n      <td>Los M\u00e1rtires</td>\n      <td>111411</td>\n    </tr>\n    <tr>\n      <th>14</th>\n      <td>Antonio Nari\u00f1o</td>\n      <td>111511</td>\n    </tr>\n    <tr>\n      <th>15</th>\n      <td>Puente Aranda</td>\n      <td>111611</td>\n    </tr>\n    <tr>\n      <th>16</th>\n      <td>La Candelaria</td>\n      <td>111711</td>\n    </tr>\n    <tr>\n      <th>17</th>\n      <td>Rafael Uribe Uribe</td>\n      <td>111811</td>\n    </tr>\n    <tr>\n      <th>18</th>\n      <td>Ciudad Bol\u00edvar</td>\n      <td>111911</td>\n    </tr>\n    <tr>\n      <th>19</th>\n      <td>Sumapaz</td>\n      <td>112011</td>\n    </tr>\n  </tbody>\n</table>\n</div>"
                    },
                    "metadata": {}
                }
            ]
        },
        {
            "metadata": {
                "id": "xmMnxDkg_eaH",
                "colab_type": "text"
            },
            "cell_type": "markdown",
            "source": "## Geolocations of the localities of Bogota"
        },
        {
            "metadata": {
                "id": "n-T9k7ZH7C42",
                "colab_type": "text"
            },
            "cell_type": "markdown",
            "source": "### ArcGis API"
        },
        {
            "metadata": {
                "id": "8zp57iM_o-G-",
                "colab_type": "text"
            },
            "cell_type": "markdown",
            "source": "We need to get the geographical co-ordinates for the neighbourhoods to plot out map. We will use the arcgis package to do so. "
        },
        {
            "metadata": {
                "id": "QFWqOKw-Hdt4",
                "colab_type": "code",
                "colab": {},
                "executionInfo": {
                    "status": "ok",
                    "timestamp": 1597724185794,
                    "user_tz": -330,
                    "elapsed": 63420,
                    "user": {
                        "displayName": "Thomas George Thomas",
                        "photoUrl": "https://lh3.googleusercontent.com/a-/AOh14GhRjmtno5yCmJOUjYiFNGHi_xP5YZBJ1ZpWGKsZ=s64",
                        "userId": "09561174857978505545"
                    }
                }
            },
            "cell_type": "code",
            "source": "from arcgis.geocoding import geocode\nfrom arcgis.gis import GIS\ngis = GIS()",
            "execution_count": 41,
            "outputs": [
                {
                    "output_type": "stream",
                    "text": "/opt/conda/envs/Python-3.7-main/lib/python3.7/site-packages/arcgis/features/_data/geodataset/utils.py:16: FutureWarning: The pandas.datetime class is deprecated and will be removed from pandas in a future version. Import from datetime module instead.\n  pd.datetime,\n",
                    "name": "stderr"
                }
            ]
        },
        {
            "metadata": {
                "id": "38Ikx-5FxPtZ",
                "colab_type": "text"
            },
            "cell_type": "markdown",
            "source": "Defining Bogota arcgis geocode function to return latitude and longitude"
        },
        {
            "metadata": {
                "id": "fZDxsq1ePBmo",
                "colab_type": "code",
                "colab": {},
                "executionInfo": {
                    "status": "ok",
                    "timestamp": 1597724185795,
                    "user_tz": -330,
                    "elapsed": 63419,
                    "user": {
                        "displayName": "Thomas George Thomas",
                        "photoUrl": "https://lh3.googleusercontent.com/a-/AOh14GhRjmtno5yCmJOUjYiFNGHi_xP5YZBJ1ZpWGKsZ=s64",
                        "userId": "09561174857978505545"
                    }
                }
            },
            "cell_type": "code",
            "source": "def get_x_y_uk(address1):\n   lat_coords = 0\n   lng_coords = 0\n   g = geocode(address='{}, Bogota, Colombia, GBR'.format(address1))[0]\n   lng_coords = g['location']['x']\n   lat_coords = g['location']['y']\n   return str(lat_coords) +\",\"+ str(lng_coords)",
            "execution_count": 115,
            "outputs": []
        },
        {
            "metadata": {
                "id": "BkNM0HGHxYPg",
                "colab_type": "text"
            },
            "cell_type": "markdown",
            "source": "Checking sample data"
        },
        {
            "metadata": {
                "id": "sHhLu7cinqih",
                "colab_type": "code",
                "colab": {},
                "executionInfo": {
                    "status": "ok",
                    "timestamp": 1597724186145,
                    "user_tz": -330,
                    "elapsed": 63766,
                    "user": {
                        "displayName": "Thomas George Thomas",
                        "photoUrl": "https://lh3.googleusercontent.com/a-/AOh14GhRjmtno5yCmJOUjYiFNGHi_xP5YZBJ1ZpWGKsZ=s64",
                        "userId": "09561174857978505545"
                    }
                }
            },
            "cell_type": "code",
            "source": "c = get_x_y_uk('110111')",
            "execution_count": 45,
            "outputs": []
        },
        {
            "metadata": {
                "id": "7Ogchbyrnwju",
                "colab_type": "code",
                "colab": {
                    "base_uri": "https://localhost:8080/",
                    "height": 35
                },
                "executionInfo": {
                    "status": "ok",
                    "timestamp": 1597724186146,
                    "user_tz": -330,
                    "elapsed": 63754,
                    "user": {
                        "displayName": "Thomas George Thomas",
                        "photoUrl": "https://lh3.googleusercontent.com/a-/AOh14GhRjmtno5yCmJOUjYiFNGHi_xP5YZBJ1ZpWGKsZ=s64",
                        "userId": "09561174857978505545"
                    }
                },
                "outputId": "4f426e21-88ae-4b9e-a66c-5f2615939d71"
            },
            "cell_type": "code",
            "source": "c",
            "execution_count": 46,
            "outputs": [
                {
                    "output_type": "execute_result",
                    "execution_count": 46,
                    "data": {
                        "text/plain": "'4.691000000000031,-74.03344796899995'"
                    },
                    "metadata": {}
                }
            ]
        },
        {
            "metadata": {
                "id": "FpZrBiKhxa2c",
                "colab_type": "text"
            },
            "cell_type": "markdown",
            "source": "Looks good, We Copy over the postal codes of Bogota to pass it into the geolocator function that we just defined above"
        },
        {
            "metadata": {
                "id": "r_-hXTxJQQcY",
                "colab_type": "code",
                "colab": {
                    "base_uri": "https://localhost:8080/",
                    "height": 221
                },
                "executionInfo": {
                    "status": "ok",
                    "timestamp": 1597724186148,
                    "user_tz": -330,
                    "elapsed": 63744,
                    "user": {
                        "displayName": "Thomas George Thomas",
                        "photoUrl": "https://lh3.googleusercontent.com/a-/AOh14GhRjmtno5yCmJOUjYiFNGHi_xP5YZBJ1ZpWGKsZ=s64",
                        "userId": "09561174857978505545"
                    }
                },
                "outputId": "1c3fcdb1-ae28-4040-9459-0c5fe25ce9d1"
            },
            "cell_type": "code",
            "source": "coordinates = df['post_code']    \ncoordinates",
            "execution_count": 106,
            "outputs": [
                {
                    "output_type": "execute_result",
                    "execution_count": 106,
                    "data": {
                        "text/plain": "0     110111\n1     110211\n2     110311\n3     110411\n4     110511\n5     110611\n6     110711\n7     110811\n8     110911\n9     111011\n10    111111\n11    111211\n12    111311\n13    111411\n14    111511\n15    111611\n16    111711\n17    111811\n18    111911\n19    112011\nName: post_code, dtype: object"
                    },
                    "metadata": {}
                }
            ]
        },
        {
            "metadata": {
                "id": "FG6kCaJRxq9T",
                "colab_type": "text"
            },
            "cell_type": "markdown",
            "source": "Passing postal codes of Bogota to get the geographical co-ordinates"
        },
        {
            "metadata": {
                "id": "E3EthgS-qipG",
                "colab_type": "code",
                "colab": {
                    "base_uri": "https://localhost:8080/",
                    "height": 221
                },
                "executionInfo": {
                    "status": "ok",
                    "timestamp": 1597724201731,
                    "user_tz": -330,
                    "elapsed": 79313,
                    "user": {
                        "displayName": "Thomas George Thomas",
                        "photoUrl": "https://lh3.googleusercontent.com/a-/AOh14GhRjmtno5yCmJOUjYiFNGHi_xP5YZBJ1ZpWGKsZ=s64",
                        "userId": "09561174857978505545"
                    }
                },
                "outputId": "48cefe94-a908-4b6c-d9d5-fffdd46f2bf1"
            },
            "cell_type": "code",
            "source": "coordinates_latlng_bg = coordinates.apply(lambda x: get_x_y_uk(x))\ncoordinates_latlng_bg",
            "execution_count": 107,
            "outputs": [
                {
                    "output_type": "execute_result",
                    "execution_count": 107,
                    "data": {
                        "text/plain": "0      4.691000000000031,-74.03344796899995\n1      4.667800000000057,-74.02591031199995\n2     4.5902545530000225,-74.02563020599996\n3      4.560310000000072,-74.05352330099998\n4      4.496341219000044,-74.13080999999994\n5      4.584725000000049,-74.14117047199994\n6      4.638727325000048,-74.18991999999997\n7     4.6525550000000635,-74.15529871899997\n8      4.695895000000064,-74.14457572699996\n9      4.724539094000022,-74.11550499999998\n10    4.7080964370000515,-74.06316999999996\n11      4.67783038400006,-74.07160499999998\n12     4.633319682000035,-74.07290770799995\n13     4.604255667000075,-74.08991499999996\n14     4.587130000000059,-74.09692978299995\n15     4.624250000000075,-74.10372384099998\n16     4.599095000000034,-74.07197925799994\n17    4.5797300000000405,-74.11682462899995\n18     4.577027933000068,-74.15146499999997\n19     4.223149782000064,-74.18503057699996\nName: post_code, dtype: object"
                    },
                    "metadata": {}
                }
            ]
        },
        {
            "metadata": {
                "id": "1hNQz4woxxhQ",
                "colab_type": "text"
            },
            "cell_type": "markdown",
            "source": "### Latitude\n\nExtracting the latitude from our previously collected coordinates"
        },
        {
            "metadata": {
                "id": "0l8d15Uhw5kU",
                "colab_type": "code",
                "colab": {
                    "base_uri": "https://localhost:8080/",
                    "height": 221
                },
                "executionInfo": {
                    "status": "ok",
                    "timestamp": 1597724201733,
                    "user_tz": -330,
                    "elapsed": 79303,
                    "user": {
                        "displayName": "Thomas George Thomas",
                        "photoUrl": "https://lh3.googleusercontent.com/a-/AOh14GhRjmtno5yCmJOUjYiFNGHi_xP5YZBJ1ZpWGKsZ=s64",
                        "userId": "09561174857978505545"
                    }
                },
                "outputId": "1a8f244b-c833-4349-ebfb-5a3c143edf58"
            },
            "cell_type": "code",
            "source": "lat = coordinates_latlng_bg.apply(lambda x: x.split(',')[0])\nlat",
            "execution_count": 108,
            "outputs": [
                {
                    "output_type": "execute_result",
                    "execution_count": 108,
                    "data": {
                        "text/plain": "0      4.691000000000031\n1      4.667800000000057\n2     4.5902545530000225\n3      4.560310000000072\n4      4.496341219000044\n5      4.584725000000049\n6      4.638727325000048\n7     4.6525550000000635\n8      4.695895000000064\n9      4.724539094000022\n10    4.7080964370000515\n11      4.67783038400006\n12     4.633319682000035\n13     4.604255667000075\n14     4.587130000000059\n15     4.624250000000075\n16     4.599095000000034\n17    4.5797300000000405\n18     4.577027933000068\n19     4.223149782000064\nName: post_code, dtype: object"
                    },
                    "metadata": {}
                }
            ]
        },
        {
            "metadata": {
                "id": "Wk-20_87xzOr",
                "colab_type": "text"
            },
            "cell_type": "markdown",
            "source": "### Longitude\n\nExtracting the Longitude from our previously collected coordinates"
        },
        {
            "metadata": {
                "id": "X-pmDdpJxCY2",
                "colab_type": "code",
                "colab": {
                    "base_uri": "https://localhost:8080/",
                    "height": 221
                },
                "executionInfo": {
                    "status": "ok",
                    "timestamp": 1597724201734,
                    "user_tz": -330,
                    "elapsed": 79289,
                    "user": {
                        "displayName": "Thomas George Thomas",
                        "photoUrl": "https://lh3.googleusercontent.com/a-/AOh14GhRjmtno5yCmJOUjYiFNGHi_xP5YZBJ1ZpWGKsZ=s64",
                        "userId": "09561174857978505545"
                    }
                },
                "outputId": "3152f7ec-8e87-4970-fa0b-ffe7cad665b4"
            },
            "cell_type": "code",
            "source": "lng = coordinates_latlng_bg.apply(lambda x: x.split(',')[1])\nlng",
            "execution_count": 109,
            "outputs": [
                {
                    "output_type": "execute_result",
                    "execution_count": 109,
                    "data": {
                        "text/plain": "0     -74.03344796899995\n1     -74.02591031199995\n2     -74.02563020599996\n3     -74.05352330099998\n4     -74.13080999999994\n5     -74.14117047199994\n6     -74.18991999999997\n7     -74.15529871899997\n8     -74.14457572699996\n9     -74.11550499999998\n10    -74.06316999999996\n11    -74.07160499999998\n12    -74.07290770799995\n13    -74.08991499999996\n14    -74.09692978299995\n15    -74.10372384099998\n16    -74.07197925799994\n17    -74.11682462899995\n18    -74.15146499999997\n19    -74.18503057699996\nName: post_code, dtype: object"
                    },
                    "metadata": {}
                }
            ]
        },
        {
            "metadata": {
                "id": "lOIVmOI8yDXJ",
                "colab_type": "text"
            },
            "cell_type": "markdown",
            "source": "We now have the geographical co-ordinates of the localities of Bogota."
        },
        {
            "metadata": {
                "id": "ZofYXau1yk_H",
                "colab_type": "code",
                "colab": {
                    "base_uri": "https://localhost:8080/",
                    "height": 419
                },
                "executionInfo": {
                    "status": "ok",
                    "timestamp": 1597724201736,
                    "user_tz": -330,
                    "elapsed": 79278,
                    "user": {
                        "displayName": "Thomas George Thomas",
                        "photoUrl": "https://lh3.googleusercontent.com/a-/AOh14GhRjmtno5yCmJOUjYiFNGHi_xP5YZBJ1ZpWGKsZ=s64",
                        "userId": "09561174857978505545"
                    }
                },
                "outputId": "1bcb947d-abdf-4bf1-9c2d-0d7a7f43ce44"
            },
            "cell_type": "code",
            "source": "bogota = pd.concat([df,lat.astype(float), lng.astype(float)], axis=1)\nbogota.columns= ['town','post_code','latitude','longitude']\nbogota",
            "execution_count": 111,
            "outputs": [
                {
                    "output_type": "execute_result",
                    "execution_count": 111,
                    "data": {
                        "text/plain": "                  town post_code  latitude  longitude\n0              Usaqu\u00e9n    110111  4.691000 -74.033448\n1            Chapinero    110211  4.667800 -74.025910\n2             Santa Fe    110311  4.590255 -74.025630\n3        San Crist\u00f3bal    110411  4.560310 -74.053523\n4                 Usme    110511  4.496341 -74.130810\n5           Tunjuelito    110611  4.584725 -74.141170\n6                 Bosa    110711  4.638727 -74.189920\n7              Kennedy    110811  4.652555 -74.155299\n8             Fontib\u00f3n    110911  4.695895 -74.144576\n9             Engativ\u00e1    111011  4.724539 -74.115505\n10                Suba    111111  4.708096 -74.063170\n11      Barrios Unidos    111211  4.677830 -74.071605\n12         Teusaquillo    111311  4.633320 -74.072908\n13        Los M\u00e1rtires    111411  4.604256 -74.089915\n14      Antonio Nari\u00f1o    111511  4.587130 -74.096930\n15       Puente Aranda    111611  4.624250 -74.103724\n16       La Candelaria    111711  4.599095 -74.071979\n17  Rafael Uribe Uribe    111811  4.579730 -74.116825\n18      Ciudad Bol\u00edvar    111911  4.577028 -74.151465\n19             Sumapaz    112011  4.223150 -74.185031",
                        "text/html": "<div>\n<style scoped>\n    .dataframe tbody tr th:only-of-type {\n        vertical-align: middle;\n    }\n\n    .dataframe tbody tr th {\n        vertical-align: top;\n    }\n\n    .dataframe thead th {\n        text-align: right;\n    }\n</style>\n<table border=\"1\" class=\"dataframe\">\n  <thead>\n    <tr style=\"text-align: right;\">\n      <th></th>\n      <th>town</th>\n      <th>post_code</th>\n      <th>latitude</th>\n      <th>longitude</th>\n    </tr>\n  </thead>\n  <tbody>\n    <tr>\n      <th>0</th>\n      <td>Usaqu\u00e9n</td>\n      <td>110111</td>\n      <td>4.691000</td>\n      <td>-74.033448</td>\n    </tr>\n    <tr>\n      <th>1</th>\n      <td>Chapinero</td>\n      <td>110211</td>\n      <td>4.667800</td>\n      <td>-74.025910</td>\n    </tr>\n    <tr>\n      <th>2</th>\n      <td>Santa Fe</td>\n      <td>110311</td>\n      <td>4.590255</td>\n      <td>-74.025630</td>\n    </tr>\n    <tr>\n      <th>3</th>\n      <td>San Crist\u00f3bal</td>\n      <td>110411</td>\n      <td>4.560310</td>\n      <td>-74.053523</td>\n    </tr>\n    <tr>\n      <th>4</th>\n      <td>Usme</td>\n      <td>110511</td>\n      <td>4.496341</td>\n      <td>-74.130810</td>\n    </tr>\n    <tr>\n      <th>5</th>\n      <td>Tunjuelito</td>\n      <td>110611</td>\n      <td>4.584725</td>\n      <td>-74.141170</td>\n    </tr>\n    <tr>\n      <th>6</th>\n      <td>Bosa</td>\n      <td>110711</td>\n      <td>4.638727</td>\n      <td>-74.189920</td>\n    </tr>\n    <tr>\n      <th>7</th>\n      <td>Kennedy</td>\n      <td>110811</td>\n      <td>4.652555</td>\n      <td>-74.155299</td>\n    </tr>\n    <tr>\n      <th>8</th>\n      <td>Fontib\u00f3n</td>\n      <td>110911</td>\n      <td>4.695895</td>\n      <td>-74.144576</td>\n    </tr>\n    <tr>\n      <th>9</th>\n      <td>Engativ\u00e1</td>\n      <td>111011</td>\n      <td>4.724539</td>\n      <td>-74.115505</td>\n    </tr>\n    <tr>\n      <th>10</th>\n      <td>Suba</td>\n      <td>111111</td>\n      <td>4.708096</td>\n      <td>-74.063170</td>\n    </tr>\n    <tr>\n      <th>11</th>\n      <td>Barrios Unidos</td>\n      <td>111211</td>\n      <td>4.677830</td>\n      <td>-74.071605</td>\n    </tr>\n    <tr>\n      <th>12</th>\n      <td>Teusaquillo</td>\n      <td>111311</td>\n      <td>4.633320</td>\n      <td>-74.072908</td>\n    </tr>\n    <tr>\n      <th>13</th>\n      <td>Los M\u00e1rtires</td>\n      <td>111411</td>\n      <td>4.604256</td>\n      <td>-74.089915</td>\n    </tr>\n    <tr>\n      <th>14</th>\n      <td>Antonio Nari\u00f1o</td>\n      <td>111511</td>\n      <td>4.587130</td>\n      <td>-74.096930</td>\n    </tr>\n    <tr>\n      <th>15</th>\n      <td>Puente Aranda</td>\n      <td>111611</td>\n      <td>4.624250</td>\n      <td>-74.103724</td>\n    </tr>\n    <tr>\n      <th>16</th>\n      <td>La Candelaria</td>\n      <td>111711</td>\n      <td>4.599095</td>\n      <td>-74.071979</td>\n    </tr>\n    <tr>\n      <th>17</th>\n      <td>Rafael Uribe Uribe</td>\n      <td>111811</td>\n      <td>4.579730</td>\n      <td>-74.116825</td>\n    </tr>\n    <tr>\n      <th>18</th>\n      <td>Ciudad Bol\u00edvar</td>\n      <td>111911</td>\n      <td>4.577028</td>\n      <td>-74.151465</td>\n    </tr>\n    <tr>\n      <th>19</th>\n      <td>Sumapaz</td>\n      <td>112011</td>\n      <td>4.223150</td>\n      <td>-74.185031</td>\n    </tr>\n  </tbody>\n</table>\n</div>"
                    },
                    "metadata": {}
                }
            ]
        },
        {
            "metadata": {
                "id": "VJfym93n6MDg",
                "colab_type": "code",
                "colab": {
                    "base_uri": "https://localhost:8080/",
                    "height": 119
                },
                "executionInfo": {
                    "status": "ok",
                    "timestamp": 1597724201737,
                    "user_tz": -330,
                    "elapsed": 79267,
                    "user": {
                        "displayName": "Thomas George Thomas",
                        "photoUrl": "https://lh3.googleusercontent.com/a-/AOh14GhRjmtno5yCmJOUjYiFNGHi_xP5YZBJ1ZpWGKsZ=s64",
                        "userId": "09561174857978505545"
                    }
                },
                "outputId": "4e447870-be7d-483c-e8ce-b826000ed3da"
            },
            "cell_type": "code",
            "source": "bogota.dtypes",
            "execution_count": 112,
            "outputs": [
                {
                    "output_type": "execute_result",
                    "execution_count": 112,
                    "data": {
                        "text/plain": "town          object\npost_code     object\nlatitude     float64\nlongitude    float64\ndtype: object"
                    },
                    "metadata": {}
                }
            ]
        },
        {
            "metadata": {
                "id": "1XLMDLHv8Xn3",
                "colab_type": "text"
            },
            "cell_type": "markdown",
            "source": "### Co-ordinates for Bogota"
        },
        {
            "metadata": {
                "id": "41f8qjYwBWKn",
                "colab_type": "text"
            },
            "cell_type": "markdown",
            "source": "Getting the geocode for Bogota to help visualize it on the map"
        },
        {
            "metadata": {
                "id": "WJ7kEgdYzftU",
                "colab_type": "code",
                "colab": {
                    "base_uri": "https://localhost:8080/",
                    "height": 34
                },
                "executionInfo": {
                    "status": "ok",
                    "timestamp": 1597724201738,
                    "user_tz": -330,
                    "elapsed": 79255,
                    "user": {
                        "displayName": "Thomas George Thomas",
                        "photoUrl": "https://lh3.googleusercontent.com/a-/AOh14GhRjmtno5yCmJOUjYiFNGHi_xP5YZBJ1ZpWGKsZ=s64",
                        "userId": "09561174857978505545"
                    }
                },
                "outputId": "060e2992-6545-4e06-8df9-69b046e54fbe"
            },
            "cell_type": "code",
            "source": "bogota_cood = geocode(address='Bogota, Colombia, GBR')[0]\nbogota_lng_coords = bogota_cood['location']['x']\nbogota_lat_coords = bogota_cood['location']['y']\nbogota_lng_coords",
            "execution_count": 117,
            "outputs": [
                {
                    "output_type": "execute_result",
                    "execution_count": 117,
                    "data": {
                        "text/plain": "-74.06940999999995"
                    },
                    "metadata": {}
                }
            ]
        },
        {
            "metadata": {
                "id": "3I1vBFjn2MHg",
                "colab_type": "code",
                "colab": {
                    "base_uri": "https://localhost:8080/",
                    "height": 34
                },
                "executionInfo": {
                    "status": "ok",
                    "timestamp": 1597724201741,
                    "user_tz": -330,
                    "elapsed": 79245,
                    "user": {
                        "displayName": "Thomas George Thomas",
                        "photoUrl": "https://lh3.googleusercontent.com/a-/AOh14GhRjmtno5yCmJOUjYiFNGHi_xP5YZBJ1ZpWGKsZ=s64",
                        "userId": "09561174857978505545"
                    }
                },
                "outputId": "152e3188-0be4-40b8-d25d-dbfd31d86740"
            },
            "cell_type": "code",
            "source": "bogota_lat_coords",
            "execution_count": 118,
            "outputs": [
                {
                    "output_type": "execute_result",
                    "execution_count": 118,
                    "data": {
                        "text/plain": "4.614960000000053"
                    },
                    "metadata": {}
                }
            ]
        },
        {
            "metadata": {
                "id": "sQ9z3SG6_xz1",
                "colab_type": "text"
            },
            "cell_type": "markdown",
            "source": "## Visualize the Map of Bogota"
        },
        {
            "metadata": {
                "id": "zcHE91lR3pSo",
                "colab_type": "code",
                "colab": {
                    "base_uri": "https://localhost:8080/",
                    "height": 562
                },
                "executionInfo": {
                    "status": "ok",
                    "timestamp": 1597724202881,
                    "user_tz": -330,
                    "elapsed": 80372,
                    "user": {
                        "displayName": "Thomas George Thomas",
                        "photoUrl": "https://lh3.googleusercontent.com/a-/AOh14GhRjmtno5yCmJOUjYiFNGHi_xP5YZBJ1ZpWGKsZ=s64",
                        "userId": "09561174857978505545"
                    }
                },
                "outputId": "218a8a6b-d8d3-4cd4-cbf5-2208fefa287c"
            },
            "cell_type": "code",
            "source": "map_bogota = folium.Map(location=[bogota_lat_coords, bogota_lng_coords], zoom_start=12)\nmap_bogota\n\nfor latitude, longitude, town in zip(bogota['latitude'], bogota['longitude'], bogota['town']):\n    label = '{}'.format(town)\n    label = folium.Popup(label, parse_html=True)\n    folium.CircleMarker(\n        [latitude, longitude],\n        radius=5,\n        popup=label,\n        color='red',\n        fill=True\n        ).add_to(map_bogota)  \n    \nmap_bogota",
            "execution_count": 123,
            "outputs": [
                {
                    "output_type": "execute_result",
                    "execution_count": 123,
                    "data": {
                        "text/plain": "<folium.folium.Map at 0x7f4f08123f50>",
                        "text/html": "<div style=\"width:100%;\"><div style=\"position:relative;width:100%;height:0;padding-bottom:60%;\"><span style=\"color:#565656\">Make this Notebook Trusted to load map: File -> Trust Notebook</span><iframe src=\"about:blank\" style=\"position:absolute;width:100%;height:100%;left:0;top:0;border:none !important;\" data-html=%3C%21DOCTYPE%20html%3E%0A%3Chead%3E%20%20%20%20%0A%20%20%20%20%3Cmeta%20http-equiv%3D%22content-type%22%20content%3D%22text/html%3B%20charset%3DUTF-8%22%20/%3E%0A%20%20%20%20%0A%20%20%20%20%20%20%20%20%3Cscript%3E%0A%20%20%20%20%20%20%20%20%20%20%20%20L_NO_TOUCH%20%3D%20false%3B%0A%20%20%20%20%20%20%20%20%20%20%20%20L_DISABLE_3D%20%3D%20false%3B%0A%20%20%20%20%20%20%20%20%3C/script%3E%0A%20%20%20%20%0A%20%20%20%20%3Cstyle%3Ehtml%2C%20body%20%7Bwidth%3A%20100%25%3Bheight%3A%20100%25%3Bmargin%3A%200%3Bpadding%3A%200%3B%7D%3C/style%3E%0A%20%20%20%20%3Cstyle%3E%23map%20%7Bposition%3Aabsolute%3Btop%3A0%3Bbottom%3A0%3Bright%3A0%3Bleft%3A0%3B%7D%3C/style%3E%0A%20%20%20%20%3Cscript%20src%3D%22https%3A//cdn.jsdelivr.net/npm/leaflet%401.6.0/dist/leaflet.js%22%3E%3C/script%3E%0A%20%20%20%20%3Cscript%20src%3D%22https%3A//code.jquery.com/jquery-1.12.4.min.js%22%3E%3C/script%3E%0A%20%20%20%20%3Cscript%20src%3D%22https%3A//maxcdn.bootstrapcdn.com/bootstrap/3.2.0/js/bootstrap.min.js%22%3E%3C/script%3E%0A%20%20%20%20%3Cscript%20src%3D%22https%3A//cdnjs.cloudflare.com/ajax/libs/Leaflet.awesome-markers/2.0.2/leaflet.awesome-markers.js%22%3E%3C/script%3E%0A%20%20%20%20%3Clink%20rel%3D%22stylesheet%22%20href%3D%22https%3A//cdn.jsdelivr.net/npm/leaflet%401.6.0/dist/leaflet.css%22/%3E%0A%20%20%20%20%3Clink%20rel%3D%22stylesheet%22%20href%3D%22https%3A//maxcdn.bootstrapcdn.com/bootstrap/3.2.0/css/bootstrap.min.css%22/%3E%0A%20%20%20%20%3Clink%20rel%3D%22stylesheet%22%20href%3D%22https%3A//maxcdn.bootstrapcdn.com/bootstrap/3.2.0/css/bootstrap-theme.min.css%22/%3E%0A%20%20%20%20%3Clink%20rel%3D%22stylesheet%22%20href%3D%22https%3A//maxcdn.bootstrapcdn.com/font-awesome/4.6.3/css/font-awesome.min.css%22/%3E%0A%20%20%20%20%3Clink%20rel%3D%22stylesheet%22%20href%3D%22https%3A//cdnjs.cloudflare.com/ajax/libs/Leaflet.awesome-markers/2.0.2/leaflet.awesome-markers.css%22/%3E%0A%20%20%20%20%3Clink%20rel%3D%22stylesheet%22%20href%3D%22https%3A//cdn.jsdelivr.net/gh/python-visualization/folium/folium/templates/leaflet.awesome.rotate.min.css%22/%3E%0A%20%20%20%20%0A%20%20%20%20%20%20%20%20%20%20%20%20%3Cmeta%20name%3D%22viewport%22%20content%3D%22width%3Ddevice-width%2C%0A%20%20%20%20%20%20%20%20%20%20%20%20%20%20%20%20initial-scale%3D1.0%2C%20maximum-scale%3D1.0%2C%20user-scalable%3Dno%22%20/%3E%0A%20%20%20%20%20%20%20%20%20%20%20%20%3Cstyle%3E%0A%20%20%20%20%20%20%20%20%20%20%20%20%20%20%20%20%23map_5d80ef6645b54122a1c4434fe5ad99ee%20%7B%0A%20%20%20%20%20%20%20%20%20%20%20%20%20%20%20%20%20%20%20%20position%3A%20relative%3B%0A%20%20%20%20%20%20%20%20%20%20%20%20%20%20%20%20%20%20%20%20width%3A%20100.0%25%3B%0A%20%20%20%20%20%20%20%20%20%20%20%20%20%20%20%20%20%20%20%20height%3A%20100.0%25%3B%0A%20%20%20%20%20%20%20%20%20%20%20%20%20%20%20%20%20%20%20%20left%3A%200.0%25%3B%0A%20%20%20%20%20%20%20%20%20%20%20%20%20%20%20%20%20%20%20%20top%3A%200.0%25%3B%0A%20%20%20%20%20%20%20%20%20%20%20%20%20%20%20%20%7D%0A%20%20%20%20%20%20%20%20%20%20%20%20%3C/style%3E%0A%20%20%20%20%20%20%20%20%0A%3C/head%3E%0A%3Cbody%3E%20%20%20%20%0A%20%20%20%20%0A%20%20%20%20%20%20%20%20%20%20%20%20%3Cdiv%20class%3D%22folium-map%22%20id%3D%22map_5d80ef6645b54122a1c4434fe5ad99ee%22%20%3E%3C/div%3E%0A%20%20%20%20%20%20%20%20%0A%3C/body%3E%0A%3Cscript%3E%20%20%20%20%0A%20%20%20%20%0A%20%20%20%20%20%20%20%20%20%20%20%20var%20map_5d80ef6645b54122a1c4434fe5ad99ee%20%3D%20L.map%28%0A%20%20%20%20%20%20%20%20%20%20%20%20%20%20%20%20%22map_5d80ef6645b54122a1c4434fe5ad99ee%22%2C%0A%20%20%20%20%20%20%20%20%20%20%20%20%20%20%20%20%7B%0A%20%20%20%20%20%20%20%20%20%20%20%20%20%20%20%20%20%20%20%20center%3A%20%5B4.614960000000053%2C%20-74.06940999999995%5D%2C%0A%20%20%20%20%20%20%20%20%20%20%20%20%20%20%20%20%20%20%20%20crs%3A%20L.CRS.EPSG3857%2C%0A%20%20%20%20%20%20%20%20%20%20%20%20%20%20%20%20%20%20%20%20zoom%3A%2012%2C%0A%20%20%20%20%20%20%20%20%20%20%20%20%20%20%20%20%20%20%20%20zoomControl%3A%20true%2C%0A%20%20%20%20%20%20%20%20%20%20%20%20%20%20%20%20%20%20%20%20preferCanvas%3A%20false%2C%0A%20%20%20%20%20%20%20%20%20%20%20%20%20%20%20%20%7D%0A%20%20%20%20%20%20%20%20%20%20%20%20%29%3B%0A%0A%20%20%20%20%20%20%20%20%20%20%20%20%0A%0A%20%20%20%20%20%20%20%20%0A%20%20%20%20%0A%20%20%20%20%20%20%20%20%20%20%20%20var%20tile_layer_056d33333e6040b7b811466cf801aaef%20%3D%20L.tileLayer%28%0A%20%20%20%20%20%20%20%20%20%20%20%20%20%20%20%20%22https%3A//%7Bs%7D.tile.openstreetmap.org/%7Bz%7D/%7Bx%7D/%7By%7D.png%22%2C%0A%20%20%20%20%20%20%20%20%20%20%20%20%20%20%20%20%7B%22attribution%22%3A%20%22Data%20by%20%5Cu0026copy%3B%20%5Cu003ca%20href%3D%5C%22http%3A//openstreetmap.org%5C%22%5Cu003eOpenStreetMap%5Cu003c/a%5Cu003e%2C%20under%20%5Cu003ca%20href%3D%5C%22http%3A//www.openstreetmap.org/copyright%5C%22%5Cu003eODbL%5Cu003c/a%5Cu003e.%22%2C%20%22detectRetina%22%3A%20false%2C%20%22maxNativeZoom%22%3A%2018%2C%20%22maxZoom%22%3A%2018%2C%20%22minZoom%22%3A%200%2C%20%22noWrap%22%3A%20false%2C%20%22opacity%22%3A%201%2C%20%22subdomains%22%3A%20%22abc%22%2C%20%22tms%22%3A%20false%7D%0A%20%20%20%20%20%20%20%20%20%20%20%20%29.addTo%28map_5d80ef6645b54122a1c4434fe5ad99ee%29%3B%0A%20%20%20%20%20%20%20%20%0A%20%20%20%20%0A%20%20%20%20%20%20%20%20%20%20%20%20var%20circle_marker_502151e1b32d4a6181445faa272e12f0%20%3D%20L.circleMarker%28%0A%20%20%20%20%20%20%20%20%20%20%20%20%20%20%20%20%5B4.691000000000031%2C%20-74.03344796899995%5D%2C%0A%20%20%20%20%20%20%20%20%20%20%20%20%20%20%20%20%7B%22bubblingMouseEvents%22%3A%20true%2C%20%22color%22%3A%20%22red%22%2C%20%22dashArray%22%3A%20null%2C%20%22dashOffset%22%3A%20null%2C%20%22fill%22%3A%20true%2C%20%22fillColor%22%3A%20%22red%22%2C%20%22fillOpacity%22%3A%200.2%2C%20%22fillRule%22%3A%20%22evenodd%22%2C%20%22lineCap%22%3A%20%22round%22%2C%20%22lineJoin%22%3A%20%22round%22%2C%20%22opacity%22%3A%201.0%2C%20%22radius%22%3A%205%2C%20%22stroke%22%3A%20true%2C%20%22weight%22%3A%203%7D%0A%20%20%20%20%20%20%20%20%20%20%20%20%29.addTo%28map_5d80ef6645b54122a1c4434fe5ad99ee%29%3B%0A%20%20%20%20%20%20%20%20%0A%20%20%20%20%0A%20%20%20%20%20%20%20%20var%20popup_0f5f01f7e6a24421a9d9af932dcc4e61%20%3D%20L.popup%28%7B%22maxWidth%22%3A%20%22100%25%22%7D%29%3B%0A%0A%20%20%20%20%20%20%20%20%0A%20%20%20%20%20%20%20%20%20%20%20%20var%20html_de1aecf3f46d4357a019b5b62f2d8e76%20%3D%20%24%28%60%3Cdiv%20id%3D%22html_de1aecf3f46d4357a019b5b62f2d8e76%22%20style%3D%22width%3A%20100.0%25%3B%20height%3A%20100.0%25%3B%22%3EUsaqu%C3%A9n%3C/div%3E%60%29%5B0%5D%3B%0A%20%20%20%20%20%20%20%20%20%20%20%20popup_0f5f01f7e6a24421a9d9af932dcc4e61.setContent%28html_de1aecf3f46d4357a019b5b62f2d8e76%29%3B%0A%20%20%20%20%20%20%20%20%0A%0A%20%20%20%20%20%20%20%20circle_marker_502151e1b32d4a6181445faa272e12f0.bindPopup%28popup_0f5f01f7e6a24421a9d9af932dcc4e61%29%0A%20%20%20%20%20%20%20%20%3B%0A%0A%20%20%20%20%20%20%20%20%0A%20%20%20%20%0A%20%20%20%20%0A%20%20%20%20%20%20%20%20%20%20%20%20var%20circle_marker_acfa50bbb4864f38b7cabff94282c284%20%3D%20L.circleMarker%28%0A%20%20%20%20%20%20%20%20%20%20%20%20%20%20%20%20%5B4.667800000000057%2C%20-74.02591031199995%5D%2C%0A%20%20%20%20%20%20%20%20%20%20%20%20%20%20%20%20%7B%22bubblingMouseEvents%22%3A%20true%2C%20%22color%22%3A%20%22red%22%2C%20%22dashArray%22%3A%20null%2C%20%22dashOffset%22%3A%20null%2C%20%22fill%22%3A%20true%2C%20%22fillColor%22%3A%20%22red%22%2C%20%22fillOpacity%22%3A%200.2%2C%20%22fillRule%22%3A%20%22evenodd%22%2C%20%22lineCap%22%3A%20%22round%22%2C%20%22lineJoin%22%3A%20%22round%22%2C%20%22opacity%22%3A%201.0%2C%20%22radius%22%3A%205%2C%20%22stroke%22%3A%20true%2C%20%22weight%22%3A%203%7D%0A%20%20%20%20%20%20%20%20%20%20%20%20%29.addTo%28map_5d80ef6645b54122a1c4434fe5ad99ee%29%3B%0A%20%20%20%20%20%20%20%20%0A%20%20%20%20%0A%20%20%20%20%20%20%20%20var%20popup_6247f661ce28484b94b0ea6757397698%20%3D%20L.popup%28%7B%22maxWidth%22%3A%20%22100%25%22%7D%29%3B%0A%0A%20%20%20%20%20%20%20%20%0A%20%20%20%20%20%20%20%20%20%20%20%20var%20html_2da05c737beb41f4bcf2994cbc1d8db1%20%3D%20%24%28%60%3Cdiv%20id%3D%22html_2da05c737beb41f4bcf2994cbc1d8db1%22%20style%3D%22width%3A%20100.0%25%3B%20height%3A%20100.0%25%3B%22%3EChapinero%3C/div%3E%60%29%5B0%5D%3B%0A%20%20%20%20%20%20%20%20%20%20%20%20popup_6247f661ce28484b94b0ea6757397698.setContent%28html_2da05c737beb41f4bcf2994cbc1d8db1%29%3B%0A%20%20%20%20%20%20%20%20%0A%0A%20%20%20%20%20%20%20%20circle_marker_acfa50bbb4864f38b7cabff94282c284.bindPopup%28popup_6247f661ce28484b94b0ea6757397698%29%0A%20%20%20%20%20%20%20%20%3B%0A%0A%20%20%20%20%20%20%20%20%0A%20%20%20%20%0A%20%20%20%20%0A%20%20%20%20%20%20%20%20%20%20%20%20var%20circle_marker_6ce1ef4e042242c09e2ad04e012faf10%20%3D%20L.circleMarker%28%0A%20%20%20%20%20%20%20%20%20%20%20%20%20%20%20%20%5B4.5902545530000225%2C%20-74.02563020599996%5D%2C%0A%20%20%20%20%20%20%20%20%20%20%20%20%20%20%20%20%7B%22bubblingMouseEvents%22%3A%20true%2C%20%22color%22%3A%20%22red%22%2C%20%22dashArray%22%3A%20null%2C%20%22dashOffset%22%3A%20null%2C%20%22fill%22%3A%20true%2C%20%22fillColor%22%3A%20%22red%22%2C%20%22fillOpacity%22%3A%200.2%2C%20%22fillRule%22%3A%20%22evenodd%22%2C%20%22lineCap%22%3A%20%22round%22%2C%20%22lineJoin%22%3A%20%22round%22%2C%20%22opacity%22%3A%201.0%2C%20%22radius%22%3A%205%2C%20%22stroke%22%3A%20true%2C%20%22weight%22%3A%203%7D%0A%20%20%20%20%20%20%20%20%20%20%20%20%29.addTo%28map_5d80ef6645b54122a1c4434fe5ad99ee%29%3B%0A%20%20%20%20%20%20%20%20%0A%20%20%20%20%0A%20%20%20%20%20%20%20%20var%20popup_9a0fd527286f4f33a0d3b11d6e8438c5%20%3D%20L.popup%28%7B%22maxWidth%22%3A%20%22100%25%22%7D%29%3B%0A%0A%20%20%20%20%20%20%20%20%0A%20%20%20%20%20%20%20%20%20%20%20%20var%20html_a32938d45f8542168c60fc0f1b002af5%20%3D%20%24%28%60%3Cdiv%20id%3D%22html_a32938d45f8542168c60fc0f1b002af5%22%20style%3D%22width%3A%20100.0%25%3B%20height%3A%20100.0%25%3B%22%3ESanta%20Fe%3C/div%3E%60%29%5B0%5D%3B%0A%20%20%20%20%20%20%20%20%20%20%20%20popup_9a0fd527286f4f33a0d3b11d6e8438c5.setContent%28html_a32938d45f8542168c60fc0f1b002af5%29%3B%0A%20%20%20%20%20%20%20%20%0A%0A%20%20%20%20%20%20%20%20circle_marker_6ce1ef4e042242c09e2ad04e012faf10.bindPopup%28popup_9a0fd527286f4f33a0d3b11d6e8438c5%29%0A%20%20%20%20%20%20%20%20%3B%0A%0A%20%20%20%20%20%20%20%20%0A%20%20%20%20%0A%20%20%20%20%0A%20%20%20%20%20%20%20%20%20%20%20%20var%20circle_marker_22c16bde542d410385d68284f51ff676%20%3D%20L.circleMarker%28%0A%20%20%20%20%20%20%20%20%20%20%20%20%20%20%20%20%5B4.560310000000072%2C%20-74.05352330099998%5D%2C%0A%20%20%20%20%20%20%20%20%20%20%20%20%20%20%20%20%7B%22bubblingMouseEvents%22%3A%20true%2C%20%22color%22%3A%20%22red%22%2C%20%22dashArray%22%3A%20null%2C%20%22dashOffset%22%3A%20null%2C%20%22fill%22%3A%20true%2C%20%22fillColor%22%3A%20%22red%22%2C%20%22fillOpacity%22%3A%200.2%2C%20%22fillRule%22%3A%20%22evenodd%22%2C%20%22lineCap%22%3A%20%22round%22%2C%20%22lineJoin%22%3A%20%22round%22%2C%20%22opacity%22%3A%201.0%2C%20%22radius%22%3A%205%2C%20%22stroke%22%3A%20true%2C%20%22weight%22%3A%203%7D%0A%20%20%20%20%20%20%20%20%20%20%20%20%29.addTo%28map_5d80ef6645b54122a1c4434fe5ad99ee%29%3B%0A%20%20%20%20%20%20%20%20%0A%20%20%20%20%0A%20%20%20%20%20%20%20%20var%20popup_95c28ea427d249f3b21f2fcb87f9ec44%20%3D%20L.popup%28%7B%22maxWidth%22%3A%20%22100%25%22%7D%29%3B%0A%0A%20%20%20%20%20%20%20%20%0A%20%20%20%20%20%20%20%20%20%20%20%20var%20html_d4208a4647d34165b56b8dd6a8756c11%20%3D%20%24%28%60%3Cdiv%20id%3D%22html_d4208a4647d34165b56b8dd6a8756c11%22%20style%3D%22width%3A%20100.0%25%3B%20height%3A%20100.0%25%3B%22%3ESan%20Crist%C3%B3bal%3C/div%3E%60%29%5B0%5D%3B%0A%20%20%20%20%20%20%20%20%20%20%20%20popup_95c28ea427d249f3b21f2fcb87f9ec44.setContent%28html_d4208a4647d34165b56b8dd6a8756c11%29%3B%0A%20%20%20%20%20%20%20%20%0A%0A%20%20%20%20%20%20%20%20circle_marker_22c16bde542d410385d68284f51ff676.bindPopup%28popup_95c28ea427d249f3b21f2fcb87f9ec44%29%0A%20%20%20%20%20%20%20%20%3B%0A%0A%20%20%20%20%20%20%20%20%0A%20%20%20%20%0A%20%20%20%20%0A%20%20%20%20%20%20%20%20%20%20%20%20var%20circle_marker_43b370d6cb5146d8bfa3305cd34180fc%20%3D%20L.circleMarker%28%0A%20%20%20%20%20%20%20%20%20%20%20%20%20%20%20%20%5B4.496341219000044%2C%20-74.13080999999994%5D%2C%0A%20%20%20%20%20%20%20%20%20%20%20%20%20%20%20%20%7B%22bubblingMouseEvents%22%3A%20true%2C%20%22color%22%3A%20%22red%22%2C%20%22dashArray%22%3A%20null%2C%20%22dashOffset%22%3A%20null%2C%20%22fill%22%3A%20true%2C%20%22fillColor%22%3A%20%22red%22%2C%20%22fillOpacity%22%3A%200.2%2C%20%22fillRule%22%3A%20%22evenodd%22%2C%20%22lineCap%22%3A%20%22round%22%2C%20%22lineJoin%22%3A%20%22round%22%2C%20%22opacity%22%3A%201.0%2C%20%22radius%22%3A%205%2C%20%22stroke%22%3A%20true%2C%20%22weight%22%3A%203%7D%0A%20%20%20%20%20%20%20%20%20%20%20%20%29.addTo%28map_5d80ef6645b54122a1c4434fe5ad99ee%29%3B%0A%20%20%20%20%20%20%20%20%0A%20%20%20%20%0A%20%20%20%20%20%20%20%20var%20popup_7b37957178574811bc61da4e86c79227%20%3D%20L.popup%28%7B%22maxWidth%22%3A%20%22100%25%22%7D%29%3B%0A%0A%20%20%20%20%20%20%20%20%0A%20%20%20%20%20%20%20%20%20%20%20%20var%20html_4ef80abd92f141e1a674640901d5f903%20%3D%20%24%28%60%3Cdiv%20id%3D%22html_4ef80abd92f141e1a674640901d5f903%22%20style%3D%22width%3A%20100.0%25%3B%20height%3A%20100.0%25%3B%22%3EUsme%3C/div%3E%60%29%5B0%5D%3B%0A%20%20%20%20%20%20%20%20%20%20%20%20popup_7b37957178574811bc61da4e86c79227.setContent%28html_4ef80abd92f141e1a674640901d5f903%29%3B%0A%20%20%20%20%20%20%20%20%0A%0A%20%20%20%20%20%20%20%20circle_marker_43b370d6cb5146d8bfa3305cd34180fc.bindPopup%28popup_7b37957178574811bc61da4e86c79227%29%0A%20%20%20%20%20%20%20%20%3B%0A%0A%20%20%20%20%20%20%20%20%0A%20%20%20%20%0A%20%20%20%20%0A%20%20%20%20%20%20%20%20%20%20%20%20var%20circle_marker_c38df06bccdb430684349835d22c355a%20%3D%20L.circleMarker%28%0A%20%20%20%20%20%20%20%20%20%20%20%20%20%20%20%20%5B4.584725000000049%2C%20-74.14117047199994%5D%2C%0A%20%20%20%20%20%20%20%20%20%20%20%20%20%20%20%20%7B%22bubblingMouseEvents%22%3A%20true%2C%20%22color%22%3A%20%22red%22%2C%20%22dashArray%22%3A%20null%2C%20%22dashOffset%22%3A%20null%2C%20%22fill%22%3A%20true%2C%20%22fillColor%22%3A%20%22red%22%2C%20%22fillOpacity%22%3A%200.2%2C%20%22fillRule%22%3A%20%22evenodd%22%2C%20%22lineCap%22%3A%20%22round%22%2C%20%22lineJoin%22%3A%20%22round%22%2C%20%22opacity%22%3A%201.0%2C%20%22radius%22%3A%205%2C%20%22stroke%22%3A%20true%2C%20%22weight%22%3A%203%7D%0A%20%20%20%20%20%20%20%20%20%20%20%20%29.addTo%28map_5d80ef6645b54122a1c4434fe5ad99ee%29%3B%0A%20%20%20%20%20%20%20%20%0A%20%20%20%20%0A%20%20%20%20%20%20%20%20var%20popup_ab8f422cbf03451398291aed65c3f041%20%3D%20L.popup%28%7B%22maxWidth%22%3A%20%22100%25%22%7D%29%3B%0A%0A%20%20%20%20%20%20%20%20%0A%20%20%20%20%20%20%20%20%20%20%20%20var%20html_2411a37a60b243f7977bc3fabfa6e3ec%20%3D%20%24%28%60%3Cdiv%20id%3D%22html_2411a37a60b243f7977bc3fabfa6e3ec%22%20style%3D%22width%3A%20100.0%25%3B%20height%3A%20100.0%25%3B%22%3ETunjuelito%3C/div%3E%60%29%5B0%5D%3B%0A%20%20%20%20%20%20%20%20%20%20%20%20popup_ab8f422cbf03451398291aed65c3f041.setContent%28html_2411a37a60b243f7977bc3fabfa6e3ec%29%3B%0A%20%20%20%20%20%20%20%20%0A%0A%20%20%20%20%20%20%20%20circle_marker_c38df06bccdb430684349835d22c355a.bindPopup%28popup_ab8f422cbf03451398291aed65c3f041%29%0A%20%20%20%20%20%20%20%20%3B%0A%0A%20%20%20%20%20%20%20%20%0A%20%20%20%20%0A%20%20%20%20%0A%20%20%20%20%20%20%20%20%20%20%20%20var%20circle_marker_a615d6aa8eea4d5d88ebbab9b0278236%20%3D%20L.circleMarker%28%0A%20%20%20%20%20%20%20%20%20%20%20%20%20%20%20%20%5B4.638727325000048%2C%20-74.18991999999997%5D%2C%0A%20%20%20%20%20%20%20%20%20%20%20%20%20%20%20%20%7B%22bubblingMouseEvents%22%3A%20true%2C%20%22color%22%3A%20%22red%22%2C%20%22dashArray%22%3A%20null%2C%20%22dashOffset%22%3A%20null%2C%20%22fill%22%3A%20true%2C%20%22fillColor%22%3A%20%22red%22%2C%20%22fillOpacity%22%3A%200.2%2C%20%22fillRule%22%3A%20%22evenodd%22%2C%20%22lineCap%22%3A%20%22round%22%2C%20%22lineJoin%22%3A%20%22round%22%2C%20%22opacity%22%3A%201.0%2C%20%22radius%22%3A%205%2C%20%22stroke%22%3A%20true%2C%20%22weight%22%3A%203%7D%0A%20%20%20%20%20%20%20%20%20%20%20%20%29.addTo%28map_5d80ef6645b54122a1c4434fe5ad99ee%29%3B%0A%20%20%20%20%20%20%20%20%0A%20%20%20%20%0A%20%20%20%20%20%20%20%20var%20popup_3a38073d62864c0294108768b02cd601%20%3D%20L.popup%28%7B%22maxWidth%22%3A%20%22100%25%22%7D%29%3B%0A%0A%20%20%20%20%20%20%20%20%0A%20%20%20%20%20%20%20%20%20%20%20%20var%20html_fdf3fc247dc9430bb4964b3d545aa228%20%3D%20%24%28%60%3Cdiv%20id%3D%22html_fdf3fc247dc9430bb4964b3d545aa228%22%20style%3D%22width%3A%20100.0%25%3B%20height%3A%20100.0%25%3B%22%3EBosa%3C/div%3E%60%29%5B0%5D%3B%0A%20%20%20%20%20%20%20%20%20%20%20%20popup_3a38073d62864c0294108768b02cd601.setContent%28html_fdf3fc247dc9430bb4964b3d545aa228%29%3B%0A%20%20%20%20%20%20%20%20%0A%0A%20%20%20%20%20%20%20%20circle_marker_a615d6aa8eea4d5d88ebbab9b0278236.bindPopup%28popup_3a38073d62864c0294108768b02cd601%29%0A%20%20%20%20%20%20%20%20%3B%0A%0A%20%20%20%20%20%20%20%20%0A%20%20%20%20%0A%20%20%20%20%0A%20%20%20%20%20%20%20%20%20%20%20%20var%20circle_marker_043d1fc3d4a44ea491a6b5cecf38e51e%20%3D%20L.circleMarker%28%0A%20%20%20%20%20%20%20%20%20%20%20%20%20%20%20%20%5B4.6525550000000635%2C%20-74.15529871899997%5D%2C%0A%20%20%20%20%20%20%20%20%20%20%20%20%20%20%20%20%7B%22bubblingMouseEvents%22%3A%20true%2C%20%22color%22%3A%20%22red%22%2C%20%22dashArray%22%3A%20null%2C%20%22dashOffset%22%3A%20null%2C%20%22fill%22%3A%20true%2C%20%22fillColor%22%3A%20%22red%22%2C%20%22fillOpacity%22%3A%200.2%2C%20%22fillRule%22%3A%20%22evenodd%22%2C%20%22lineCap%22%3A%20%22round%22%2C%20%22lineJoin%22%3A%20%22round%22%2C%20%22opacity%22%3A%201.0%2C%20%22radius%22%3A%205%2C%20%22stroke%22%3A%20true%2C%20%22weight%22%3A%203%7D%0A%20%20%20%20%20%20%20%20%20%20%20%20%29.addTo%28map_5d80ef6645b54122a1c4434fe5ad99ee%29%3B%0A%20%20%20%20%20%20%20%20%0A%20%20%20%20%0A%20%20%20%20%20%20%20%20var%20popup_b113ba5b20734b49a4146f181ae285d5%20%3D%20L.popup%28%7B%22maxWidth%22%3A%20%22100%25%22%7D%29%3B%0A%0A%20%20%20%20%20%20%20%20%0A%20%20%20%20%20%20%20%20%20%20%20%20var%20html_729b12f8d7cb48d4b4b63369b96bb7d2%20%3D%20%24%28%60%3Cdiv%20id%3D%22html_729b12f8d7cb48d4b4b63369b96bb7d2%22%20style%3D%22width%3A%20100.0%25%3B%20height%3A%20100.0%25%3B%22%3EKennedy%3C/div%3E%60%29%5B0%5D%3B%0A%20%20%20%20%20%20%20%20%20%20%20%20popup_b113ba5b20734b49a4146f181ae285d5.setContent%28html_729b12f8d7cb48d4b4b63369b96bb7d2%29%3B%0A%20%20%20%20%20%20%20%20%0A%0A%20%20%20%20%20%20%20%20circle_marker_043d1fc3d4a44ea491a6b5cecf38e51e.bindPopup%28popup_b113ba5b20734b49a4146f181ae285d5%29%0A%20%20%20%20%20%20%20%20%3B%0A%0A%20%20%20%20%20%20%20%20%0A%20%20%20%20%0A%20%20%20%20%0A%20%20%20%20%20%20%20%20%20%20%20%20var%20circle_marker_a566251a40f449488ecf6be06881f80f%20%3D%20L.circleMarker%28%0A%20%20%20%20%20%20%20%20%20%20%20%20%20%20%20%20%5B4.695895000000064%2C%20-74.14457572699996%5D%2C%0A%20%20%20%20%20%20%20%20%20%20%20%20%20%20%20%20%7B%22bubblingMouseEvents%22%3A%20true%2C%20%22color%22%3A%20%22red%22%2C%20%22dashArray%22%3A%20null%2C%20%22dashOffset%22%3A%20null%2C%20%22fill%22%3A%20true%2C%20%22fillColor%22%3A%20%22red%22%2C%20%22fillOpacity%22%3A%200.2%2C%20%22fillRule%22%3A%20%22evenodd%22%2C%20%22lineCap%22%3A%20%22round%22%2C%20%22lineJoin%22%3A%20%22round%22%2C%20%22opacity%22%3A%201.0%2C%20%22radius%22%3A%205%2C%20%22stroke%22%3A%20true%2C%20%22weight%22%3A%203%7D%0A%20%20%20%20%20%20%20%20%20%20%20%20%29.addTo%28map_5d80ef6645b54122a1c4434fe5ad99ee%29%3B%0A%20%20%20%20%20%20%20%20%0A%20%20%20%20%0A%20%20%20%20%20%20%20%20var%20popup_780fabe294664543a0338d42be0ea6c6%20%3D%20L.popup%28%7B%22maxWidth%22%3A%20%22100%25%22%7D%29%3B%0A%0A%20%20%20%20%20%20%20%20%0A%20%20%20%20%20%20%20%20%20%20%20%20var%20html_70700674adad4249bb3b70f5641e7af9%20%3D%20%24%28%60%3Cdiv%20id%3D%22html_70700674adad4249bb3b70f5641e7af9%22%20style%3D%22width%3A%20100.0%25%3B%20height%3A%20100.0%25%3B%22%3EFontib%C3%B3n%3C/div%3E%60%29%5B0%5D%3B%0A%20%20%20%20%20%20%20%20%20%20%20%20popup_780fabe294664543a0338d42be0ea6c6.setContent%28html_70700674adad4249bb3b70f5641e7af9%29%3B%0A%20%20%20%20%20%20%20%20%0A%0A%20%20%20%20%20%20%20%20circle_marker_a566251a40f449488ecf6be06881f80f.bindPopup%28popup_780fabe294664543a0338d42be0ea6c6%29%0A%20%20%20%20%20%20%20%20%3B%0A%0A%20%20%20%20%20%20%20%20%0A%20%20%20%20%0A%20%20%20%20%0A%20%20%20%20%20%20%20%20%20%20%20%20var%20circle_marker_4d7334cb50c54b8abb0f1bd9a020b023%20%3D%20L.circleMarker%28%0A%20%20%20%20%20%20%20%20%20%20%20%20%20%20%20%20%5B4.724539094000022%2C%20-74.11550499999998%5D%2C%0A%20%20%20%20%20%20%20%20%20%20%20%20%20%20%20%20%7B%22bubblingMouseEvents%22%3A%20true%2C%20%22color%22%3A%20%22red%22%2C%20%22dashArray%22%3A%20null%2C%20%22dashOffset%22%3A%20null%2C%20%22fill%22%3A%20true%2C%20%22fillColor%22%3A%20%22red%22%2C%20%22fillOpacity%22%3A%200.2%2C%20%22fillRule%22%3A%20%22evenodd%22%2C%20%22lineCap%22%3A%20%22round%22%2C%20%22lineJoin%22%3A%20%22round%22%2C%20%22opacity%22%3A%201.0%2C%20%22radius%22%3A%205%2C%20%22stroke%22%3A%20true%2C%20%22weight%22%3A%203%7D%0A%20%20%20%20%20%20%20%20%20%20%20%20%29.addTo%28map_5d80ef6645b54122a1c4434fe5ad99ee%29%3B%0A%20%20%20%20%20%20%20%20%0A%20%20%20%20%0A%20%20%20%20%20%20%20%20var%20popup_3925ceef652e40a3948cd84d18183ae6%20%3D%20L.popup%28%7B%22maxWidth%22%3A%20%22100%25%22%7D%29%3B%0A%0A%20%20%20%20%20%20%20%20%0A%20%20%20%20%20%20%20%20%20%20%20%20var%20html_5b6db17c97de4feba7775e9248e60211%20%3D%20%24%28%60%3Cdiv%20id%3D%22html_5b6db17c97de4feba7775e9248e60211%22%20style%3D%22width%3A%20100.0%25%3B%20height%3A%20100.0%25%3B%22%3EEngativ%C3%A1%3C/div%3E%60%29%5B0%5D%3B%0A%20%20%20%20%20%20%20%20%20%20%20%20popup_3925ceef652e40a3948cd84d18183ae6.setContent%28html_5b6db17c97de4feba7775e9248e60211%29%3B%0A%20%20%20%20%20%20%20%20%0A%0A%20%20%20%20%20%20%20%20circle_marker_4d7334cb50c54b8abb0f1bd9a020b023.bindPopup%28popup_3925ceef652e40a3948cd84d18183ae6%29%0A%20%20%20%20%20%20%20%20%3B%0A%0A%20%20%20%20%20%20%20%20%0A%20%20%20%20%0A%20%20%20%20%0A%20%20%20%20%20%20%20%20%20%20%20%20var%20circle_marker_333efd9ebfdb4537b71ba066fd7964db%20%3D%20L.circleMarker%28%0A%20%20%20%20%20%20%20%20%20%20%20%20%20%20%20%20%5B4.7080964370000515%2C%20-74.06316999999996%5D%2C%0A%20%20%20%20%20%20%20%20%20%20%20%20%20%20%20%20%7B%22bubblingMouseEvents%22%3A%20true%2C%20%22color%22%3A%20%22red%22%2C%20%22dashArray%22%3A%20null%2C%20%22dashOffset%22%3A%20null%2C%20%22fill%22%3A%20true%2C%20%22fillColor%22%3A%20%22red%22%2C%20%22fillOpacity%22%3A%200.2%2C%20%22fillRule%22%3A%20%22evenodd%22%2C%20%22lineCap%22%3A%20%22round%22%2C%20%22lineJoin%22%3A%20%22round%22%2C%20%22opacity%22%3A%201.0%2C%20%22radius%22%3A%205%2C%20%22stroke%22%3A%20true%2C%20%22weight%22%3A%203%7D%0A%20%20%20%20%20%20%20%20%20%20%20%20%29.addTo%28map_5d80ef6645b54122a1c4434fe5ad99ee%29%3B%0A%20%20%20%20%20%20%20%20%0A%20%20%20%20%0A%20%20%20%20%20%20%20%20var%20popup_d542ab364aef45788c278d2d5d432ebe%20%3D%20L.popup%28%7B%22maxWidth%22%3A%20%22100%25%22%7D%29%3B%0A%0A%20%20%20%20%20%20%20%20%0A%20%20%20%20%20%20%20%20%20%20%20%20var%20html_f963e7b3202d4feeb97b200c48d5aa6f%20%3D%20%24%28%60%3Cdiv%20id%3D%22html_f963e7b3202d4feeb97b200c48d5aa6f%22%20style%3D%22width%3A%20100.0%25%3B%20height%3A%20100.0%25%3B%22%3ESuba%3C/div%3E%60%29%5B0%5D%3B%0A%20%20%20%20%20%20%20%20%20%20%20%20popup_d542ab364aef45788c278d2d5d432ebe.setContent%28html_f963e7b3202d4feeb97b200c48d5aa6f%29%3B%0A%20%20%20%20%20%20%20%20%0A%0A%20%20%20%20%20%20%20%20circle_marker_333efd9ebfdb4537b71ba066fd7964db.bindPopup%28popup_d542ab364aef45788c278d2d5d432ebe%29%0A%20%20%20%20%20%20%20%20%3B%0A%0A%20%20%20%20%20%20%20%20%0A%20%20%20%20%0A%20%20%20%20%0A%20%20%20%20%20%20%20%20%20%20%20%20var%20circle_marker_95c4ed91a3174d4596f2eeb79e131ce8%20%3D%20L.circleMarker%28%0A%20%20%20%20%20%20%20%20%20%20%20%20%20%20%20%20%5B4.67783038400006%2C%20-74.07160499999998%5D%2C%0A%20%20%20%20%20%20%20%20%20%20%20%20%20%20%20%20%7B%22bubblingMouseEvents%22%3A%20true%2C%20%22color%22%3A%20%22red%22%2C%20%22dashArray%22%3A%20null%2C%20%22dashOffset%22%3A%20null%2C%20%22fill%22%3A%20true%2C%20%22fillColor%22%3A%20%22red%22%2C%20%22fillOpacity%22%3A%200.2%2C%20%22fillRule%22%3A%20%22evenodd%22%2C%20%22lineCap%22%3A%20%22round%22%2C%20%22lineJoin%22%3A%20%22round%22%2C%20%22opacity%22%3A%201.0%2C%20%22radius%22%3A%205%2C%20%22stroke%22%3A%20true%2C%20%22weight%22%3A%203%7D%0A%20%20%20%20%20%20%20%20%20%20%20%20%29.addTo%28map_5d80ef6645b54122a1c4434fe5ad99ee%29%3B%0A%20%20%20%20%20%20%20%20%0A%20%20%20%20%0A%20%20%20%20%20%20%20%20var%20popup_abe950183e264dc796ffd490f3a28d08%20%3D%20L.popup%28%7B%22maxWidth%22%3A%20%22100%25%22%7D%29%3B%0A%0A%20%20%20%20%20%20%20%20%0A%20%20%20%20%20%20%20%20%20%20%20%20var%20html_ee78f9db70a4460eb4c71265f20aebfc%20%3D%20%24%28%60%3Cdiv%20id%3D%22html_ee78f9db70a4460eb4c71265f20aebfc%22%20style%3D%22width%3A%20100.0%25%3B%20height%3A%20100.0%25%3B%22%3EBarrios%20Unidos%3C/div%3E%60%29%5B0%5D%3B%0A%20%20%20%20%20%20%20%20%20%20%20%20popup_abe950183e264dc796ffd490f3a28d08.setContent%28html_ee78f9db70a4460eb4c71265f20aebfc%29%3B%0A%20%20%20%20%20%20%20%20%0A%0A%20%20%20%20%20%20%20%20circle_marker_95c4ed91a3174d4596f2eeb79e131ce8.bindPopup%28popup_abe950183e264dc796ffd490f3a28d08%29%0A%20%20%20%20%20%20%20%20%3B%0A%0A%20%20%20%20%20%20%20%20%0A%20%20%20%20%0A%20%20%20%20%0A%20%20%20%20%20%20%20%20%20%20%20%20var%20circle_marker_c26f77f7cdf34937a63e671ff9f47230%20%3D%20L.circleMarker%28%0A%20%20%20%20%20%20%20%20%20%20%20%20%20%20%20%20%5B4.633319682000035%2C%20-74.07290770799995%5D%2C%0A%20%20%20%20%20%20%20%20%20%20%20%20%20%20%20%20%7B%22bubblingMouseEvents%22%3A%20true%2C%20%22color%22%3A%20%22red%22%2C%20%22dashArray%22%3A%20null%2C%20%22dashOffset%22%3A%20null%2C%20%22fill%22%3A%20true%2C%20%22fillColor%22%3A%20%22red%22%2C%20%22fillOpacity%22%3A%200.2%2C%20%22fillRule%22%3A%20%22evenodd%22%2C%20%22lineCap%22%3A%20%22round%22%2C%20%22lineJoin%22%3A%20%22round%22%2C%20%22opacity%22%3A%201.0%2C%20%22radius%22%3A%205%2C%20%22stroke%22%3A%20true%2C%20%22weight%22%3A%203%7D%0A%20%20%20%20%20%20%20%20%20%20%20%20%29.addTo%28map_5d80ef6645b54122a1c4434fe5ad99ee%29%3B%0A%20%20%20%20%20%20%20%20%0A%20%20%20%20%0A%20%20%20%20%20%20%20%20var%20popup_80eb66b25d6444cb9b225d715d14fe2e%20%3D%20L.popup%28%7B%22maxWidth%22%3A%20%22100%25%22%7D%29%3B%0A%0A%20%20%20%20%20%20%20%20%0A%20%20%20%20%20%20%20%20%20%20%20%20var%20html_3f4835ff5be242558a4e77e7f6a0a68c%20%3D%20%24%28%60%3Cdiv%20id%3D%22html_3f4835ff5be242558a4e77e7f6a0a68c%22%20style%3D%22width%3A%20100.0%25%3B%20height%3A%20100.0%25%3B%22%3ETeusaquillo%3C/div%3E%60%29%5B0%5D%3B%0A%20%20%20%20%20%20%20%20%20%20%20%20popup_80eb66b25d6444cb9b225d715d14fe2e.setContent%28html_3f4835ff5be242558a4e77e7f6a0a68c%29%3B%0A%20%20%20%20%20%20%20%20%0A%0A%20%20%20%20%20%20%20%20circle_marker_c26f77f7cdf34937a63e671ff9f47230.bindPopup%28popup_80eb66b25d6444cb9b225d715d14fe2e%29%0A%20%20%20%20%20%20%20%20%3B%0A%0A%20%20%20%20%20%20%20%20%0A%20%20%20%20%0A%20%20%20%20%0A%20%20%20%20%20%20%20%20%20%20%20%20var%20circle_marker_7072654aad524f789dd9a67326955ec8%20%3D%20L.circleMarker%28%0A%20%20%20%20%20%20%20%20%20%20%20%20%20%20%20%20%5B4.604255667000075%2C%20-74.08991499999996%5D%2C%0A%20%20%20%20%20%20%20%20%20%20%20%20%20%20%20%20%7B%22bubblingMouseEvents%22%3A%20true%2C%20%22color%22%3A%20%22red%22%2C%20%22dashArray%22%3A%20null%2C%20%22dashOffset%22%3A%20null%2C%20%22fill%22%3A%20true%2C%20%22fillColor%22%3A%20%22red%22%2C%20%22fillOpacity%22%3A%200.2%2C%20%22fillRule%22%3A%20%22evenodd%22%2C%20%22lineCap%22%3A%20%22round%22%2C%20%22lineJoin%22%3A%20%22round%22%2C%20%22opacity%22%3A%201.0%2C%20%22radius%22%3A%205%2C%20%22stroke%22%3A%20true%2C%20%22weight%22%3A%203%7D%0A%20%20%20%20%20%20%20%20%20%20%20%20%29.addTo%28map_5d80ef6645b54122a1c4434fe5ad99ee%29%3B%0A%20%20%20%20%20%20%20%20%0A%20%20%20%20%0A%20%20%20%20%20%20%20%20var%20popup_41f8851cc7774f989b5accaa8268bee0%20%3D%20L.popup%28%7B%22maxWidth%22%3A%20%22100%25%22%7D%29%3B%0A%0A%20%20%20%20%20%20%20%20%0A%20%20%20%20%20%20%20%20%20%20%20%20var%20html_a01ee47ec3104f41999ea01549ff3c0e%20%3D%20%24%28%60%3Cdiv%20id%3D%22html_a01ee47ec3104f41999ea01549ff3c0e%22%20style%3D%22width%3A%20100.0%25%3B%20height%3A%20100.0%25%3B%22%3ELos%20M%C3%A1rtires%3C/div%3E%60%29%5B0%5D%3B%0A%20%20%20%20%20%20%20%20%20%20%20%20popup_41f8851cc7774f989b5accaa8268bee0.setContent%28html_a01ee47ec3104f41999ea01549ff3c0e%29%3B%0A%20%20%20%20%20%20%20%20%0A%0A%20%20%20%20%20%20%20%20circle_marker_7072654aad524f789dd9a67326955ec8.bindPopup%28popup_41f8851cc7774f989b5accaa8268bee0%29%0A%20%20%20%20%20%20%20%20%3B%0A%0A%20%20%20%20%20%20%20%20%0A%20%20%20%20%0A%20%20%20%20%0A%20%20%20%20%20%20%20%20%20%20%20%20var%20circle_marker_c2f424bdba69402fa084567ffdf1d479%20%3D%20L.circleMarker%28%0A%20%20%20%20%20%20%20%20%20%20%20%20%20%20%20%20%5B4.587130000000059%2C%20-74.09692978299995%5D%2C%0A%20%20%20%20%20%20%20%20%20%20%20%20%20%20%20%20%7B%22bubblingMouseEvents%22%3A%20true%2C%20%22color%22%3A%20%22red%22%2C%20%22dashArray%22%3A%20null%2C%20%22dashOffset%22%3A%20null%2C%20%22fill%22%3A%20true%2C%20%22fillColor%22%3A%20%22red%22%2C%20%22fillOpacity%22%3A%200.2%2C%20%22fillRule%22%3A%20%22evenodd%22%2C%20%22lineCap%22%3A%20%22round%22%2C%20%22lineJoin%22%3A%20%22round%22%2C%20%22opacity%22%3A%201.0%2C%20%22radius%22%3A%205%2C%20%22stroke%22%3A%20true%2C%20%22weight%22%3A%203%7D%0A%20%20%20%20%20%20%20%20%20%20%20%20%29.addTo%28map_5d80ef6645b54122a1c4434fe5ad99ee%29%3B%0A%20%20%20%20%20%20%20%20%0A%20%20%20%20%0A%20%20%20%20%20%20%20%20var%20popup_36916d9514814af3b8d531cf35b0bbac%20%3D%20L.popup%28%7B%22maxWidth%22%3A%20%22100%25%22%7D%29%3B%0A%0A%20%20%20%20%20%20%20%20%0A%20%20%20%20%20%20%20%20%20%20%20%20var%20html_0c9517c3e8c649a99e3a68ce3b9bf452%20%3D%20%24%28%60%3Cdiv%20id%3D%22html_0c9517c3e8c649a99e3a68ce3b9bf452%22%20style%3D%22width%3A%20100.0%25%3B%20height%3A%20100.0%25%3B%22%3EAntonio%20Nari%C3%B1o%3C/div%3E%60%29%5B0%5D%3B%0A%20%20%20%20%20%20%20%20%20%20%20%20popup_36916d9514814af3b8d531cf35b0bbac.setContent%28html_0c9517c3e8c649a99e3a68ce3b9bf452%29%3B%0A%20%20%20%20%20%20%20%20%0A%0A%20%20%20%20%20%20%20%20circle_marker_c2f424bdba69402fa084567ffdf1d479.bindPopup%28popup_36916d9514814af3b8d531cf35b0bbac%29%0A%20%20%20%20%20%20%20%20%3B%0A%0A%20%20%20%20%20%20%20%20%0A%20%20%20%20%0A%20%20%20%20%0A%20%20%20%20%20%20%20%20%20%20%20%20var%20circle_marker_44bd1e5208f3477d979d67493750f03d%20%3D%20L.circleMarker%28%0A%20%20%20%20%20%20%20%20%20%20%20%20%20%20%20%20%5B4.624250000000075%2C%20-74.10372384099998%5D%2C%0A%20%20%20%20%20%20%20%20%20%20%20%20%20%20%20%20%7B%22bubblingMouseEvents%22%3A%20true%2C%20%22color%22%3A%20%22red%22%2C%20%22dashArray%22%3A%20null%2C%20%22dashOffset%22%3A%20null%2C%20%22fill%22%3A%20true%2C%20%22fillColor%22%3A%20%22red%22%2C%20%22fillOpacity%22%3A%200.2%2C%20%22fillRule%22%3A%20%22evenodd%22%2C%20%22lineCap%22%3A%20%22round%22%2C%20%22lineJoin%22%3A%20%22round%22%2C%20%22opacity%22%3A%201.0%2C%20%22radius%22%3A%205%2C%20%22stroke%22%3A%20true%2C%20%22weight%22%3A%203%7D%0A%20%20%20%20%20%20%20%20%20%20%20%20%29.addTo%28map_5d80ef6645b54122a1c4434fe5ad99ee%29%3B%0A%20%20%20%20%20%20%20%20%0A%20%20%20%20%0A%20%20%20%20%20%20%20%20var%20popup_17884c76f3d441beba55849a13a8bea6%20%3D%20L.popup%28%7B%22maxWidth%22%3A%20%22100%25%22%7D%29%3B%0A%0A%20%20%20%20%20%20%20%20%0A%20%20%20%20%20%20%20%20%20%20%20%20var%20html_d0091783fae240f18dabb1eaab36d34b%20%3D%20%24%28%60%3Cdiv%20id%3D%22html_d0091783fae240f18dabb1eaab36d34b%22%20style%3D%22width%3A%20100.0%25%3B%20height%3A%20100.0%25%3B%22%3EPuente%20Aranda%3C/div%3E%60%29%5B0%5D%3B%0A%20%20%20%20%20%20%20%20%20%20%20%20popup_17884c76f3d441beba55849a13a8bea6.setContent%28html_d0091783fae240f18dabb1eaab36d34b%29%3B%0A%20%20%20%20%20%20%20%20%0A%0A%20%20%20%20%20%20%20%20circle_marker_44bd1e5208f3477d979d67493750f03d.bindPopup%28popup_17884c76f3d441beba55849a13a8bea6%29%0A%20%20%20%20%20%20%20%20%3B%0A%0A%20%20%20%20%20%20%20%20%0A%20%20%20%20%0A%20%20%20%20%0A%20%20%20%20%20%20%20%20%20%20%20%20var%20circle_marker_1a41f92e6a3e4f348189a1cae87ac358%20%3D%20L.circleMarker%28%0A%20%20%20%20%20%20%20%20%20%20%20%20%20%20%20%20%5B4.599095000000034%2C%20-74.07197925799994%5D%2C%0A%20%20%20%20%20%20%20%20%20%20%20%20%20%20%20%20%7B%22bubblingMouseEvents%22%3A%20true%2C%20%22color%22%3A%20%22red%22%2C%20%22dashArray%22%3A%20null%2C%20%22dashOffset%22%3A%20null%2C%20%22fill%22%3A%20true%2C%20%22fillColor%22%3A%20%22red%22%2C%20%22fillOpacity%22%3A%200.2%2C%20%22fillRule%22%3A%20%22evenodd%22%2C%20%22lineCap%22%3A%20%22round%22%2C%20%22lineJoin%22%3A%20%22round%22%2C%20%22opacity%22%3A%201.0%2C%20%22radius%22%3A%205%2C%20%22stroke%22%3A%20true%2C%20%22weight%22%3A%203%7D%0A%20%20%20%20%20%20%20%20%20%20%20%20%29.addTo%28map_5d80ef6645b54122a1c4434fe5ad99ee%29%3B%0A%20%20%20%20%20%20%20%20%0A%20%20%20%20%0A%20%20%20%20%20%20%20%20var%20popup_173fb1001ae841cf8a091ef7570d1ec8%20%3D%20L.popup%28%7B%22maxWidth%22%3A%20%22100%25%22%7D%29%3B%0A%0A%20%20%20%20%20%20%20%20%0A%20%20%20%20%20%20%20%20%20%20%20%20var%20html_0251fa2d88da4365b74102804de1e0db%20%3D%20%24%28%60%3Cdiv%20id%3D%22html_0251fa2d88da4365b74102804de1e0db%22%20style%3D%22width%3A%20100.0%25%3B%20height%3A%20100.0%25%3B%22%3ELa%20Candelaria%3C/div%3E%60%29%5B0%5D%3B%0A%20%20%20%20%20%20%20%20%20%20%20%20popup_173fb1001ae841cf8a091ef7570d1ec8.setContent%28html_0251fa2d88da4365b74102804de1e0db%29%3B%0A%20%20%20%20%20%20%20%20%0A%0A%20%20%20%20%20%20%20%20circle_marker_1a41f92e6a3e4f348189a1cae87ac358.bindPopup%28popup_173fb1001ae841cf8a091ef7570d1ec8%29%0A%20%20%20%20%20%20%20%20%3B%0A%0A%20%20%20%20%20%20%20%20%0A%20%20%20%20%0A%20%20%20%20%0A%20%20%20%20%20%20%20%20%20%20%20%20var%20circle_marker_bde543032b27410fa4717f276a248db3%20%3D%20L.circleMarker%28%0A%20%20%20%20%20%20%20%20%20%20%20%20%20%20%20%20%5B4.5797300000000405%2C%20-74.11682462899995%5D%2C%0A%20%20%20%20%20%20%20%20%20%20%20%20%20%20%20%20%7B%22bubblingMouseEvents%22%3A%20true%2C%20%22color%22%3A%20%22red%22%2C%20%22dashArray%22%3A%20null%2C%20%22dashOffset%22%3A%20null%2C%20%22fill%22%3A%20true%2C%20%22fillColor%22%3A%20%22red%22%2C%20%22fillOpacity%22%3A%200.2%2C%20%22fillRule%22%3A%20%22evenodd%22%2C%20%22lineCap%22%3A%20%22round%22%2C%20%22lineJoin%22%3A%20%22round%22%2C%20%22opacity%22%3A%201.0%2C%20%22radius%22%3A%205%2C%20%22stroke%22%3A%20true%2C%20%22weight%22%3A%203%7D%0A%20%20%20%20%20%20%20%20%20%20%20%20%29.addTo%28map_5d80ef6645b54122a1c4434fe5ad99ee%29%3B%0A%20%20%20%20%20%20%20%20%0A%20%20%20%20%0A%20%20%20%20%20%20%20%20var%20popup_d3fe3c6335794008b7d6abb3e04878a2%20%3D%20L.popup%28%7B%22maxWidth%22%3A%20%22100%25%22%7D%29%3B%0A%0A%20%20%20%20%20%20%20%20%0A%20%20%20%20%20%20%20%20%20%20%20%20var%20html_32c327e49eaf44dc834bf2daf335ff36%20%3D%20%24%28%60%3Cdiv%20id%3D%22html_32c327e49eaf44dc834bf2daf335ff36%22%20style%3D%22width%3A%20100.0%25%3B%20height%3A%20100.0%25%3B%22%3ERafael%20Uribe%20Uribe%3C/div%3E%60%29%5B0%5D%3B%0A%20%20%20%20%20%20%20%20%20%20%20%20popup_d3fe3c6335794008b7d6abb3e04878a2.setContent%28html_32c327e49eaf44dc834bf2daf335ff36%29%3B%0A%20%20%20%20%20%20%20%20%0A%0A%20%20%20%20%20%20%20%20circle_marker_bde543032b27410fa4717f276a248db3.bindPopup%28popup_d3fe3c6335794008b7d6abb3e04878a2%29%0A%20%20%20%20%20%20%20%20%3B%0A%0A%20%20%20%20%20%20%20%20%0A%20%20%20%20%0A%20%20%20%20%0A%20%20%20%20%20%20%20%20%20%20%20%20var%20circle_marker_6130458fb95e471d9aba6a07e27d0a55%20%3D%20L.circleMarker%28%0A%20%20%20%20%20%20%20%20%20%20%20%20%20%20%20%20%5B4.577027933000068%2C%20-74.15146499999997%5D%2C%0A%20%20%20%20%20%20%20%20%20%20%20%20%20%20%20%20%7B%22bubblingMouseEvents%22%3A%20true%2C%20%22color%22%3A%20%22red%22%2C%20%22dashArray%22%3A%20null%2C%20%22dashOffset%22%3A%20null%2C%20%22fill%22%3A%20true%2C%20%22fillColor%22%3A%20%22red%22%2C%20%22fillOpacity%22%3A%200.2%2C%20%22fillRule%22%3A%20%22evenodd%22%2C%20%22lineCap%22%3A%20%22round%22%2C%20%22lineJoin%22%3A%20%22round%22%2C%20%22opacity%22%3A%201.0%2C%20%22radius%22%3A%205%2C%20%22stroke%22%3A%20true%2C%20%22weight%22%3A%203%7D%0A%20%20%20%20%20%20%20%20%20%20%20%20%29.addTo%28map_5d80ef6645b54122a1c4434fe5ad99ee%29%3B%0A%20%20%20%20%20%20%20%20%0A%20%20%20%20%0A%20%20%20%20%20%20%20%20var%20popup_d52c2ac57a64455f95d08cc1f1253ba7%20%3D%20L.popup%28%7B%22maxWidth%22%3A%20%22100%25%22%7D%29%3B%0A%0A%20%20%20%20%20%20%20%20%0A%20%20%20%20%20%20%20%20%20%20%20%20var%20html_88631f99ac13486eb7b9f6a6140a48eb%20%3D%20%24%28%60%3Cdiv%20id%3D%22html_88631f99ac13486eb7b9f6a6140a48eb%22%20style%3D%22width%3A%20100.0%25%3B%20height%3A%20100.0%25%3B%22%3ECiudad%20Bol%C3%ADvar%3C/div%3E%60%29%5B0%5D%3B%0A%20%20%20%20%20%20%20%20%20%20%20%20popup_d52c2ac57a64455f95d08cc1f1253ba7.setContent%28html_88631f99ac13486eb7b9f6a6140a48eb%29%3B%0A%20%20%20%20%20%20%20%20%0A%0A%20%20%20%20%20%20%20%20circle_marker_6130458fb95e471d9aba6a07e27d0a55.bindPopup%28popup_d52c2ac57a64455f95d08cc1f1253ba7%29%0A%20%20%20%20%20%20%20%20%3B%0A%0A%20%20%20%20%20%20%20%20%0A%20%20%20%20%0A%20%20%20%20%0A%20%20%20%20%20%20%20%20%20%20%20%20var%20circle_marker_332b1fd8c1d24b3280c51faace4259c4%20%3D%20L.circleMarker%28%0A%20%20%20%20%20%20%20%20%20%20%20%20%20%20%20%20%5B4.223149782000064%2C%20-74.18503057699996%5D%2C%0A%20%20%20%20%20%20%20%20%20%20%20%20%20%20%20%20%7B%22bubblingMouseEvents%22%3A%20true%2C%20%22color%22%3A%20%22red%22%2C%20%22dashArray%22%3A%20null%2C%20%22dashOffset%22%3A%20null%2C%20%22fill%22%3A%20true%2C%20%22fillColor%22%3A%20%22red%22%2C%20%22fillOpacity%22%3A%200.2%2C%20%22fillRule%22%3A%20%22evenodd%22%2C%20%22lineCap%22%3A%20%22round%22%2C%20%22lineJoin%22%3A%20%22round%22%2C%20%22opacity%22%3A%201.0%2C%20%22radius%22%3A%205%2C%20%22stroke%22%3A%20true%2C%20%22weight%22%3A%203%7D%0A%20%20%20%20%20%20%20%20%20%20%20%20%29.addTo%28map_5d80ef6645b54122a1c4434fe5ad99ee%29%3B%0A%20%20%20%20%20%20%20%20%0A%20%20%20%20%0A%20%20%20%20%20%20%20%20var%20popup_3667be9500464364b4e91c83ea8c2b3b%20%3D%20L.popup%28%7B%22maxWidth%22%3A%20%22100%25%22%7D%29%3B%0A%0A%20%20%20%20%20%20%20%20%0A%20%20%20%20%20%20%20%20%20%20%20%20var%20html_5ad6896181b84a11a319655f2008fc5e%20%3D%20%24%28%60%3Cdiv%20id%3D%22html_5ad6896181b84a11a319655f2008fc5e%22%20style%3D%22width%3A%20100.0%25%3B%20height%3A%20100.0%25%3B%22%3ESumapaz%3C/div%3E%60%29%5B0%5D%3B%0A%20%20%20%20%20%20%20%20%20%20%20%20popup_3667be9500464364b4e91c83ea8c2b3b.setContent%28html_5ad6896181b84a11a319655f2008fc5e%29%3B%0A%20%20%20%20%20%20%20%20%0A%0A%20%20%20%20%20%20%20%20circle_marker_332b1fd8c1d24b3280c51faace4259c4.bindPopup%28popup_3667be9500464364b4e91c83ea8c2b3b%29%0A%20%20%20%20%20%20%20%20%3B%0A%0A%20%20%20%20%20%20%20%20%0A%20%20%20%20%0A%3C/script%3E onload=\"this.contentDocument.open();this.contentDocument.write(    decodeURIComponent(this.getAttribute('data-html')));this.contentDocument.close();\" allowfullscreen webkitallowfullscreen mozallowfullscreen></iframe></div></div>"
                    },
                    "metadata": {}
                }
            ]
        },
        {
            "metadata": {
                "id": "tcKxngW_BuEG",
                "colab_type": "text"
            },
            "cell_type": "markdown",
            "source": "### Venues in Bogota"
        },
        {
            "metadata": {
                "id": "eamBBk_l4S3R",
                "colab_type": "code",
                "colab": {},
                "executionInfo": {
                    "status": "ok",
                    "timestamp": 1597724393070,
                    "user_tz": -330,
                    "elapsed": 1435,
                    "user": {
                        "displayName": "Thomas George Thomas",
                        "photoUrl": "https://lh3.googleusercontent.com/a-/AOh14GhRjmtno5yCmJOUjYiFNGHi_xP5YZBJ1ZpWGKsZ=s64",
                        "userId": "09561174857978505545"
                    }
                }
            },
            "cell_type": "code",
            "source": "CLIENT_ID = 'FADCITXW01LZDVD3MM4UIIKXDT51PBNUTYRMVS3TO0RL3PQE' \nCLIENT_SECRET = 'XEJWEUHARX20SHWMVOZM2NVXBWATPN5BXNRJLNZPCAK4U4KD'\nVERSION = '20180605' # Foursquare API version",
            "execution_count": 130,
            "outputs": []
        },
        {
            "metadata": {
                "id": "xD096Lmt4gyd",
                "colab_type": "code",
                "colab": {},
                "executionInfo": {
                    "status": "ok",
                    "timestamp": 1597726123089,
                    "user_tz": -330,
                    "elapsed": 1114,
                    "user": {
                        "displayName": "Thomas George Thomas",
                        "photoUrl": "https://lh3.googleusercontent.com/a-/AOh14GhRjmtno5yCmJOUjYiFNGHi_xP5YZBJ1ZpWGKsZ=s64",
                        "userId": "09561174857978505545"
                    }
                }
            },
            "cell_type": "code",
            "source": "LIMIT=100\n\ndef getVenues(names, latitudes, longitudes, radius=500):\n    \n    venues_list=[]\n    for name, lat, lng in zip(names, latitudes, longitudes):\n        print(name)\n            \n        # create the API request URL\n        url = 'https://api.foursquare.com/v2/venues/explore?&client_id={}&client_secret={}&v={}&ll={},{}&radius={}&limit={}'.format(\n            CLIENT_ID, \n            CLIENT_SECRET, \n            VERSION, \n            lat, \n            lng, \n            radius,\n            LIMIT\n            )\n            \n        # make the GET request\n        results = requests.get(url).json()[\"response\"]['groups'][0]['items']\n        \n        # return only relevant information for each nearby venue\n        venues_list.append([(\n            name, \n            lat, \n            lng, \n            v['venue']['name'], \n            v['venue']['categories'][0]['name']) for v in results])\n\n    venues = pd.DataFrame([item for venue_list in venues_list for item in venue_list])\n    venues.columns = ['Localities', \n                  'Latitude', \n                  'Longitude', \n                  'Venue', \n                  'Venue Category']\n    \n    return(venues)",
            "execution_count": 165,
            "outputs": []
        },
        {
            "metadata": {
                "id": "eWpYH9fMHDwF",
                "colab_type": "text"
            },
            "cell_type": "markdown",
            "source": "Getting the venues in Bogota"
        },
        {
            "metadata": {
                "id": "HuvqArTbGrTC",
                "colab_type": "code",
                "colab": {
                    "base_uri": "https://localhost:8080/",
                    "height": 1000
                },
                "executionInfo": {
                    "status": "ok",
                    "timestamp": 1597726342090,
                    "user_tz": -330,
                    "elapsed": 136742,
                    "user": {
                        "displayName": "Thomas George Thomas",
                        "photoUrl": "https://lh3.googleusercontent.com/a-/AOh14GhRjmtno5yCmJOUjYiFNGHi_xP5YZBJ1ZpWGKsZ=s64",
                        "userId": "09561174857978505545"
                    }
                },
                "outputId": "474a8938-d650-452f-f5be-c29287a1f4d1"
            },
            "cell_type": "code",
            "source": "venues_bogota = getVenues(bogota['town'], bogota['latitude'], bogota['longitude'])",
            "execution_count": 166,
            "outputs": [
                {
                    "output_type": "stream",
                    "text": "Usaqu\u00e9n\nChapinero\nSanta Fe\nSan Crist\u00f3bal\nUsme\nTunjuelito\nBosa\nKennedy\nFontib\u00f3n\nEngativ\u00e1\nSuba\nBarrios Unidos\nTeusaquillo\nLos M\u00e1rtires\nAntonio Nari\u00f1o\nPuente Aranda\nLa Candelaria\nRafael Uribe Uribe\nCiudad Bol\u00edvar\nSumapaz\n",
                    "name": "stdout"
                }
            ]
        },
        {
            "metadata": {
                "id": "dqgUl-l7Hwl2",
                "colab_type": "code",
                "colab": {
                    "base_uri": "https://localhost:8080/",
                    "height": 204
                },
                "executionInfo": {
                    "status": "ok",
                    "timestamp": 1597726412333,
                    "user_tz": -330,
                    "elapsed": 886,
                    "user": {
                        "displayName": "Thomas George Thomas",
                        "photoUrl": "https://lh3.googleusercontent.com/a-/AOh14GhRjmtno5yCmJOUjYiFNGHi_xP5YZBJ1ZpWGKsZ=s64",
                        "userId": "09561174857978505545"
                    }
                },
                "outputId": "72827337-f22d-4883-8908-d2140824878f"
            },
            "cell_type": "code",
            "source": "venues_bogota.head()",
            "execution_count": 167,
            "outputs": [
                {
                    "output_type": "execute_result",
                    "execution_count": 167,
                    "data": {
                        "text/plain": "  Localities  Latitude  Longitude                                      Venue  \\\n0    Usaqu\u00e9n     4.691 -74.033448  Hotel NH Collection Bogot\u00e1 Hacienda Royal   \n1    Usaqu\u00e9n     4.691 -74.033448                           Juan Vald\u00e9z Caf\u00e9   \n2    Usaqu\u00e9n     4.691 -74.033448                  Parque Publico Usaqu\u00e9n II   \n3    Usaqu\u00e9n     4.691 -74.033448                             W Bogot\u00e1 Hotel   \n4    Usaqu\u00e9n     4.691 -74.033448                          Bodytech Hacienda   \n\n   Venue Category  \n0           Hotel  \n1     Coffee Shop  \n2         Dog Run  \n3           Hotel  \n4  Gymnastics Gym  ",
                        "text/html": "<div>\n<style scoped>\n    .dataframe tbody tr th:only-of-type {\n        vertical-align: middle;\n    }\n\n    .dataframe tbody tr th {\n        vertical-align: top;\n    }\n\n    .dataframe thead th {\n        text-align: right;\n    }\n</style>\n<table border=\"1\" class=\"dataframe\">\n  <thead>\n    <tr style=\"text-align: right;\">\n      <th></th>\n      <th>Localities</th>\n      <th>Latitude</th>\n      <th>Longitude</th>\n      <th>Venue</th>\n      <th>Venue Category</th>\n    </tr>\n  </thead>\n  <tbody>\n    <tr>\n      <th>0</th>\n      <td>Usaqu\u00e9n</td>\n      <td>4.691</td>\n      <td>-74.033448</td>\n      <td>Hotel NH Collection Bogot\u00e1 Hacienda Royal</td>\n      <td>Hotel</td>\n    </tr>\n    <tr>\n      <th>1</th>\n      <td>Usaqu\u00e9n</td>\n      <td>4.691</td>\n      <td>-74.033448</td>\n      <td>Juan Vald\u00e9z Caf\u00e9</td>\n      <td>Coffee Shop</td>\n    </tr>\n    <tr>\n      <th>2</th>\n      <td>Usaqu\u00e9n</td>\n      <td>4.691</td>\n      <td>-74.033448</td>\n      <td>Parque Publico Usaqu\u00e9n II</td>\n      <td>Dog Run</td>\n    </tr>\n    <tr>\n      <th>3</th>\n      <td>Usaqu\u00e9n</td>\n      <td>4.691</td>\n      <td>-74.033448</td>\n      <td>W Bogot\u00e1 Hotel</td>\n      <td>Hotel</td>\n    </tr>\n    <tr>\n      <th>4</th>\n      <td>Usaqu\u00e9n</td>\n      <td>4.691</td>\n      <td>-74.033448</td>\n      <td>Bodytech Hacienda</td>\n      <td>Gymnastics Gym</td>\n    </tr>\n  </tbody>\n</table>\n</div>"
                    },
                    "metadata": {}
                }
            ]
        },
        {
            "metadata": {},
            "cell_type": "code",
            "source": "venues_bogota.shape",
            "execution_count": 146,
            "outputs": [
                {
                    "output_type": "execute_result",
                    "execution_count": 146,
                    "data": {
                        "text/plain": "(248, 5)"
                    },
                    "metadata": {}
                }
            ]
        },
        {
            "metadata": {},
            "cell_type": "markdown",
            "source": "We have 248 results."
        },
        {
            "metadata": {
                "id": "Wo9iDUvQEDBO",
                "colab_type": "text"
            },
            "cell_type": "markdown",
            "source": "### Grouping by Venue Categories"
        },
        {
            "metadata": {
                "id": "l7C-eb6QH5rT",
                "colab_type": "code",
                "colab": {
                    "base_uri": "https://localhost:8080/",
                    "height": 569
                },
                "executionInfo": {
                    "status": "ok",
                    "timestamp": 1597726437144,
                    "user_tz": -330,
                    "elapsed": 923,
                    "user": {
                        "displayName": "Thomas George Thomas",
                        "photoUrl": "https://lh3.googleusercontent.com/a-/AOh14GhRjmtno5yCmJOUjYiFNGHi_xP5YZBJ1ZpWGKsZ=s64",
                        "userId": "09561174857978505545"
                    }
                },
                "outputId": "d4ad63f8-6e11-4274-f8fb-796b8f2632d8"
            },
            "cell_type": "code",
            "source": "venues_bogota.groupby('Venue Category').max()",
            "execution_count": 168,
            "outputs": [
                {
                    "output_type": "execute_result",
                    "execution_count": 168,
                    "data": {
                        "text/plain": "                                  Localities  Latitude  Longitude  \\\nVenue Category                                                      \nAirport                             Fontib\u00f3n  4.695895 -74.144576   \nAirport Lounge                      Fontib\u00f3n  4.695895 -74.144576   \nAirport Service                     Fontib\u00f3n  4.695895 -74.144576   \nAirport Terminal                    Fontib\u00f3n  4.695895 -74.144576   \nArcade                         La Candelaria  4.599095 -74.071979   \n...                                      ...       ...        ...   \nSushi Restaurant                     Usaqu\u00e9n  4.691000 -74.033448   \nTheater                        La Candelaria  4.599095 -74.071979   \nTheme Restaurant                    Fontib\u00f3n  4.695895 -74.144576   \nToy / Game Store                    Engativ\u00e1  4.724539 -74.115505   \nVegetarian / Vegan Restaurant  La Candelaria  4.599095 -74.071979   \n\n                                                                           Venue  \nVenue Category                                                                    \nAirport                        Aeropuerto Internacional El Dorado (BOG) (Aero...  \nAirport Lounge                                                    Sala VIP LATAM  \nAirport Service                               International Connections Security  \nAirport Terminal                                                         Gate 92  \nArcade                                                              Teatro Odeon  \n...                                                                          ...  \nSushi Restaurant                                                Sushisan Usaqu\u00e9n  \nTheater                                                             Teatro Col\u00f3n  \nTheme Restaurant                                                 Andr\u00e9s Paradero  \nToy / Game Store                                               Pepe Ganga Outlet  \nVegetarian / Vegan Restaurant                                  Quinua y Amaranto  \n\n[96 rows x 4 columns]",
                        "text/html": "<div>\n<style scoped>\n    .dataframe tbody tr th:only-of-type {\n        vertical-align: middle;\n    }\n\n    .dataframe tbody tr th {\n        vertical-align: top;\n    }\n\n    .dataframe thead th {\n        text-align: right;\n    }\n</style>\n<table border=\"1\" class=\"dataframe\">\n  <thead>\n    <tr style=\"text-align: right;\">\n      <th></th>\n      <th>Localities</th>\n      <th>Latitude</th>\n      <th>Longitude</th>\n      <th>Venue</th>\n    </tr>\n    <tr>\n      <th>Venue Category</th>\n      <th></th>\n      <th></th>\n      <th></th>\n      <th></th>\n    </tr>\n  </thead>\n  <tbody>\n    <tr>\n      <th>Airport</th>\n      <td>Fontib\u00f3n</td>\n      <td>4.695895</td>\n      <td>-74.144576</td>\n      <td>Aeropuerto Internacional El Dorado (BOG) (Aero...</td>\n    </tr>\n    <tr>\n      <th>Airport Lounge</th>\n      <td>Fontib\u00f3n</td>\n      <td>4.695895</td>\n      <td>-74.144576</td>\n      <td>Sala VIP LATAM</td>\n    </tr>\n    <tr>\n      <th>Airport Service</th>\n      <td>Fontib\u00f3n</td>\n      <td>4.695895</td>\n      <td>-74.144576</td>\n      <td>International Connections Security</td>\n    </tr>\n    <tr>\n      <th>Airport Terminal</th>\n      <td>Fontib\u00f3n</td>\n      <td>4.695895</td>\n      <td>-74.144576</td>\n      <td>Gate 92</td>\n    </tr>\n    <tr>\n      <th>Arcade</th>\n      <td>La Candelaria</td>\n      <td>4.599095</td>\n      <td>-74.071979</td>\n      <td>Teatro Odeon</td>\n    </tr>\n    <tr>\n      <th>...</th>\n      <td>...</td>\n      <td>...</td>\n      <td>...</td>\n      <td>...</td>\n    </tr>\n    <tr>\n      <th>Sushi Restaurant</th>\n      <td>Usaqu\u00e9n</td>\n      <td>4.691000</td>\n      <td>-74.033448</td>\n      <td>Sushisan Usaqu\u00e9n</td>\n    </tr>\n    <tr>\n      <th>Theater</th>\n      <td>La Candelaria</td>\n      <td>4.599095</td>\n      <td>-74.071979</td>\n      <td>Teatro Col\u00f3n</td>\n    </tr>\n    <tr>\n      <th>Theme Restaurant</th>\n      <td>Fontib\u00f3n</td>\n      <td>4.695895</td>\n      <td>-74.144576</td>\n      <td>Andr\u00e9s Paradero</td>\n    </tr>\n    <tr>\n      <th>Toy / Game Store</th>\n      <td>Engativ\u00e1</td>\n      <td>4.724539</td>\n      <td>-74.115505</td>\n      <td>Pepe Ganga Outlet</td>\n    </tr>\n    <tr>\n      <th>Vegetarian / Vegan Restaurant</th>\n      <td>La Candelaria</td>\n      <td>4.599095</td>\n      <td>-74.071979</td>\n      <td>Quinua y Amaranto</td>\n    </tr>\n  </tbody>\n</table>\n<p>96 rows \u00d7 4 columns</p>\n</div>"
                    },
                    "metadata": {}
                }
            ]
        },
        {
            "metadata": {
                "id": "R9Ey4DrVIyZO",
                "colab_type": "text"
            },
            "cell_type": "markdown",
            "source": "### One Hot Encoding "
        },
        {
            "metadata": {
                "id": "vbxYMxCuImr-",
                "colab_type": "code",
                "colab": {
                    "base_uri": "https://localhost:8080/",
                    "height": 490
                },
                "executionInfo": {
                    "status": "ok",
                    "timestamp": 1597726455086,
                    "user_tz": -330,
                    "elapsed": 908,
                    "user": {
                        "displayName": "Thomas George Thomas",
                        "photoUrl": "https://lh3.googleusercontent.com/a-/AOh14GhRjmtno5yCmJOUjYiFNGHi_xP5YZBJ1ZpWGKsZ=s64",
                        "userId": "09561174857978505545"
                    }
                },
                "outputId": "23a7c858-e7ab-4be3-8215-bf49fa5c12f9"
            },
            "cell_type": "code",
            "source": "bogota_ohe = pd.get_dummies(venues_bogota[['Venue Category']], prefix=\"\", prefix_sep=\"\")\nbogota_ohe",
            "execution_count": 148,
            "outputs": [
                {
                    "output_type": "execute_result",
                    "execution_count": 148,
                    "data": {
                        "text/plain": "     Airport  Airport Lounge  Airport Service  Airport Terminal  Arcade  \\\n0          0               0                0                 0       0   \n1          0               0                0                 0       0   \n2          0               0                0                 0       0   \n3          0               0                0                 0       0   \n4          0               0                0                 0       0   \n..       ...             ...              ...               ...     ...   \n243        0               0                0                 0       0   \n244        0               0                0                 0       0   \n245        0               0                0                 0       0   \n246        0               0                0                 0       0   \n247        0               0                0                 0       0   \n\n     Argentinian Restaurant  Art Museum  Asian Restaurant  Auto Garage  \\\n0                         0           0                 0            0   \n1                         0           0                 0            0   \n2                         0           0                 0            0   \n3                         0           0                 0            0   \n4                         0           0                 0            0   \n..                      ...         ...               ...          ...   \n243                       0           0                 0            0   \n244                       0           0                 0            0   \n245                       0           0                 0            0   \n246                       0           0                 0            0   \n247                       0           0                 0            1   \n\n     BBQ Joint  ...  Shop & Service  Shopping Mall  Snack Place  \\\n0            0  ...               0              0            0   \n1            0  ...               0              0            0   \n2            0  ...               0              0            0   \n3            0  ...               0              0            0   \n4            0  ...               0              0            0   \n..         ...  ...             ...            ...          ...   \n243          0  ...               0              0            0   \n244          0  ...               0              0            0   \n245          0  ...               0              0            0   \n246          0  ...               0              0            0   \n247          0  ...               0              0            0   \n\n     South American Restaurant  Steakhouse  Sushi Restaurant  Theater  \\\n0                            0           0                 0        0   \n1                            0           0                 0        0   \n2                            0           0                 0        0   \n3                            0           0                 0        0   \n4                            0           0                 0        0   \n..                         ...         ...               ...      ...   \n243                          0           0                 0        0   \n244                          0           0                 0        0   \n245                          0           0                 0        0   \n246                          0           0                 0        0   \n247                          0           0                 0        0   \n\n     Theme Restaurant  Toy / Game Store  Vegetarian / Vegan Restaurant  \n0                   0                 0                              0  \n1                   0                 0                              0  \n2                   0                 0                              0  \n3                   0                 0                              0  \n4                   0                 0                              0  \n..                ...               ...                            ...  \n243                 0                 0                              0  \n244                 0                 0                              0  \n245                 0                 0                              0  \n246                 0                 0                              0  \n247                 0                 0                              0  \n\n[248 rows x 96 columns]",
                        "text/html": "<div>\n<style scoped>\n    .dataframe tbody tr th:only-of-type {\n        vertical-align: middle;\n    }\n\n    .dataframe tbody tr th {\n        vertical-align: top;\n    }\n\n    .dataframe thead th {\n        text-align: right;\n    }\n</style>\n<table border=\"1\" class=\"dataframe\">\n  <thead>\n    <tr style=\"text-align: right;\">\n      <th></th>\n      <th>Airport</th>\n      <th>Airport Lounge</th>\n      <th>Airport Service</th>\n      <th>Airport Terminal</th>\n      <th>Arcade</th>\n      <th>Argentinian Restaurant</th>\n      <th>Art Museum</th>\n      <th>Asian Restaurant</th>\n      <th>Auto Garage</th>\n      <th>BBQ Joint</th>\n      <th>...</th>\n      <th>Shop &amp; Service</th>\n      <th>Shopping Mall</th>\n      <th>Snack Place</th>\n      <th>South American Restaurant</th>\n      <th>Steakhouse</th>\n      <th>Sushi Restaurant</th>\n      <th>Theater</th>\n      <th>Theme Restaurant</th>\n      <th>Toy / Game Store</th>\n      <th>Vegetarian / Vegan Restaurant</th>\n    </tr>\n  </thead>\n  <tbody>\n    <tr>\n      <th>0</th>\n      <td>0</td>\n      <td>0</td>\n      <td>0</td>\n      <td>0</td>\n      <td>0</td>\n      <td>0</td>\n      <td>0</td>\n      <td>0</td>\n      <td>0</td>\n      <td>0</td>\n      <td>...</td>\n      <td>0</td>\n      <td>0</td>\n      <td>0</td>\n      <td>0</td>\n      <td>0</td>\n      <td>0</td>\n      <td>0</td>\n      <td>0</td>\n      <td>0</td>\n      <td>0</td>\n    </tr>\n    <tr>\n      <th>1</th>\n      <td>0</td>\n      <td>0</td>\n      <td>0</td>\n      <td>0</td>\n      <td>0</td>\n      <td>0</td>\n      <td>0</td>\n      <td>0</td>\n      <td>0</td>\n      <td>0</td>\n      <td>...</td>\n      <td>0</td>\n      <td>0</td>\n      <td>0</td>\n      <td>0</td>\n      <td>0</td>\n      <td>0</td>\n      <td>0</td>\n      <td>0</td>\n      <td>0</td>\n      <td>0</td>\n    </tr>\n    <tr>\n      <th>2</th>\n      <td>0</td>\n      <td>0</td>\n      <td>0</td>\n      <td>0</td>\n      <td>0</td>\n      <td>0</td>\n      <td>0</td>\n      <td>0</td>\n      <td>0</td>\n      <td>0</td>\n      <td>...</td>\n      <td>0</td>\n      <td>0</td>\n      <td>0</td>\n      <td>0</td>\n      <td>0</td>\n      <td>0</td>\n      <td>0</td>\n      <td>0</td>\n      <td>0</td>\n      <td>0</td>\n    </tr>\n    <tr>\n      <th>3</th>\n      <td>0</td>\n      <td>0</td>\n      <td>0</td>\n      <td>0</td>\n      <td>0</td>\n      <td>0</td>\n      <td>0</td>\n      <td>0</td>\n      <td>0</td>\n      <td>0</td>\n      <td>...</td>\n      <td>0</td>\n      <td>0</td>\n      <td>0</td>\n      <td>0</td>\n      <td>0</td>\n      <td>0</td>\n      <td>0</td>\n      <td>0</td>\n      <td>0</td>\n      <td>0</td>\n    </tr>\n    <tr>\n      <th>4</th>\n      <td>0</td>\n      <td>0</td>\n      <td>0</td>\n      <td>0</td>\n      <td>0</td>\n      <td>0</td>\n      <td>0</td>\n      <td>0</td>\n      <td>0</td>\n      <td>0</td>\n      <td>...</td>\n      <td>0</td>\n      <td>0</td>\n      <td>0</td>\n      <td>0</td>\n      <td>0</td>\n      <td>0</td>\n      <td>0</td>\n      <td>0</td>\n      <td>0</td>\n      <td>0</td>\n    </tr>\n    <tr>\n      <th>...</th>\n      <td>...</td>\n      <td>...</td>\n      <td>...</td>\n      <td>...</td>\n      <td>...</td>\n      <td>...</td>\n      <td>...</td>\n      <td>...</td>\n      <td>...</td>\n      <td>...</td>\n      <td>...</td>\n      <td>...</td>\n      <td>...</td>\n      <td>...</td>\n      <td>...</td>\n      <td>...</td>\n      <td>...</td>\n      <td>...</td>\n      <td>...</td>\n      <td>...</td>\n      <td>...</td>\n    </tr>\n    <tr>\n      <th>243</th>\n      <td>0</td>\n      <td>0</td>\n      <td>0</td>\n      <td>0</td>\n      <td>0</td>\n      <td>0</td>\n      <td>0</td>\n      <td>0</td>\n      <td>0</td>\n      <td>0</td>\n      <td>...</td>\n      <td>0</td>\n      <td>0</td>\n      <td>0</td>\n      <td>0</td>\n      <td>0</td>\n      <td>0</td>\n      <td>0</td>\n      <td>0</td>\n      <td>0</td>\n      <td>0</td>\n    </tr>\n    <tr>\n      <th>244</th>\n      <td>0</td>\n      <td>0</td>\n      <td>0</td>\n      <td>0</td>\n      <td>0</td>\n      <td>0</td>\n      <td>0</td>\n      <td>0</td>\n      <td>0</td>\n      <td>0</td>\n      <td>...</td>\n      <td>0</td>\n      <td>0</td>\n      <td>0</td>\n      <td>0</td>\n      <td>0</td>\n      <td>0</td>\n      <td>0</td>\n      <td>0</td>\n      <td>0</td>\n      <td>0</td>\n    </tr>\n    <tr>\n      <th>245</th>\n      <td>0</td>\n      <td>0</td>\n      <td>0</td>\n      <td>0</td>\n      <td>0</td>\n      <td>0</td>\n      <td>0</td>\n      <td>0</td>\n      <td>0</td>\n      <td>0</td>\n      <td>...</td>\n      <td>0</td>\n      <td>0</td>\n      <td>0</td>\n      <td>0</td>\n      <td>0</td>\n      <td>0</td>\n      <td>0</td>\n      <td>0</td>\n      <td>0</td>\n      <td>0</td>\n    </tr>\n    <tr>\n      <th>246</th>\n      <td>0</td>\n      <td>0</td>\n      <td>0</td>\n      <td>0</td>\n      <td>0</td>\n      <td>0</td>\n      <td>0</td>\n      <td>0</td>\n      <td>0</td>\n      <td>0</td>\n      <td>...</td>\n      <td>0</td>\n      <td>0</td>\n      <td>0</td>\n      <td>0</td>\n      <td>0</td>\n      <td>0</td>\n      <td>0</td>\n      <td>0</td>\n      <td>0</td>\n      <td>0</td>\n    </tr>\n    <tr>\n      <th>247</th>\n      <td>0</td>\n      <td>0</td>\n      <td>0</td>\n      <td>0</td>\n      <td>0</td>\n      <td>0</td>\n      <td>0</td>\n      <td>0</td>\n      <td>1</td>\n      <td>0</td>\n      <td>...</td>\n      <td>0</td>\n      <td>0</td>\n      <td>0</td>\n      <td>0</td>\n      <td>0</td>\n      <td>0</td>\n      <td>0</td>\n      <td>0</td>\n      <td>0</td>\n      <td>0</td>\n    </tr>\n  </tbody>\n</table>\n<p>248 rows \u00d7 96 columns</p>\n</div>"
                    },
                    "metadata": {}
                }
            ]
        },
        {
            "metadata": {
                "id": "JKIDAIdVJKOC",
                "colab_type": "text"
            },
            "cell_type": "markdown",
            "source": "Adding localities into the mix."
        },
        {
            "metadata": {
                "id": "w5rnh3BCJNKQ",
                "colab_type": "code",
                "colab": {
                    "base_uri": "https://localhost:8080/",
                    "height": 389
                },
                "executionInfo": {
                    "status": "ok",
                    "timestamp": 1597726459179,
                    "user_tz": -330,
                    "elapsed": 868,
                    "user": {
                        "displayName": "Thomas George Thomas",
                        "photoUrl": "https://lh3.googleusercontent.com/a-/AOh14GhRjmtno5yCmJOUjYiFNGHi_xP5YZBJ1ZpWGKsZ=s64",
                        "userId": "09561174857978505545"
                    }
                },
                "outputId": "c7c4dbab-af11-477c-a6f4-1cc4a22dcb69"
            },
            "cell_type": "code",
            "source": "bogota_ohe['Localities'] = venues_bogota['Localities'] \n\n# put the column \"Localities\" at first\nfixed_columns = [bogota_ohe.columns[-1]] + list(bogota_ohe.columns[:-1])\nbogota_ohe = bogota_ohe[fixed_columns]\n\nbogota_ohe",
            "execution_count": 152,
            "outputs": [
                {
                    "output_type": "execute_result",
                    "execution_count": 152,
                    "data": {
                        "text/plain": "     Toy / Game Store  Vegetarian / Vegan Restaurant          Localities  \\\n0                   0                              0             Usaqu\u00e9n   \n1                   0                              0             Usaqu\u00e9n   \n2                   0                              0             Usaqu\u00e9n   \n3                   0                              0             Usaqu\u00e9n   \n4                   0                              0             Usaqu\u00e9n   \n..                ...                            ...                 ...   \n243                 0                              0  Rafael Uribe Uribe   \n244                 0                              0      Ciudad Bol\u00edvar   \n245                 0                              0      Ciudad Bol\u00edvar   \n246                 0                              0      Ciudad Bol\u00edvar   \n247                 0                              0      Ciudad Bol\u00edvar   \n\n     Airport  Airport Lounge  Airport Service  Airport Terminal  Arcade  \\\n0          0               0                0                 0       0   \n1          0               0                0                 0       0   \n2          0               0                0                 0       0   \n3          0               0                0                 0       0   \n4          0               0                0                 0       0   \n..       ...             ...              ...               ...     ...   \n243        0               0                0                 0       0   \n244        0               0                0                 0       0   \n245        0               0                0                 0       0   \n246        0               0                0                 0       0   \n247        0               0                0                 0       0   \n\n     Argentinian Restaurant  Art Museum  ...  Sandwich Place  \\\n0                         0           0  ...               0   \n1                         0           0  ...               0   \n2                         0           0  ...               0   \n3                         0           0  ...               0   \n4                         0           0  ...               0   \n..                      ...         ...  ...             ...   \n243                       0           0  ...               0   \n244                       0           0  ...               0   \n245                       0           0  ...               0   \n246                       0           0  ...               0   \n247                       0           0  ...               0   \n\n     Seafood Restaurant  Shop & Service  Shopping Mall  Snack Place  \\\n0                     0               0              0            0   \n1                     0               0              0            0   \n2                     0               0              0            0   \n3                     0               0              0            0   \n4                     0               0              0            0   \n..                  ...             ...            ...          ...   \n243                   0               0              0            0   \n244                   0               0              0            0   \n245                   1               0              0            0   \n246                   0               0              0            0   \n247                   0               0              0            0   \n\n     South American Restaurant  Steakhouse  Sushi Restaurant  Theater  \\\n0                            0           0                 0        0   \n1                            0           0                 0        0   \n2                            0           0                 0        0   \n3                            0           0                 0        0   \n4                            0           0                 0        0   \n..                         ...         ...               ...      ...   \n243                          0           0                 0        0   \n244                          0           0                 0        0   \n245                          0           0                 0        0   \n246                          0           0                 0        0   \n247                          0           0                 0        0   \n\n     Theme Restaurant  \n0                   0  \n1                   0  \n2                   0  \n3                   0  \n4                   0  \n..                ...  \n243                 0  \n244                 0  \n245                 0  \n246                 0  \n247                 0  \n\n[248 rows x 97 columns]",
                        "text/html": "<div>\n<style scoped>\n    .dataframe tbody tr th:only-of-type {\n        vertical-align: middle;\n    }\n\n    .dataframe tbody tr th {\n        vertical-align: top;\n    }\n\n    .dataframe thead th {\n        text-align: right;\n    }\n</style>\n<table border=\"1\" class=\"dataframe\">\n  <thead>\n    <tr style=\"text-align: right;\">\n      <th></th>\n      <th>Toy / Game Store</th>\n      <th>Vegetarian / Vegan Restaurant</th>\n      <th>Localities</th>\n      <th>Airport</th>\n      <th>Airport Lounge</th>\n      <th>Airport Service</th>\n      <th>Airport Terminal</th>\n      <th>Arcade</th>\n      <th>Argentinian Restaurant</th>\n      <th>Art Museum</th>\n      <th>...</th>\n      <th>Sandwich Place</th>\n      <th>Seafood Restaurant</th>\n      <th>Shop &amp; Service</th>\n      <th>Shopping Mall</th>\n      <th>Snack Place</th>\n      <th>South American Restaurant</th>\n      <th>Steakhouse</th>\n      <th>Sushi Restaurant</th>\n      <th>Theater</th>\n      <th>Theme Restaurant</th>\n    </tr>\n  </thead>\n  <tbody>\n    <tr>\n      <th>0</th>\n      <td>0</td>\n      <td>0</td>\n      <td>Usaqu\u00e9n</td>\n      <td>0</td>\n      <td>0</td>\n      <td>0</td>\n      <td>0</td>\n      <td>0</td>\n      <td>0</td>\n      <td>0</td>\n      <td>...</td>\n      <td>0</td>\n      <td>0</td>\n      <td>0</td>\n      <td>0</td>\n      <td>0</td>\n      <td>0</td>\n      <td>0</td>\n      <td>0</td>\n      <td>0</td>\n      <td>0</td>\n    </tr>\n    <tr>\n      <th>1</th>\n      <td>0</td>\n      <td>0</td>\n      <td>Usaqu\u00e9n</td>\n      <td>0</td>\n      <td>0</td>\n      <td>0</td>\n      <td>0</td>\n      <td>0</td>\n      <td>0</td>\n      <td>0</td>\n      <td>...</td>\n      <td>0</td>\n      <td>0</td>\n      <td>0</td>\n      <td>0</td>\n      <td>0</td>\n      <td>0</td>\n      <td>0</td>\n      <td>0</td>\n      <td>0</td>\n      <td>0</td>\n    </tr>\n    <tr>\n      <th>2</th>\n      <td>0</td>\n      <td>0</td>\n      <td>Usaqu\u00e9n</td>\n      <td>0</td>\n      <td>0</td>\n      <td>0</td>\n      <td>0</td>\n      <td>0</td>\n      <td>0</td>\n      <td>0</td>\n      <td>...</td>\n      <td>0</td>\n      <td>0</td>\n      <td>0</td>\n      <td>0</td>\n      <td>0</td>\n      <td>0</td>\n      <td>0</td>\n      <td>0</td>\n      <td>0</td>\n      <td>0</td>\n    </tr>\n    <tr>\n      <th>3</th>\n      <td>0</td>\n      <td>0</td>\n      <td>Usaqu\u00e9n</td>\n      <td>0</td>\n      <td>0</td>\n      <td>0</td>\n      <td>0</td>\n      <td>0</td>\n      <td>0</td>\n      <td>0</td>\n      <td>...</td>\n      <td>0</td>\n      <td>0</td>\n      <td>0</td>\n      <td>0</td>\n      <td>0</td>\n      <td>0</td>\n      <td>0</td>\n      <td>0</td>\n      <td>0</td>\n      <td>0</td>\n    </tr>\n    <tr>\n      <th>4</th>\n      <td>0</td>\n      <td>0</td>\n      <td>Usaqu\u00e9n</td>\n      <td>0</td>\n      <td>0</td>\n      <td>0</td>\n      <td>0</td>\n      <td>0</td>\n      <td>0</td>\n      <td>0</td>\n      <td>...</td>\n      <td>0</td>\n      <td>0</td>\n      <td>0</td>\n      <td>0</td>\n      <td>0</td>\n      <td>0</td>\n      <td>0</td>\n      <td>0</td>\n      <td>0</td>\n      <td>0</td>\n    </tr>\n    <tr>\n      <th>...</th>\n      <td>...</td>\n      <td>...</td>\n      <td>...</td>\n      <td>...</td>\n      <td>...</td>\n      <td>...</td>\n      <td>...</td>\n      <td>...</td>\n      <td>...</td>\n      <td>...</td>\n      <td>...</td>\n      <td>...</td>\n      <td>...</td>\n      <td>...</td>\n      <td>...</td>\n      <td>...</td>\n      <td>...</td>\n      <td>...</td>\n      <td>...</td>\n      <td>...</td>\n      <td>...</td>\n    </tr>\n    <tr>\n      <th>243</th>\n      <td>0</td>\n      <td>0</td>\n      <td>Rafael Uribe Uribe</td>\n      <td>0</td>\n      <td>0</td>\n      <td>0</td>\n      <td>0</td>\n      <td>0</td>\n      <td>0</td>\n      <td>0</td>\n      <td>...</td>\n      <td>0</td>\n      <td>0</td>\n      <td>0</td>\n      <td>0</td>\n      <td>0</td>\n      <td>0</td>\n      <td>0</td>\n      <td>0</td>\n      <td>0</td>\n      <td>0</td>\n    </tr>\n    <tr>\n      <th>244</th>\n      <td>0</td>\n      <td>0</td>\n      <td>Ciudad Bol\u00edvar</td>\n      <td>0</td>\n      <td>0</td>\n      <td>0</td>\n      <td>0</td>\n      <td>0</td>\n      <td>0</td>\n      <td>0</td>\n      <td>...</td>\n      <td>0</td>\n      <td>0</td>\n      <td>0</td>\n      <td>0</td>\n      <td>0</td>\n      <td>0</td>\n      <td>0</td>\n      <td>0</td>\n      <td>0</td>\n      <td>0</td>\n    </tr>\n    <tr>\n      <th>245</th>\n      <td>0</td>\n      <td>0</td>\n      <td>Ciudad Bol\u00edvar</td>\n      <td>0</td>\n      <td>0</td>\n      <td>0</td>\n      <td>0</td>\n      <td>0</td>\n      <td>0</td>\n      <td>0</td>\n      <td>...</td>\n      <td>0</td>\n      <td>1</td>\n      <td>0</td>\n      <td>0</td>\n      <td>0</td>\n      <td>0</td>\n      <td>0</td>\n      <td>0</td>\n      <td>0</td>\n      <td>0</td>\n    </tr>\n    <tr>\n      <th>246</th>\n      <td>0</td>\n      <td>0</td>\n      <td>Ciudad Bol\u00edvar</td>\n      <td>0</td>\n      <td>0</td>\n      <td>0</td>\n      <td>0</td>\n      <td>0</td>\n      <td>0</td>\n      <td>0</td>\n      <td>...</td>\n      <td>0</td>\n      <td>0</td>\n      <td>0</td>\n      <td>0</td>\n      <td>0</td>\n      <td>0</td>\n      <td>0</td>\n      <td>0</td>\n      <td>0</td>\n      <td>0</td>\n    </tr>\n    <tr>\n      <th>247</th>\n      <td>0</td>\n      <td>0</td>\n      <td>Ciudad Bol\u00edvar</td>\n      <td>0</td>\n      <td>0</td>\n      <td>0</td>\n      <td>0</td>\n      <td>0</td>\n      <td>0</td>\n      <td>0</td>\n      <td>...</td>\n      <td>0</td>\n      <td>0</td>\n      <td>0</td>\n      <td>0</td>\n      <td>0</td>\n      <td>0</td>\n      <td>0</td>\n      <td>0</td>\n      <td>0</td>\n      <td>0</td>\n    </tr>\n  </tbody>\n</table>\n<p>248 rows \u00d7 97 columns</p>\n</div>"
                    },
                    "metadata": {}
                }
            ]
        },
        {
            "metadata": {
                "id": "A82meMzmJc6S",
                "colab_type": "text"
            },
            "cell_type": "markdown",
            "source": "### Venue categories"
        },
        {
            "metadata": {
                "id": "KoyGDi5eJdbu",
                "colab_type": "code",
                "colab": {
                    "base_uri": "https://localhost:8080/",
                    "height": 355
                },
                "executionInfo": {
                    "status": "ok",
                    "timestamp": 1597726463943,
                    "user_tz": -330,
                    "elapsed": 943,
                    "user": {
                        "displayName": "Thomas George Thomas",
                        "photoUrl": "https://lh3.googleusercontent.com/a-/AOh14GhRjmtno5yCmJOUjYiFNGHi_xP5YZBJ1ZpWGKsZ=s64",
                        "userId": "09561174857978505545"
                    }
                },
                "outputId": "d2da698d-0b97-46f4-b804-f541e77f6b26"
            },
            "cell_type": "code",
            "source": "bogota_gp = bogota_ohe.groupby('Localities').mean().reset_index()\nbogota_gp",
            "execution_count": 155,
            "outputs": [
                {
                    "output_type": "execute_result",
                    "execution_count": 155,
                    "data": {
                        "text/plain": "            Localities  Toy / Game Store  Vegetarian / Vegan Restaurant  \\\n0       Antonio Nari\u00f1o          0.000000                       0.000000   \n1       Barrios Unidos          0.000000                       0.000000   \n2                 Bosa          0.000000                       0.000000   \n3            Chapinero          0.000000                       0.000000   \n4       Ciudad Bol\u00edvar          0.000000                       0.000000   \n5             Engativ\u00e1          0.083333                       0.000000   \n6             Fontib\u00f3n          0.000000                       0.000000   \n7              Kennedy          0.000000                       0.000000   \n8        La Candelaria          0.000000                       0.025641   \n9         Los M\u00e1rtires          0.000000                       0.000000   \n10       Puente Aranda          0.000000                       0.000000   \n11  Rafael Uribe Uribe          0.000000                       0.000000   \n12                Suba          0.000000                       0.000000   \n13         Teusaquillo          0.000000                       0.000000   \n14          Tunjuelito          0.000000                       0.000000   \n15             Usaqu\u00e9n          0.000000                       0.000000   \n\n     Airport  Airport Lounge  Airport Service  Airport Terminal    Arcade  \\\n0   0.000000        0.000000         0.000000          0.000000  0.000000   \n1   0.000000        0.000000         0.000000          0.000000  0.000000   \n2   0.000000        0.000000         0.000000          0.000000  0.000000   \n3   0.000000        0.000000         0.000000          0.000000  0.000000   \n4   0.000000        0.000000         0.000000          0.000000  0.000000   \n5   0.000000        0.000000         0.000000          0.000000  0.000000   \n6   0.026316        0.131579         0.026316          0.026316  0.000000   \n7   0.000000        0.000000         0.000000          0.000000  0.000000   \n8   0.000000        0.000000         0.000000          0.000000  0.012821   \n9   0.000000        0.000000         0.000000          0.000000  0.000000   \n10  0.000000        0.000000         0.000000          0.000000  0.000000   \n11  0.000000        0.000000         0.000000          0.000000  0.000000   \n12  0.000000        0.000000         0.000000          0.000000  0.000000   \n13  0.000000        0.000000         0.000000          0.000000  0.000000   \n14  0.000000        0.000000         0.000000          0.000000  0.000000   \n15  0.000000        0.000000         0.000000          0.000000  0.000000   \n\n    Argentinian Restaurant  Art Museum  ...  Sandwich Place  \\\n0                 0.000000    0.000000  ...        0.050000   \n1                 0.000000    0.000000  ...        0.000000   \n2                 0.000000    0.000000  ...        0.000000   \n3                 0.000000    0.000000  ...        0.000000   \n4                 0.000000    0.000000  ...        0.000000   \n5                 0.000000    0.000000  ...        0.000000   \n6                 0.000000    0.000000  ...        0.026316   \n7                 0.000000    0.000000  ...        0.000000   \n8                 0.025641    0.025641  ...        0.012821   \n9                 0.000000    0.000000  ...        0.000000   \n10                0.000000    0.000000  ...        0.000000   \n11                0.000000    0.000000  ...        0.000000   \n12                0.000000    0.000000  ...        0.000000   \n13                0.000000    0.000000  ...        0.050000   \n14                0.000000    0.000000  ...        0.000000   \n15                0.000000    0.000000  ...        0.000000   \n\n    Seafood Restaurant  Shop & Service  Shopping Mall  Snack Place  \\\n0             0.000000        0.000000          0.050     0.000000   \n1             0.000000        0.000000          0.000     0.000000   \n2             0.000000        0.000000          0.250     0.000000   \n3             0.000000        0.000000          0.000     0.000000   \n4             0.250000        0.000000          0.000     0.000000   \n5             0.083333        0.083333          0.000     0.000000   \n6             0.000000        0.000000          0.000     0.026316   \n7             0.000000        0.000000          0.200     0.000000   \n8             0.000000        0.000000          0.000     0.025641   \n9             0.000000        0.000000          0.375     0.000000   \n10            0.200000        0.000000          0.000     0.000000   \n11            0.000000        0.000000          0.000     0.000000   \n12            0.111111        0.000000          0.000     0.000000   \n13            0.000000        0.000000          0.000     0.000000   \n14            0.000000        0.000000          0.000     0.000000   \n15            0.030303        0.000000          0.000     0.000000   \n\n    South American Restaurant  Steakhouse  Sushi Restaurant   Theater  \\\n0                    0.000000    0.000000          0.000000  0.000000   \n1                    0.000000    0.000000          0.000000  0.000000   \n2                    0.000000    0.000000          0.000000  0.000000   \n3                    0.000000    0.000000          0.000000  0.000000   \n4                    0.000000    0.000000          0.000000  0.000000   \n5                    0.000000    0.000000          0.000000  0.000000   \n6                    0.000000    0.000000          0.000000  0.000000   \n7                    0.000000    0.000000          0.000000  0.000000   \n8                    0.012821    0.000000          0.012821  0.012821   \n9                    0.000000    0.000000          0.000000  0.000000   \n10                   0.000000    0.000000          0.000000  0.000000   \n11                   0.000000    0.000000          0.000000  0.000000   \n12                   0.000000    0.000000          0.000000  0.000000   \n13                   0.000000    0.000000          0.000000  0.000000   \n14                   0.000000    0.000000          0.000000  0.000000   \n15                   0.000000    0.060606          0.030303  0.000000   \n\n    Theme Restaurant  \n0           0.000000  \n1           0.000000  \n2           0.000000  \n3           0.000000  \n4           0.000000  \n5           0.000000  \n6           0.026316  \n7           0.000000  \n8           0.000000  \n9           0.000000  \n10          0.000000  \n11          0.000000  \n12          0.000000  \n13          0.000000  \n14          0.000000  \n15          0.000000  \n\n[16 rows x 97 columns]",
                        "text/html": "<div>\n<style scoped>\n    .dataframe tbody tr th:only-of-type {\n        vertical-align: middle;\n    }\n\n    .dataframe tbody tr th {\n        vertical-align: top;\n    }\n\n    .dataframe thead th {\n        text-align: right;\n    }\n</style>\n<table border=\"1\" class=\"dataframe\">\n  <thead>\n    <tr style=\"text-align: right;\">\n      <th></th>\n      <th>Localities</th>\n      <th>Toy / Game Store</th>\n      <th>Vegetarian / Vegan Restaurant</th>\n      <th>Airport</th>\n      <th>Airport Lounge</th>\n      <th>Airport Service</th>\n      <th>Airport Terminal</th>\n      <th>Arcade</th>\n      <th>Argentinian Restaurant</th>\n      <th>Art Museum</th>\n      <th>...</th>\n      <th>Sandwich Place</th>\n      <th>Seafood Restaurant</th>\n      <th>Shop &amp; Service</th>\n      <th>Shopping Mall</th>\n      <th>Snack Place</th>\n      <th>South American Restaurant</th>\n      <th>Steakhouse</th>\n      <th>Sushi Restaurant</th>\n      <th>Theater</th>\n      <th>Theme Restaurant</th>\n    </tr>\n  </thead>\n  <tbody>\n    <tr>\n      <th>0</th>\n      <td>Antonio Nari\u00f1o</td>\n      <td>0.000000</td>\n      <td>0.000000</td>\n      <td>0.000000</td>\n      <td>0.000000</td>\n      <td>0.000000</td>\n      <td>0.000000</td>\n      <td>0.000000</td>\n      <td>0.000000</td>\n      <td>0.000000</td>\n      <td>...</td>\n      <td>0.050000</td>\n      <td>0.000000</td>\n      <td>0.000000</td>\n      <td>0.050</td>\n      <td>0.000000</td>\n      <td>0.000000</td>\n      <td>0.000000</td>\n      <td>0.000000</td>\n      <td>0.000000</td>\n      <td>0.000000</td>\n    </tr>\n    <tr>\n      <th>1</th>\n      <td>Barrios Unidos</td>\n      <td>0.000000</td>\n      <td>0.000000</td>\n      <td>0.000000</td>\n      <td>0.000000</td>\n      <td>0.000000</td>\n      <td>0.000000</td>\n      <td>0.000000</td>\n      <td>0.000000</td>\n      <td>0.000000</td>\n      <td>...</td>\n      <td>0.000000</td>\n      <td>0.000000</td>\n      <td>0.000000</td>\n      <td>0.000</td>\n      <td>0.000000</td>\n      <td>0.000000</td>\n      <td>0.000000</td>\n      <td>0.000000</td>\n      <td>0.000000</td>\n      <td>0.000000</td>\n    </tr>\n    <tr>\n      <th>2</th>\n      <td>Bosa</td>\n      <td>0.000000</td>\n      <td>0.000000</td>\n      <td>0.000000</td>\n      <td>0.000000</td>\n      <td>0.000000</td>\n      <td>0.000000</td>\n      <td>0.000000</td>\n      <td>0.000000</td>\n      <td>0.000000</td>\n      <td>...</td>\n      <td>0.000000</td>\n      <td>0.000000</td>\n      <td>0.000000</td>\n      <td>0.250</td>\n      <td>0.000000</td>\n      <td>0.000000</td>\n      <td>0.000000</td>\n      <td>0.000000</td>\n      <td>0.000000</td>\n      <td>0.000000</td>\n    </tr>\n    <tr>\n      <th>3</th>\n      <td>Chapinero</td>\n      <td>0.000000</td>\n      <td>0.000000</td>\n      <td>0.000000</td>\n      <td>0.000000</td>\n      <td>0.000000</td>\n      <td>0.000000</td>\n      <td>0.000000</td>\n      <td>0.000000</td>\n      <td>0.000000</td>\n      <td>...</td>\n      <td>0.000000</td>\n      <td>0.000000</td>\n      <td>0.000000</td>\n      <td>0.000</td>\n      <td>0.000000</td>\n      <td>0.000000</td>\n      <td>0.000000</td>\n      <td>0.000000</td>\n      <td>0.000000</td>\n      <td>0.000000</td>\n    </tr>\n    <tr>\n      <th>4</th>\n      <td>Ciudad Bol\u00edvar</td>\n      <td>0.000000</td>\n      <td>0.000000</td>\n      <td>0.000000</td>\n      <td>0.000000</td>\n      <td>0.000000</td>\n      <td>0.000000</td>\n      <td>0.000000</td>\n      <td>0.000000</td>\n      <td>0.000000</td>\n      <td>...</td>\n      <td>0.000000</td>\n      <td>0.250000</td>\n      <td>0.000000</td>\n      <td>0.000</td>\n      <td>0.000000</td>\n      <td>0.000000</td>\n      <td>0.000000</td>\n      <td>0.000000</td>\n      <td>0.000000</td>\n      <td>0.000000</td>\n    </tr>\n    <tr>\n      <th>5</th>\n      <td>Engativ\u00e1</td>\n      <td>0.083333</td>\n      <td>0.000000</td>\n      <td>0.000000</td>\n      <td>0.000000</td>\n      <td>0.000000</td>\n      <td>0.000000</td>\n      <td>0.000000</td>\n      <td>0.000000</td>\n      <td>0.000000</td>\n      <td>...</td>\n      <td>0.000000</td>\n      <td>0.083333</td>\n      <td>0.083333</td>\n      <td>0.000</td>\n      <td>0.000000</td>\n      <td>0.000000</td>\n      <td>0.000000</td>\n      <td>0.000000</td>\n      <td>0.000000</td>\n      <td>0.000000</td>\n    </tr>\n    <tr>\n      <th>6</th>\n      <td>Fontib\u00f3n</td>\n      <td>0.000000</td>\n      <td>0.000000</td>\n      <td>0.026316</td>\n      <td>0.131579</td>\n      <td>0.026316</td>\n      <td>0.026316</td>\n      <td>0.000000</td>\n      <td>0.000000</td>\n      <td>0.000000</td>\n      <td>...</td>\n      <td>0.026316</td>\n      <td>0.000000</td>\n      <td>0.000000</td>\n      <td>0.000</td>\n      <td>0.026316</td>\n      <td>0.000000</td>\n      <td>0.000000</td>\n      <td>0.000000</td>\n      <td>0.000000</td>\n      <td>0.026316</td>\n    </tr>\n    <tr>\n      <th>7</th>\n      <td>Kennedy</td>\n      <td>0.000000</td>\n      <td>0.000000</td>\n      <td>0.000000</td>\n      <td>0.000000</td>\n      <td>0.000000</td>\n      <td>0.000000</td>\n      <td>0.000000</td>\n      <td>0.000000</td>\n      <td>0.000000</td>\n      <td>...</td>\n      <td>0.000000</td>\n      <td>0.000000</td>\n      <td>0.000000</td>\n      <td>0.200</td>\n      <td>0.000000</td>\n      <td>0.000000</td>\n      <td>0.000000</td>\n      <td>0.000000</td>\n      <td>0.000000</td>\n      <td>0.000000</td>\n    </tr>\n    <tr>\n      <th>8</th>\n      <td>La Candelaria</td>\n      <td>0.000000</td>\n      <td>0.025641</td>\n      <td>0.000000</td>\n      <td>0.000000</td>\n      <td>0.000000</td>\n      <td>0.000000</td>\n      <td>0.012821</td>\n      <td>0.025641</td>\n      <td>0.025641</td>\n      <td>...</td>\n      <td>0.012821</td>\n      <td>0.000000</td>\n      <td>0.000000</td>\n      <td>0.000</td>\n      <td>0.025641</td>\n      <td>0.012821</td>\n      <td>0.000000</td>\n      <td>0.012821</td>\n      <td>0.012821</td>\n      <td>0.000000</td>\n    </tr>\n    <tr>\n      <th>9</th>\n      <td>Los M\u00e1rtires</td>\n      <td>0.000000</td>\n      <td>0.000000</td>\n      <td>0.000000</td>\n      <td>0.000000</td>\n      <td>0.000000</td>\n      <td>0.000000</td>\n      <td>0.000000</td>\n      <td>0.000000</td>\n      <td>0.000000</td>\n      <td>...</td>\n      <td>0.000000</td>\n      <td>0.000000</td>\n      <td>0.000000</td>\n      <td>0.375</td>\n      <td>0.000000</td>\n      <td>0.000000</td>\n      <td>0.000000</td>\n      <td>0.000000</td>\n      <td>0.000000</td>\n      <td>0.000000</td>\n    </tr>\n    <tr>\n      <th>10</th>\n      <td>Puente Aranda</td>\n      <td>0.000000</td>\n      <td>0.000000</td>\n      <td>0.000000</td>\n      <td>0.000000</td>\n      <td>0.000000</td>\n      <td>0.000000</td>\n      <td>0.000000</td>\n      <td>0.000000</td>\n      <td>0.000000</td>\n      <td>...</td>\n      <td>0.000000</td>\n      <td>0.200000</td>\n      <td>0.000000</td>\n      <td>0.000</td>\n      <td>0.000000</td>\n      <td>0.000000</td>\n      <td>0.000000</td>\n      <td>0.000000</td>\n      <td>0.000000</td>\n      <td>0.000000</td>\n    </tr>\n    <tr>\n      <th>11</th>\n      <td>Rafael Uribe Uribe</td>\n      <td>0.000000</td>\n      <td>0.000000</td>\n      <td>0.000000</td>\n      <td>0.000000</td>\n      <td>0.000000</td>\n      <td>0.000000</td>\n      <td>0.000000</td>\n      <td>0.000000</td>\n      <td>0.000000</td>\n      <td>...</td>\n      <td>0.000000</td>\n      <td>0.000000</td>\n      <td>0.000000</td>\n      <td>0.000</td>\n      <td>0.000000</td>\n      <td>0.000000</td>\n      <td>0.000000</td>\n      <td>0.000000</td>\n      <td>0.000000</td>\n      <td>0.000000</td>\n    </tr>\n    <tr>\n      <th>12</th>\n      <td>Suba</td>\n      <td>0.000000</td>\n      <td>0.000000</td>\n      <td>0.000000</td>\n      <td>0.000000</td>\n      <td>0.000000</td>\n      <td>0.000000</td>\n      <td>0.000000</td>\n      <td>0.000000</td>\n      <td>0.000000</td>\n      <td>...</td>\n      <td>0.000000</td>\n      <td>0.111111</td>\n      <td>0.000000</td>\n      <td>0.000</td>\n      <td>0.000000</td>\n      <td>0.000000</td>\n      <td>0.000000</td>\n      <td>0.000000</td>\n      <td>0.000000</td>\n      <td>0.000000</td>\n    </tr>\n    <tr>\n      <th>13</th>\n      <td>Teusaquillo</td>\n      <td>0.000000</td>\n      <td>0.000000</td>\n      <td>0.000000</td>\n      <td>0.000000</td>\n      <td>0.000000</td>\n      <td>0.000000</td>\n      <td>0.000000</td>\n      <td>0.000000</td>\n      <td>0.000000</td>\n      <td>...</td>\n      <td>0.050000</td>\n      <td>0.000000</td>\n      <td>0.000000</td>\n      <td>0.000</td>\n      <td>0.000000</td>\n      <td>0.000000</td>\n      <td>0.000000</td>\n      <td>0.000000</td>\n      <td>0.000000</td>\n      <td>0.000000</td>\n    </tr>\n    <tr>\n      <th>14</th>\n      <td>Tunjuelito</td>\n      <td>0.000000</td>\n      <td>0.000000</td>\n      <td>0.000000</td>\n      <td>0.000000</td>\n      <td>0.000000</td>\n      <td>0.000000</td>\n      <td>0.000000</td>\n      <td>0.000000</td>\n      <td>0.000000</td>\n      <td>...</td>\n      <td>0.000000</td>\n      <td>0.000000</td>\n      <td>0.000000</td>\n      <td>0.000</td>\n      <td>0.000000</td>\n      <td>0.000000</td>\n      <td>0.000000</td>\n      <td>0.000000</td>\n      <td>0.000000</td>\n      <td>0.000000</td>\n    </tr>\n    <tr>\n      <th>15</th>\n      <td>Usaqu\u00e9n</td>\n      <td>0.000000</td>\n      <td>0.000000</td>\n      <td>0.000000</td>\n      <td>0.000000</td>\n      <td>0.000000</td>\n      <td>0.000000</td>\n      <td>0.000000</td>\n      <td>0.000000</td>\n      <td>0.000000</td>\n      <td>...</td>\n      <td>0.000000</td>\n      <td>0.030303</td>\n      <td>0.000000</td>\n      <td>0.000</td>\n      <td>0.000000</td>\n      <td>0.000000</td>\n      <td>0.060606</td>\n      <td>0.030303</td>\n      <td>0.000000</td>\n      <td>0.000000</td>\n    </tr>\n  </tbody>\n</table>\n<p>16 rows \u00d7 97 columns</p>\n</div>"
                    },
                    "metadata": {}
                }
            ]
        },
        {
            "metadata": {
                "id": "tjyW795DJmNH",
                "colab_type": "code",
                "colab": {},
                "executionInfo": {
                    "status": "ok",
                    "timestamp": 1597726466911,
                    "user_tz": -330,
                    "elapsed": 971,
                    "user": {
                        "displayName": "Thomas George Thomas",
                        "photoUrl": "https://lh3.googleusercontent.com/a-/AOh14GhRjmtno5yCmJOUjYiFNGHi_xP5YZBJ1ZpWGKsZ=s64",
                        "userId": "09561174857978505545"
                    }
                }
            },
            "cell_type": "code",
            "source": "def common_venues(row, num_top_venues):\n    row_categories = row.iloc[1:]\n    row_categories_sorted = row_categories.sort_values(ascending=False)\n    \n    return row_categories_sorted.index.values[0:num_top_venues]",
            "execution_count": 156,
            "outputs": []
        },
        {
            "metadata": {
                "id": "-eXzEokNJ0KS",
                "colab_type": "text"
            },
            "cell_type": "markdown",
            "source": "There are way too many venue categories, we can take the top 10 to clusters."
        },
        {
            "metadata": {
                "id": "nQTjBbIzJmEy",
                "colab_type": "code",
                "colab": {},
                "executionInfo": {
                    "status": "ok",
                    "timestamp": 1597726469730,
                    "user_tz": -330,
                    "elapsed": 927,
                    "user": {
                        "displayName": "Thomas George Thomas",
                        "photoUrl": "https://lh3.googleusercontent.com/a-/AOh14GhRjmtno5yCmJOUjYiFNGHi_xP5YZBJ1ZpWGKsZ=s64",
                        "userId": "09561174857978505545"
                    }
                }
            },
            "cell_type": "code",
            "source": "indicators = ['st', 'nd', 'rd']\n\ncolumns = ['Localities']\nfor ind in np.arange(10):\n    try:\n        columns.append('{}{} Most Common Venue'.format(ind+1, indicators[ind]))\n    except:\n        columns.append('{}th Most Common Venue'.format(ind+1))\n",
            "execution_count": 157,
            "outputs": []
        },
        {
            "metadata": {
                "id": "XM1h20YeKL7h",
                "colab_type": "text"
            },
            "cell_type": "markdown",
            "source": "### Top venues in Bogota"
        },
        {
            "metadata": {
                "id": "Qzo3lzicKCwy",
                "colab_type": "code",
                "colab": {
                    "base_uri": "https://localhost:8080/",
                    "height": 323
                },
                "executionInfo": {
                    "status": "ok",
                    "timestamp": 1597726538270,
                    "user_tz": -330,
                    "elapsed": 1070,
                    "user": {
                        "displayName": "Thomas George Thomas",
                        "photoUrl": "https://lh3.googleusercontent.com/a-/AOh14GhRjmtno5yCmJOUjYiFNGHi_xP5YZBJ1ZpWGKsZ=s64",
                        "userId": "09561174857978505545"
                    }
                },
                "outputId": "2bc00dff-91b4-4209-8682-3fea840a165d"
            },
            "cell_type": "code",
            "source": "bogota_localities_venues = pd.DataFrame(columns=columns)\nbogota_localities_venues['Localities'] = bogota_gp['Localities']\n\nfor ind in np.arange(bogota_gp.shape[0]):\n    bogota_localities_venues.iloc[ind, 1:] = common_venues(bogota_gp.iloc[ind, :], 10)\n\nbogota_localities_venues",
            "execution_count": 158,
            "outputs": [
                {
                    "output_type": "execute_result",
                    "execution_count": 158,
                    "data": {
                        "text/plain": "            Localities 1st Most Common Venue      2nd Most Common Venue  \\\n0       Antonio Nari\u00f1o      Department Store             Clothing Store   \n1       Barrios Unidos    Mexican Restaurant  Latin American Restaurant   \n2                 Bosa         Movie Theater              Shopping Mall   \n3            Chapinero              Mountain           Theme Restaurant   \n4       Ciudad Bol\u00edvar  Fast Food Restaurant         Seafood Restaurant   \n5             Engativ\u00e1           Pizza Place         Seafood Restaurant   \n6             Fontib\u00f3n        Airport Lounge                Coffee Shop   \n7              Kennedy          Burger Joint              Shopping Mall   \n8        La Candelaria                  Caf\u00e9         Italian Restaurant   \n9         Los M\u00e1rtires         Shopping Mall          Mobile Phone Shop   \n10       Puente Aranda             BBQ Joint         Seafood Restaurant   \n11  Rafael Uribe Uribe          Burger Joint               Neighborhood   \n12                Suba           Coffee Shop       Fast Food Restaurant   \n13         Teusaquillo               Brewery                       Caf\u00e9   \n14          Tunjuelito                   Gym  Latin American Restaurant   \n15             Usaqu\u00e9n                 Hotel                       Caf\u00e9   \n\n   3rd Most Common Venue 4th Most Common Venue 5th Most Common Venue  \\\n0             Restaurant   Fried Chicken Joint           Pizza Place   \n1       Theme Restaurant                  Caf\u00e9        Clothing Store   \n2         Ice Cream Shop              Pharmacy        Cosmetics Shop   \n3      French Restaurant  Caribbean Restaurant        Clothing Store   \n4                   Park           Auto Garage      Theme Restaurant   \n5              Multiplex                  Park                   Bar   \n6                   Caf\u00e9        Duty-free Shop           Pizza Place   \n7            Beer Garden     Health Food Store          Cupcake Shop   \n8         History Museum                Hostel            Restaurant   \n9               Boutique        Clothing Store      Department Store   \n10                Bakery       Motorcycle Shop  Fast Food Restaurant   \n11    Mexican Restaurant              Pharmacy             Cafeteria   \n12             Gastropub    Seafood Restaurant        Ice Cream Shop   \n13          Burger Joint         Indie Theater   Peruvian Restaurant   \n14            Restaurant      Theme Restaurant       Cultural Center   \n15     French Restaurant      Asian Restaurant                   Pub   \n\n      6th Most Common Venue 7th Most Common Venue    8th Most Common Venue  \\\n0                 Drugstore         Deli / Bodega                      Gym   \n1              Cocktail Bar           Coffee Shop  Comfort Food Restaurant   \n2                      Caf\u00e9  Caribbean Restaurant           Clothing Store   \n3              Cocktail Bar           Coffee Shop  Comfort Food Restaurant   \n4           Cultural Center  Caribbean Restaurant           Clothing Store   \n5                    Bakery                   Pub     Gym / Fitness Center   \n6                Donut Shop        Cosmetics Shop      Fried Chicken Joint   \n7            Clothing Store          Cocktail Bar              Coffee Shop   \n8              Cocktail Bar    Mexican Restaurant   Argentinian Restaurant   \n9                Restaurant      Theme Restaurant           Cosmetics Shop   \n10           Duty-free Shop  Caribbean Restaurant           Clothing Store   \n11                     Caf\u00e9  Caribbean Restaurant           Clothing Store   \n12               Restaurant                   Pub                     Park   \n13  New American Restaurant          Cocktail Bar           Ice Cream Shop   \n14     Caribbean Restaurant        Clothing Store             Cocktail Bar   \n15               Steakhouse                   Bar               Restaurant   \n\n      9th Most Common Venue   10th Most Common Venue  \n0        Mexican Restaurant        Mobile Phone Shop  \n1              Concert Hall        Convenience Store  \n2              Cocktail Bar              Coffee Shop  \n3              Concert Hall        Convenience Store  \n4              Cocktail Bar              Coffee Shop  \n5          Toy / Game Store           Shop & Service  \n6                 Gift Shop                Cafeteria  \n7   Comfort Food Restaurant             Concert Hall  \n8                 Bookstore           Breakfast Spot  \n9      Caribbean Restaurant             Cocktail Bar  \n10             Cocktail Bar              Coffee Shop  \n11             Cocktail Bar              Coffee Shop  \n12         Theme Restaurant           Cosmetics Shop  \n13               Restaurant           Sandwich Place  \n14              Coffee Shop  Comfort Food Restaurant  \n15           Gymnastics Gym     Gym / Fitness Center  ",
                        "text/html": "<div>\n<style scoped>\n    .dataframe tbody tr th:only-of-type {\n        vertical-align: middle;\n    }\n\n    .dataframe tbody tr th {\n        vertical-align: top;\n    }\n\n    .dataframe thead th {\n        text-align: right;\n    }\n</style>\n<table border=\"1\" class=\"dataframe\">\n  <thead>\n    <tr style=\"text-align: right;\">\n      <th></th>\n      <th>Localities</th>\n      <th>1st Most Common Venue</th>\n      <th>2nd Most Common Venue</th>\n      <th>3rd Most Common Venue</th>\n      <th>4th Most Common Venue</th>\n      <th>5th Most Common Venue</th>\n      <th>6th Most Common Venue</th>\n      <th>7th Most Common Venue</th>\n      <th>8th Most Common Venue</th>\n      <th>9th Most Common Venue</th>\n      <th>10th Most Common Venue</th>\n    </tr>\n  </thead>\n  <tbody>\n    <tr>\n      <th>0</th>\n      <td>Antonio Nari\u00f1o</td>\n      <td>Department Store</td>\n      <td>Clothing Store</td>\n      <td>Restaurant</td>\n      <td>Fried Chicken Joint</td>\n      <td>Pizza Place</td>\n      <td>Drugstore</td>\n      <td>Deli / Bodega</td>\n      <td>Gym</td>\n      <td>Mexican Restaurant</td>\n      <td>Mobile Phone Shop</td>\n    </tr>\n    <tr>\n      <th>1</th>\n      <td>Barrios Unidos</td>\n      <td>Mexican Restaurant</td>\n      <td>Latin American Restaurant</td>\n      <td>Theme Restaurant</td>\n      <td>Caf\u00e9</td>\n      <td>Clothing Store</td>\n      <td>Cocktail Bar</td>\n      <td>Coffee Shop</td>\n      <td>Comfort Food Restaurant</td>\n      <td>Concert Hall</td>\n      <td>Convenience Store</td>\n    </tr>\n    <tr>\n      <th>2</th>\n      <td>Bosa</td>\n      <td>Movie Theater</td>\n      <td>Shopping Mall</td>\n      <td>Ice Cream Shop</td>\n      <td>Pharmacy</td>\n      <td>Cosmetics Shop</td>\n      <td>Caf\u00e9</td>\n      <td>Caribbean Restaurant</td>\n      <td>Clothing Store</td>\n      <td>Cocktail Bar</td>\n      <td>Coffee Shop</td>\n    </tr>\n    <tr>\n      <th>3</th>\n      <td>Chapinero</td>\n      <td>Mountain</td>\n      <td>Theme Restaurant</td>\n      <td>French Restaurant</td>\n      <td>Caribbean Restaurant</td>\n      <td>Clothing Store</td>\n      <td>Cocktail Bar</td>\n      <td>Coffee Shop</td>\n      <td>Comfort Food Restaurant</td>\n      <td>Concert Hall</td>\n      <td>Convenience Store</td>\n    </tr>\n    <tr>\n      <th>4</th>\n      <td>Ciudad Bol\u00edvar</td>\n      <td>Fast Food Restaurant</td>\n      <td>Seafood Restaurant</td>\n      <td>Park</td>\n      <td>Auto Garage</td>\n      <td>Theme Restaurant</td>\n      <td>Cultural Center</td>\n      <td>Caribbean Restaurant</td>\n      <td>Clothing Store</td>\n      <td>Cocktail Bar</td>\n      <td>Coffee Shop</td>\n    </tr>\n    <tr>\n      <th>5</th>\n      <td>Engativ\u00e1</td>\n      <td>Pizza Place</td>\n      <td>Seafood Restaurant</td>\n      <td>Multiplex</td>\n      <td>Park</td>\n      <td>Bar</td>\n      <td>Bakery</td>\n      <td>Pub</td>\n      <td>Gym / Fitness Center</td>\n      <td>Toy / Game Store</td>\n      <td>Shop &amp; Service</td>\n    </tr>\n    <tr>\n      <th>6</th>\n      <td>Fontib\u00f3n</td>\n      <td>Airport Lounge</td>\n      <td>Coffee Shop</td>\n      <td>Caf\u00e9</td>\n      <td>Duty-free Shop</td>\n      <td>Pizza Place</td>\n      <td>Donut Shop</td>\n      <td>Cosmetics Shop</td>\n      <td>Fried Chicken Joint</td>\n      <td>Gift Shop</td>\n      <td>Cafeteria</td>\n    </tr>\n    <tr>\n      <th>7</th>\n      <td>Kennedy</td>\n      <td>Burger Joint</td>\n      <td>Shopping Mall</td>\n      <td>Beer Garden</td>\n      <td>Health Food Store</td>\n      <td>Cupcake Shop</td>\n      <td>Clothing Store</td>\n      <td>Cocktail Bar</td>\n      <td>Coffee Shop</td>\n      <td>Comfort Food Restaurant</td>\n      <td>Concert Hall</td>\n    </tr>\n    <tr>\n      <th>8</th>\n      <td>La Candelaria</td>\n      <td>Caf\u00e9</td>\n      <td>Italian Restaurant</td>\n      <td>History Museum</td>\n      <td>Hostel</td>\n      <td>Restaurant</td>\n      <td>Cocktail Bar</td>\n      <td>Mexican Restaurant</td>\n      <td>Argentinian Restaurant</td>\n      <td>Bookstore</td>\n      <td>Breakfast Spot</td>\n    </tr>\n    <tr>\n      <th>9</th>\n      <td>Los M\u00e1rtires</td>\n      <td>Shopping Mall</td>\n      <td>Mobile Phone Shop</td>\n      <td>Boutique</td>\n      <td>Clothing Store</td>\n      <td>Department Store</td>\n      <td>Restaurant</td>\n      <td>Theme Restaurant</td>\n      <td>Cosmetics Shop</td>\n      <td>Caribbean Restaurant</td>\n      <td>Cocktail Bar</td>\n    </tr>\n    <tr>\n      <th>10</th>\n      <td>Puente Aranda</td>\n      <td>BBQ Joint</td>\n      <td>Seafood Restaurant</td>\n      <td>Bakery</td>\n      <td>Motorcycle Shop</td>\n      <td>Fast Food Restaurant</td>\n      <td>Duty-free Shop</td>\n      <td>Caribbean Restaurant</td>\n      <td>Clothing Store</td>\n      <td>Cocktail Bar</td>\n      <td>Coffee Shop</td>\n    </tr>\n    <tr>\n      <th>11</th>\n      <td>Rafael Uribe Uribe</td>\n      <td>Burger Joint</td>\n      <td>Neighborhood</td>\n      <td>Mexican Restaurant</td>\n      <td>Pharmacy</td>\n      <td>Cafeteria</td>\n      <td>Caf\u00e9</td>\n      <td>Caribbean Restaurant</td>\n      <td>Clothing Store</td>\n      <td>Cocktail Bar</td>\n      <td>Coffee Shop</td>\n    </tr>\n    <tr>\n      <th>12</th>\n      <td>Suba</td>\n      <td>Coffee Shop</td>\n      <td>Fast Food Restaurant</td>\n      <td>Gastropub</td>\n      <td>Seafood Restaurant</td>\n      <td>Ice Cream Shop</td>\n      <td>Restaurant</td>\n      <td>Pub</td>\n      <td>Park</td>\n      <td>Theme Restaurant</td>\n      <td>Cosmetics Shop</td>\n    </tr>\n    <tr>\n      <th>13</th>\n      <td>Teusaquillo</td>\n      <td>Brewery</td>\n      <td>Caf\u00e9</td>\n      <td>Burger Joint</td>\n      <td>Indie Theater</td>\n      <td>Peruvian Restaurant</td>\n      <td>New American Restaurant</td>\n      <td>Cocktail Bar</td>\n      <td>Ice Cream Shop</td>\n      <td>Restaurant</td>\n      <td>Sandwich Place</td>\n    </tr>\n    <tr>\n      <th>14</th>\n      <td>Tunjuelito</td>\n      <td>Gym</td>\n      <td>Latin American Restaurant</td>\n      <td>Restaurant</td>\n      <td>Theme Restaurant</td>\n      <td>Cultural Center</td>\n      <td>Caribbean Restaurant</td>\n      <td>Clothing Store</td>\n      <td>Cocktail Bar</td>\n      <td>Coffee Shop</td>\n      <td>Comfort Food Restaurant</td>\n    </tr>\n    <tr>\n      <th>15</th>\n      <td>Usaqu\u00e9n</td>\n      <td>Hotel</td>\n      <td>Caf\u00e9</td>\n      <td>French Restaurant</td>\n      <td>Asian Restaurant</td>\n      <td>Pub</td>\n      <td>Steakhouse</td>\n      <td>Bar</td>\n      <td>Restaurant</td>\n      <td>Gymnastics Gym</td>\n      <td>Gym / Fitness Center</td>\n    </tr>\n  </tbody>\n</table>\n</div>"
                    },
                    "metadata": {}
                }
            ]
        },
        {
            "metadata": {
                "id": "-XXzLZegLdVa",
                "colab_type": "text"
            },
            "cell_type": "markdown",
            "source": "##  KMeans Model Building"
        },
        {
            "metadata": {
                "id": "T08O5L6wLf-6",
                "colab_type": "code",
                "colab": {
                    "base_uri": "https://localhost:8080/",
                    "height": 68
                },
                "executionInfo": {
                    "status": "ok",
                    "timestamp": 1597726544374,
                    "user_tz": -330,
                    "elapsed": 979,
                    "user": {
                        "displayName": "Thomas George Thomas",
                        "photoUrl": "https://lh3.googleusercontent.com/a-/AOh14GhRjmtno5yCmJOUjYiFNGHi_xP5YZBJ1ZpWGKsZ=s64",
                        "userId": "09561174857978505545"
                    }
                },
                "outputId": "847dff50-5c4b-4422-f024-7edd4dcd3e76"
            },
            "cell_type": "code",
            "source": "clusters = 5\n\nbogota_gp_clustering = bogota_gp.drop('Localities', 1)\n\nkmeans_bogota = KMeans(n_clusters=clusters, random_state=0).fit(bogota_gp_clustering)\nkmeans_bogota",
            "execution_count": 189,
            "outputs": [
                {
                    "output_type": "execute_result",
                    "execution_count": 189,
                    "data": {
                        "text/plain": "KMeans(n_clusters=5, random_state=0)"
                    },
                    "metadata": {}
                }
            ]
        },
        {
            "metadata": {
                "id": "_7s2PWbvZxyW",
                "colab_type": "text"
            },
            "cell_type": "markdown",
            "source": "### Labelling Clustered Data"
        },
        {
            "metadata": {
                "id": "CGbB56rxMJYt",
                "colab_type": "code",
                "colab": {
                    "base_uri": "https://localhost:8080/",
                    "height": 34
                },
                "executionInfo": {
                    "status": "ok",
                    "timestamp": 1597726548169,
                    "user_tz": -330,
                    "elapsed": 964,
                    "user": {
                        "displayName": "Thomas George Thomas",
                        "photoUrl": "https://lh3.googleusercontent.com/a-/AOh14GhRjmtno5yCmJOUjYiFNGHi_xP5YZBJ1ZpWGKsZ=s64",
                        "userId": "09561174857978505545"
                    }
                },
                "outputId": "96c45f75-63f6-413a-96cf-1536eb3d0d29"
            },
            "cell_type": "code",
            "source": "kmeans_bogota.labels_",
            "execution_count": 190,
            "outputs": [
                {
                    "output_type": "execute_result",
                    "execution_count": 190,
                    "data": {
                        "text/plain": "array([0, 2, 0, 1, 0, 0, 0, 0, 0, 0, 4, 0, 0, 0, 3, 0], dtype=int32)"
                    },
                    "metadata": {}
                }
            ]
        },
        {
            "metadata": {
                "id": "YugUnQhbMLdu",
                "colab_type": "code",
                "colab": {},
                "executionInfo": {
                    "status": "ok",
                    "timestamp": 1597726550641,
                    "user_tz": -330,
                    "elapsed": 873,
                    "user": {
                        "displayName": "Thomas George Thomas",
                        "photoUrl": "https://lh3.googleusercontent.com/a-/AOh14GhRjmtno5yCmJOUjYiFNGHi_xP5YZBJ1ZpWGKsZ=s64",
                        "userId": "09561174857978505545"
                    }
                }
            },
            "cell_type": "code",
            "source": "bogota_localities_venues.insert(0, 'Cluster Labels', kmeans_bogota.labels_ +1)",
            "execution_count": 161,
            "outputs": []
        },
        {
            "metadata": {
                "id": "QNmiw0VpMkTH",
                "colab_type": "text"
            },
            "cell_type": "markdown",
            "source": "Join the dataframe \"bogota\" with our localities venues sorted to add latitude & longitude for each of the localitie to prepare it for plotting"
        },
        {
            "metadata": {
                "id": "Ldt_rQ3mMj_e",
                "colab_type": "code",
                "colab": {
                    "base_uri": "https://localhost:8080/",
                    "height": 411
                },
                "executionInfo": {
                    "status": "ok",
                    "timestamp": 1597726556008,
                    "user_tz": -330,
                    "elapsed": 1077,
                    "user": {
                        "displayName": "Thomas George Thomas",
                        "photoUrl": "https://lh3.googleusercontent.com/a-/AOh14GhRjmtno5yCmJOUjYiFNGHi_xP5YZBJ1ZpWGKsZ=s64",
                        "userId": "09561174857978505545"
                    }
                },
                "outputId": "b3f79bf3-87ec-401c-fbf9-bf40b0fd23f1"
            },
            "cell_type": "code",
            "source": "bogota_data = bogota\n\nbogota_data = bogota_data.join(bogota_localities_venues.set_index('Localities'), on='town')\n\nbogota_data",
            "execution_count": 191,
            "outputs": [
                {
                    "output_type": "execute_result",
                    "execution_count": 191,
                    "data": {
                        "text/plain": "                  town post_code  latitude  longitude  Cluster Labels  \\\n0              Usaqu\u00e9n    110111  4.691000 -74.033448             1.0   \n1            Chapinero    110211  4.667800 -74.025910             2.0   \n2             Santa Fe    110311  4.590255 -74.025630             NaN   \n3        San Crist\u00f3bal    110411  4.560310 -74.053523             NaN   \n4                 Usme    110511  4.496341 -74.130810             NaN   \n5           Tunjuelito    110611  4.584725 -74.141170             4.0   \n6                 Bosa    110711  4.638727 -74.189920             1.0   \n7              Kennedy    110811  4.652555 -74.155299             1.0   \n8             Fontib\u00f3n    110911  4.695895 -74.144576             1.0   \n9             Engativ\u00e1    111011  4.724539 -74.115505             1.0   \n10                Suba    111111  4.708096 -74.063170             1.0   \n11      Barrios Unidos    111211  4.677830 -74.071605             3.0   \n12         Teusaquillo    111311  4.633320 -74.072908             1.0   \n13        Los M\u00e1rtires    111411  4.604256 -74.089915             1.0   \n14      Antonio Nari\u00f1o    111511  4.587130 -74.096930             1.0   \n15       Puente Aranda    111611  4.624250 -74.103724             5.0   \n16       La Candelaria    111711  4.599095 -74.071979             1.0   \n17  Rafael Uribe Uribe    111811  4.579730 -74.116825             1.0   \n18      Ciudad Bol\u00edvar    111911  4.577028 -74.151465             1.0   \n19             Sumapaz    112011  4.223150 -74.185031             NaN   \n\n   1st Most Common Venue      2nd Most Common Venue 3rd Most Common Venue  \\\n0                  Hotel                       Caf\u00e9     French Restaurant   \n1               Mountain           Theme Restaurant     French Restaurant   \n2                    NaN                        NaN                   NaN   \n3                    NaN                        NaN                   NaN   \n4                    NaN                        NaN                   NaN   \n5                    Gym  Latin American Restaurant            Restaurant   \n6          Movie Theater              Shopping Mall        Ice Cream Shop   \n7           Burger Joint              Shopping Mall           Beer Garden   \n8         Airport Lounge                Coffee Shop                  Caf\u00e9   \n9            Pizza Place         Seafood Restaurant             Multiplex   \n10           Coffee Shop       Fast Food Restaurant             Gastropub   \n11    Mexican Restaurant  Latin American Restaurant      Theme Restaurant   \n12               Brewery                       Caf\u00e9          Burger Joint   \n13         Shopping Mall          Mobile Phone Shop              Boutique   \n14      Department Store             Clothing Store            Restaurant   \n15             BBQ Joint         Seafood Restaurant                Bakery   \n16                  Caf\u00e9         Italian Restaurant        History Museum   \n17          Burger Joint               Neighborhood    Mexican Restaurant   \n18  Fast Food Restaurant         Seafood Restaurant                  Park   \n19                   NaN                        NaN                   NaN   \n\n   4th Most Common Venue 5th Most Common Venue    6th Most Common Venue  \\\n0       Asian Restaurant                   Pub               Steakhouse   \n1   Caribbean Restaurant        Clothing Store             Cocktail Bar   \n2                    NaN                   NaN                      NaN   \n3                    NaN                   NaN                      NaN   \n4                    NaN                   NaN                      NaN   \n5       Theme Restaurant       Cultural Center     Caribbean Restaurant   \n6               Pharmacy        Cosmetics Shop                     Caf\u00e9   \n7      Health Food Store          Cupcake Shop           Clothing Store   \n8         Duty-free Shop           Pizza Place               Donut Shop   \n9                   Park                   Bar                   Bakery   \n10    Seafood Restaurant        Ice Cream Shop               Restaurant   \n11                  Caf\u00e9        Clothing Store             Cocktail Bar   \n12         Indie Theater   Peruvian Restaurant  New American Restaurant   \n13        Clothing Store      Department Store               Restaurant   \n14   Fried Chicken Joint           Pizza Place                Drugstore   \n15       Motorcycle Shop  Fast Food Restaurant           Duty-free Shop   \n16                Hostel            Restaurant             Cocktail Bar   \n17              Pharmacy             Cafeteria                     Caf\u00e9   \n18           Auto Garage      Theme Restaurant          Cultural Center   \n19                   NaN                   NaN                      NaN   \n\n   7th Most Common Venue    8th Most Common Venue    9th Most Common Venue  \\\n0                    Bar               Restaurant           Gymnastics Gym   \n1            Coffee Shop  Comfort Food Restaurant             Concert Hall   \n2                    NaN                      NaN                      NaN   \n3                    NaN                      NaN                      NaN   \n4                    NaN                      NaN                      NaN   \n5         Clothing Store             Cocktail Bar              Coffee Shop   \n6   Caribbean Restaurant           Clothing Store             Cocktail Bar   \n7           Cocktail Bar              Coffee Shop  Comfort Food Restaurant   \n8         Cosmetics Shop      Fried Chicken Joint                Gift Shop   \n9                    Pub     Gym / Fitness Center         Toy / Game Store   \n10                   Pub                     Park         Theme Restaurant   \n11           Coffee Shop  Comfort Food Restaurant             Concert Hall   \n12          Cocktail Bar           Ice Cream Shop               Restaurant   \n13      Theme Restaurant           Cosmetics Shop     Caribbean Restaurant   \n14         Deli / Bodega                      Gym       Mexican Restaurant   \n15  Caribbean Restaurant           Clothing Store             Cocktail Bar   \n16    Mexican Restaurant   Argentinian Restaurant                Bookstore   \n17  Caribbean Restaurant           Clothing Store             Cocktail Bar   \n18  Caribbean Restaurant           Clothing Store             Cocktail Bar   \n19                   NaN                      NaN                      NaN   \n\n     10th Most Common Venue  \n0      Gym / Fitness Center  \n1         Convenience Store  \n2                       NaN  \n3                       NaN  \n4                       NaN  \n5   Comfort Food Restaurant  \n6               Coffee Shop  \n7              Concert Hall  \n8                 Cafeteria  \n9            Shop & Service  \n10           Cosmetics Shop  \n11        Convenience Store  \n12           Sandwich Place  \n13             Cocktail Bar  \n14        Mobile Phone Shop  \n15              Coffee Shop  \n16           Breakfast Spot  \n17              Coffee Shop  \n18              Coffee Shop  \n19                      NaN  ",
                        "text/html": "<div>\n<style scoped>\n    .dataframe tbody tr th:only-of-type {\n        vertical-align: middle;\n    }\n\n    .dataframe tbody tr th {\n        vertical-align: top;\n    }\n\n    .dataframe thead th {\n        text-align: right;\n    }\n</style>\n<table border=\"1\" class=\"dataframe\">\n  <thead>\n    <tr style=\"text-align: right;\">\n      <th></th>\n      <th>town</th>\n      <th>post_code</th>\n      <th>latitude</th>\n      <th>longitude</th>\n      <th>Cluster Labels</th>\n      <th>1st Most Common Venue</th>\n      <th>2nd Most Common Venue</th>\n      <th>3rd Most Common Venue</th>\n      <th>4th Most Common Venue</th>\n      <th>5th Most Common Venue</th>\n      <th>6th Most Common Venue</th>\n      <th>7th Most Common Venue</th>\n      <th>8th Most Common Venue</th>\n      <th>9th Most Common Venue</th>\n      <th>10th Most Common Venue</th>\n    </tr>\n  </thead>\n  <tbody>\n    <tr>\n      <th>0</th>\n      <td>Usaqu\u00e9n</td>\n      <td>110111</td>\n      <td>4.691000</td>\n      <td>-74.033448</td>\n      <td>1.0</td>\n      <td>Hotel</td>\n      <td>Caf\u00e9</td>\n      <td>French Restaurant</td>\n      <td>Asian Restaurant</td>\n      <td>Pub</td>\n      <td>Steakhouse</td>\n      <td>Bar</td>\n      <td>Restaurant</td>\n      <td>Gymnastics Gym</td>\n      <td>Gym / Fitness Center</td>\n    </tr>\n    <tr>\n      <th>1</th>\n      <td>Chapinero</td>\n      <td>110211</td>\n      <td>4.667800</td>\n      <td>-74.025910</td>\n      <td>2.0</td>\n      <td>Mountain</td>\n      <td>Theme Restaurant</td>\n      <td>French Restaurant</td>\n      <td>Caribbean Restaurant</td>\n      <td>Clothing Store</td>\n      <td>Cocktail Bar</td>\n      <td>Coffee Shop</td>\n      <td>Comfort Food Restaurant</td>\n      <td>Concert Hall</td>\n      <td>Convenience Store</td>\n    </tr>\n    <tr>\n      <th>2</th>\n      <td>Santa Fe</td>\n      <td>110311</td>\n      <td>4.590255</td>\n      <td>-74.025630</td>\n      <td>NaN</td>\n      <td>NaN</td>\n      <td>NaN</td>\n      <td>NaN</td>\n      <td>NaN</td>\n      <td>NaN</td>\n      <td>NaN</td>\n      <td>NaN</td>\n      <td>NaN</td>\n      <td>NaN</td>\n      <td>NaN</td>\n    </tr>\n    <tr>\n      <th>3</th>\n      <td>San Crist\u00f3bal</td>\n      <td>110411</td>\n      <td>4.560310</td>\n      <td>-74.053523</td>\n      <td>NaN</td>\n      <td>NaN</td>\n      <td>NaN</td>\n      <td>NaN</td>\n      <td>NaN</td>\n      <td>NaN</td>\n      <td>NaN</td>\n      <td>NaN</td>\n      <td>NaN</td>\n      <td>NaN</td>\n      <td>NaN</td>\n    </tr>\n    <tr>\n      <th>4</th>\n      <td>Usme</td>\n      <td>110511</td>\n      <td>4.496341</td>\n      <td>-74.130810</td>\n      <td>NaN</td>\n      <td>NaN</td>\n      <td>NaN</td>\n      <td>NaN</td>\n      <td>NaN</td>\n      <td>NaN</td>\n      <td>NaN</td>\n      <td>NaN</td>\n      <td>NaN</td>\n      <td>NaN</td>\n      <td>NaN</td>\n    </tr>\n    <tr>\n      <th>5</th>\n      <td>Tunjuelito</td>\n      <td>110611</td>\n      <td>4.584725</td>\n      <td>-74.141170</td>\n      <td>4.0</td>\n      <td>Gym</td>\n      <td>Latin American Restaurant</td>\n      <td>Restaurant</td>\n      <td>Theme Restaurant</td>\n      <td>Cultural Center</td>\n      <td>Caribbean Restaurant</td>\n      <td>Clothing Store</td>\n      <td>Cocktail Bar</td>\n      <td>Coffee Shop</td>\n      <td>Comfort Food Restaurant</td>\n    </tr>\n    <tr>\n      <th>6</th>\n      <td>Bosa</td>\n      <td>110711</td>\n      <td>4.638727</td>\n      <td>-74.189920</td>\n      <td>1.0</td>\n      <td>Movie Theater</td>\n      <td>Shopping Mall</td>\n      <td>Ice Cream Shop</td>\n      <td>Pharmacy</td>\n      <td>Cosmetics Shop</td>\n      <td>Caf\u00e9</td>\n      <td>Caribbean Restaurant</td>\n      <td>Clothing Store</td>\n      <td>Cocktail Bar</td>\n      <td>Coffee Shop</td>\n    </tr>\n    <tr>\n      <th>7</th>\n      <td>Kennedy</td>\n      <td>110811</td>\n      <td>4.652555</td>\n      <td>-74.155299</td>\n      <td>1.0</td>\n      <td>Burger Joint</td>\n      <td>Shopping Mall</td>\n      <td>Beer Garden</td>\n      <td>Health Food Store</td>\n      <td>Cupcake Shop</td>\n      <td>Clothing Store</td>\n      <td>Cocktail Bar</td>\n      <td>Coffee Shop</td>\n      <td>Comfort Food Restaurant</td>\n      <td>Concert Hall</td>\n    </tr>\n    <tr>\n      <th>8</th>\n      <td>Fontib\u00f3n</td>\n      <td>110911</td>\n      <td>4.695895</td>\n      <td>-74.144576</td>\n      <td>1.0</td>\n      <td>Airport Lounge</td>\n      <td>Coffee Shop</td>\n      <td>Caf\u00e9</td>\n      <td>Duty-free Shop</td>\n      <td>Pizza Place</td>\n      <td>Donut Shop</td>\n      <td>Cosmetics Shop</td>\n      <td>Fried Chicken Joint</td>\n      <td>Gift Shop</td>\n      <td>Cafeteria</td>\n    </tr>\n    <tr>\n      <th>9</th>\n      <td>Engativ\u00e1</td>\n      <td>111011</td>\n      <td>4.724539</td>\n      <td>-74.115505</td>\n      <td>1.0</td>\n      <td>Pizza Place</td>\n      <td>Seafood Restaurant</td>\n      <td>Multiplex</td>\n      <td>Park</td>\n      <td>Bar</td>\n      <td>Bakery</td>\n      <td>Pub</td>\n      <td>Gym / Fitness Center</td>\n      <td>Toy / Game Store</td>\n      <td>Shop &amp; Service</td>\n    </tr>\n    <tr>\n      <th>10</th>\n      <td>Suba</td>\n      <td>111111</td>\n      <td>4.708096</td>\n      <td>-74.063170</td>\n      <td>1.0</td>\n      <td>Coffee Shop</td>\n      <td>Fast Food Restaurant</td>\n      <td>Gastropub</td>\n      <td>Seafood Restaurant</td>\n      <td>Ice Cream Shop</td>\n      <td>Restaurant</td>\n      <td>Pub</td>\n      <td>Park</td>\n      <td>Theme Restaurant</td>\n      <td>Cosmetics Shop</td>\n    </tr>\n    <tr>\n      <th>11</th>\n      <td>Barrios Unidos</td>\n      <td>111211</td>\n      <td>4.677830</td>\n      <td>-74.071605</td>\n      <td>3.0</td>\n      <td>Mexican Restaurant</td>\n      <td>Latin American Restaurant</td>\n      <td>Theme Restaurant</td>\n      <td>Caf\u00e9</td>\n      <td>Clothing Store</td>\n      <td>Cocktail Bar</td>\n      <td>Coffee Shop</td>\n      <td>Comfort Food Restaurant</td>\n      <td>Concert Hall</td>\n      <td>Convenience Store</td>\n    </tr>\n    <tr>\n      <th>12</th>\n      <td>Teusaquillo</td>\n      <td>111311</td>\n      <td>4.633320</td>\n      <td>-74.072908</td>\n      <td>1.0</td>\n      <td>Brewery</td>\n      <td>Caf\u00e9</td>\n      <td>Burger Joint</td>\n      <td>Indie Theater</td>\n      <td>Peruvian Restaurant</td>\n      <td>New American Restaurant</td>\n      <td>Cocktail Bar</td>\n      <td>Ice Cream Shop</td>\n      <td>Restaurant</td>\n      <td>Sandwich Place</td>\n    </tr>\n    <tr>\n      <th>13</th>\n      <td>Los M\u00e1rtires</td>\n      <td>111411</td>\n      <td>4.604256</td>\n      <td>-74.089915</td>\n      <td>1.0</td>\n      <td>Shopping Mall</td>\n      <td>Mobile Phone Shop</td>\n      <td>Boutique</td>\n      <td>Clothing Store</td>\n      <td>Department Store</td>\n      <td>Restaurant</td>\n      <td>Theme Restaurant</td>\n      <td>Cosmetics Shop</td>\n      <td>Caribbean Restaurant</td>\n      <td>Cocktail Bar</td>\n    </tr>\n    <tr>\n      <th>14</th>\n      <td>Antonio Nari\u00f1o</td>\n      <td>111511</td>\n      <td>4.587130</td>\n      <td>-74.096930</td>\n      <td>1.0</td>\n      <td>Department Store</td>\n      <td>Clothing Store</td>\n      <td>Restaurant</td>\n      <td>Fried Chicken Joint</td>\n      <td>Pizza Place</td>\n      <td>Drugstore</td>\n      <td>Deli / Bodega</td>\n      <td>Gym</td>\n      <td>Mexican Restaurant</td>\n      <td>Mobile Phone Shop</td>\n    </tr>\n    <tr>\n      <th>15</th>\n      <td>Puente Aranda</td>\n      <td>111611</td>\n      <td>4.624250</td>\n      <td>-74.103724</td>\n      <td>5.0</td>\n      <td>BBQ Joint</td>\n      <td>Seafood Restaurant</td>\n      <td>Bakery</td>\n      <td>Motorcycle Shop</td>\n      <td>Fast Food Restaurant</td>\n      <td>Duty-free Shop</td>\n      <td>Caribbean Restaurant</td>\n      <td>Clothing Store</td>\n      <td>Cocktail Bar</td>\n      <td>Coffee Shop</td>\n    </tr>\n    <tr>\n      <th>16</th>\n      <td>La Candelaria</td>\n      <td>111711</td>\n      <td>4.599095</td>\n      <td>-74.071979</td>\n      <td>1.0</td>\n      <td>Caf\u00e9</td>\n      <td>Italian Restaurant</td>\n      <td>History Museum</td>\n      <td>Hostel</td>\n      <td>Restaurant</td>\n      <td>Cocktail Bar</td>\n      <td>Mexican Restaurant</td>\n      <td>Argentinian Restaurant</td>\n      <td>Bookstore</td>\n      <td>Breakfast Spot</td>\n    </tr>\n    <tr>\n      <th>17</th>\n      <td>Rafael Uribe Uribe</td>\n      <td>111811</td>\n      <td>4.579730</td>\n      <td>-74.116825</td>\n      <td>1.0</td>\n      <td>Burger Joint</td>\n      <td>Neighborhood</td>\n      <td>Mexican Restaurant</td>\n      <td>Pharmacy</td>\n      <td>Cafeteria</td>\n      <td>Caf\u00e9</td>\n      <td>Caribbean Restaurant</td>\n      <td>Clothing Store</td>\n      <td>Cocktail Bar</td>\n      <td>Coffee Shop</td>\n    </tr>\n    <tr>\n      <th>18</th>\n      <td>Ciudad Bol\u00edvar</td>\n      <td>111911</td>\n      <td>4.577028</td>\n      <td>-74.151465</td>\n      <td>1.0</td>\n      <td>Fast Food Restaurant</td>\n      <td>Seafood Restaurant</td>\n      <td>Park</td>\n      <td>Auto Garage</td>\n      <td>Theme Restaurant</td>\n      <td>Cultural Center</td>\n      <td>Caribbean Restaurant</td>\n      <td>Clothing Store</td>\n      <td>Cocktail Bar</td>\n      <td>Coffee Shop</td>\n    </tr>\n    <tr>\n      <th>19</th>\n      <td>Sumapaz</td>\n      <td>112011</td>\n      <td>4.223150</td>\n      <td>-74.185031</td>\n      <td>NaN</td>\n      <td>NaN</td>\n      <td>NaN</td>\n      <td>NaN</td>\n      <td>NaN</td>\n      <td>NaN</td>\n      <td>NaN</td>\n      <td>NaN</td>\n      <td>NaN</td>\n      <td>NaN</td>\n      <td>NaN</td>\n    </tr>\n  </tbody>\n</table>\n</div>"
                    },
                    "metadata": {}
                }
            ]
        },
        {
            "metadata": {
                "id": "gD30G-AoNk8N",
                "colab_type": "text"
            },
            "cell_type": "markdown",
            "source": "\nDrop all the NaN values."
        },
        {
            "metadata": {
                "id": "_4ZtK94ZMiuj",
                "colab_type": "code",
                "colab": {},
                "executionInfo": {
                    "status": "ok",
                    "timestamp": 1597726562692,
                    "user_tz": -330,
                    "elapsed": 940,
                    "user": {
                        "displayName": "Thomas George Thomas",
                        "photoUrl": "https://lh3.googleusercontent.com/a-/AOh14GhRjmtno5yCmJOUjYiFNGHi_xP5YZBJ1ZpWGKsZ=s64",
                        "userId": "09561174857978505545"
                    }
                }
            },
            "cell_type": "code",
            "source": "bogota_data_wo_nan = bogota_data.dropna(subset=['Cluster Labels'])\nbogota_data = bogota_data_wo_nan\nbogota_data",
            "execution_count": 192,
            "outputs": [
                {
                    "output_type": "execute_result",
                    "execution_count": 192,
                    "data": {
                        "text/plain": "                  town post_code  latitude  longitude  Cluster Labels  \\\n0              Usaqu\u00e9n    110111  4.691000 -74.033448             1.0   \n1            Chapinero    110211  4.667800 -74.025910             2.0   \n5           Tunjuelito    110611  4.584725 -74.141170             4.0   \n6                 Bosa    110711  4.638727 -74.189920             1.0   \n7              Kennedy    110811  4.652555 -74.155299             1.0   \n8             Fontib\u00f3n    110911  4.695895 -74.144576             1.0   \n9             Engativ\u00e1    111011  4.724539 -74.115505             1.0   \n10                Suba    111111  4.708096 -74.063170             1.0   \n11      Barrios Unidos    111211  4.677830 -74.071605             3.0   \n12         Teusaquillo    111311  4.633320 -74.072908             1.0   \n13        Los M\u00e1rtires    111411  4.604256 -74.089915             1.0   \n14      Antonio Nari\u00f1o    111511  4.587130 -74.096930             1.0   \n15       Puente Aranda    111611  4.624250 -74.103724             5.0   \n16       La Candelaria    111711  4.599095 -74.071979             1.0   \n17  Rafael Uribe Uribe    111811  4.579730 -74.116825             1.0   \n18      Ciudad Bol\u00edvar    111911  4.577028 -74.151465             1.0   \n\n   1st Most Common Venue      2nd Most Common Venue 3rd Most Common Venue  \\\n0                  Hotel                       Caf\u00e9     French Restaurant   \n1               Mountain           Theme Restaurant     French Restaurant   \n5                    Gym  Latin American Restaurant            Restaurant   \n6          Movie Theater              Shopping Mall        Ice Cream Shop   \n7           Burger Joint              Shopping Mall           Beer Garden   \n8         Airport Lounge                Coffee Shop                  Caf\u00e9   \n9            Pizza Place         Seafood Restaurant             Multiplex   \n10           Coffee Shop       Fast Food Restaurant             Gastropub   \n11    Mexican Restaurant  Latin American Restaurant      Theme Restaurant   \n12               Brewery                       Caf\u00e9          Burger Joint   \n13         Shopping Mall          Mobile Phone Shop              Boutique   \n14      Department Store             Clothing Store            Restaurant   \n15             BBQ Joint         Seafood Restaurant                Bakery   \n16                  Caf\u00e9         Italian Restaurant        History Museum   \n17          Burger Joint               Neighborhood    Mexican Restaurant   \n18  Fast Food Restaurant         Seafood Restaurant                  Park   \n\n   4th Most Common Venue 5th Most Common Venue    6th Most Common Venue  \\\n0       Asian Restaurant                   Pub               Steakhouse   \n1   Caribbean Restaurant        Clothing Store             Cocktail Bar   \n5       Theme Restaurant       Cultural Center     Caribbean Restaurant   \n6               Pharmacy        Cosmetics Shop                     Caf\u00e9   \n7      Health Food Store          Cupcake Shop           Clothing Store   \n8         Duty-free Shop           Pizza Place               Donut Shop   \n9                   Park                   Bar                   Bakery   \n10    Seafood Restaurant        Ice Cream Shop               Restaurant   \n11                  Caf\u00e9        Clothing Store             Cocktail Bar   \n12         Indie Theater   Peruvian Restaurant  New American Restaurant   \n13        Clothing Store      Department Store               Restaurant   \n14   Fried Chicken Joint           Pizza Place                Drugstore   \n15       Motorcycle Shop  Fast Food Restaurant           Duty-free Shop   \n16                Hostel            Restaurant             Cocktail Bar   \n17              Pharmacy             Cafeteria                     Caf\u00e9   \n18           Auto Garage      Theme Restaurant          Cultural Center   \n\n   7th Most Common Venue    8th Most Common Venue    9th Most Common Venue  \\\n0                    Bar               Restaurant           Gymnastics Gym   \n1            Coffee Shop  Comfort Food Restaurant             Concert Hall   \n5         Clothing Store             Cocktail Bar              Coffee Shop   \n6   Caribbean Restaurant           Clothing Store             Cocktail Bar   \n7           Cocktail Bar              Coffee Shop  Comfort Food Restaurant   \n8         Cosmetics Shop      Fried Chicken Joint                Gift Shop   \n9                    Pub     Gym / Fitness Center         Toy / Game Store   \n10                   Pub                     Park         Theme Restaurant   \n11           Coffee Shop  Comfort Food Restaurant             Concert Hall   \n12          Cocktail Bar           Ice Cream Shop               Restaurant   \n13      Theme Restaurant           Cosmetics Shop     Caribbean Restaurant   \n14         Deli / Bodega                      Gym       Mexican Restaurant   \n15  Caribbean Restaurant           Clothing Store             Cocktail Bar   \n16    Mexican Restaurant   Argentinian Restaurant                Bookstore   \n17  Caribbean Restaurant           Clothing Store             Cocktail Bar   \n18  Caribbean Restaurant           Clothing Store             Cocktail Bar   \n\n     10th Most Common Venue  \n0      Gym / Fitness Center  \n1         Convenience Store  \n5   Comfort Food Restaurant  \n6               Coffee Shop  \n7              Concert Hall  \n8                 Cafeteria  \n9            Shop & Service  \n10           Cosmetics Shop  \n11        Convenience Store  \n12           Sandwich Place  \n13             Cocktail Bar  \n14        Mobile Phone Shop  \n15              Coffee Shop  \n16           Breakfast Spot  \n17              Coffee Shop  \n18              Coffee Shop  ",
                        "text/html": "<div>\n<style scoped>\n    .dataframe tbody tr th:only-of-type {\n        vertical-align: middle;\n    }\n\n    .dataframe tbody tr th {\n        vertical-align: top;\n    }\n\n    .dataframe thead th {\n        text-align: right;\n    }\n</style>\n<table border=\"1\" class=\"dataframe\">\n  <thead>\n    <tr style=\"text-align: right;\">\n      <th></th>\n      <th>town</th>\n      <th>post_code</th>\n      <th>latitude</th>\n      <th>longitude</th>\n      <th>Cluster Labels</th>\n      <th>1st Most Common Venue</th>\n      <th>2nd Most Common Venue</th>\n      <th>3rd Most Common Venue</th>\n      <th>4th Most Common Venue</th>\n      <th>5th Most Common Venue</th>\n      <th>6th Most Common Venue</th>\n      <th>7th Most Common Venue</th>\n      <th>8th Most Common Venue</th>\n      <th>9th Most Common Venue</th>\n      <th>10th Most Common Venue</th>\n    </tr>\n  </thead>\n  <tbody>\n    <tr>\n      <th>0</th>\n      <td>Usaqu\u00e9n</td>\n      <td>110111</td>\n      <td>4.691000</td>\n      <td>-74.033448</td>\n      <td>1.0</td>\n      <td>Hotel</td>\n      <td>Caf\u00e9</td>\n      <td>French Restaurant</td>\n      <td>Asian Restaurant</td>\n      <td>Pub</td>\n      <td>Steakhouse</td>\n      <td>Bar</td>\n      <td>Restaurant</td>\n      <td>Gymnastics Gym</td>\n      <td>Gym / Fitness Center</td>\n    </tr>\n    <tr>\n      <th>1</th>\n      <td>Chapinero</td>\n      <td>110211</td>\n      <td>4.667800</td>\n      <td>-74.025910</td>\n      <td>2.0</td>\n      <td>Mountain</td>\n      <td>Theme Restaurant</td>\n      <td>French Restaurant</td>\n      <td>Caribbean Restaurant</td>\n      <td>Clothing Store</td>\n      <td>Cocktail Bar</td>\n      <td>Coffee Shop</td>\n      <td>Comfort Food Restaurant</td>\n      <td>Concert Hall</td>\n      <td>Convenience Store</td>\n    </tr>\n    <tr>\n      <th>5</th>\n      <td>Tunjuelito</td>\n      <td>110611</td>\n      <td>4.584725</td>\n      <td>-74.141170</td>\n      <td>4.0</td>\n      <td>Gym</td>\n      <td>Latin American Restaurant</td>\n      <td>Restaurant</td>\n      <td>Theme Restaurant</td>\n      <td>Cultural Center</td>\n      <td>Caribbean Restaurant</td>\n      <td>Clothing Store</td>\n      <td>Cocktail Bar</td>\n      <td>Coffee Shop</td>\n      <td>Comfort Food Restaurant</td>\n    </tr>\n    <tr>\n      <th>6</th>\n      <td>Bosa</td>\n      <td>110711</td>\n      <td>4.638727</td>\n      <td>-74.189920</td>\n      <td>1.0</td>\n      <td>Movie Theater</td>\n      <td>Shopping Mall</td>\n      <td>Ice Cream Shop</td>\n      <td>Pharmacy</td>\n      <td>Cosmetics Shop</td>\n      <td>Caf\u00e9</td>\n      <td>Caribbean Restaurant</td>\n      <td>Clothing Store</td>\n      <td>Cocktail Bar</td>\n      <td>Coffee Shop</td>\n    </tr>\n    <tr>\n      <th>7</th>\n      <td>Kennedy</td>\n      <td>110811</td>\n      <td>4.652555</td>\n      <td>-74.155299</td>\n      <td>1.0</td>\n      <td>Burger Joint</td>\n      <td>Shopping Mall</td>\n      <td>Beer Garden</td>\n      <td>Health Food Store</td>\n      <td>Cupcake Shop</td>\n      <td>Clothing Store</td>\n      <td>Cocktail Bar</td>\n      <td>Coffee Shop</td>\n      <td>Comfort Food Restaurant</td>\n      <td>Concert Hall</td>\n    </tr>\n    <tr>\n      <th>8</th>\n      <td>Fontib\u00f3n</td>\n      <td>110911</td>\n      <td>4.695895</td>\n      <td>-74.144576</td>\n      <td>1.0</td>\n      <td>Airport Lounge</td>\n      <td>Coffee Shop</td>\n      <td>Caf\u00e9</td>\n      <td>Duty-free Shop</td>\n      <td>Pizza Place</td>\n      <td>Donut Shop</td>\n      <td>Cosmetics Shop</td>\n      <td>Fried Chicken Joint</td>\n      <td>Gift Shop</td>\n      <td>Cafeteria</td>\n    </tr>\n    <tr>\n      <th>9</th>\n      <td>Engativ\u00e1</td>\n      <td>111011</td>\n      <td>4.724539</td>\n      <td>-74.115505</td>\n      <td>1.0</td>\n      <td>Pizza Place</td>\n      <td>Seafood Restaurant</td>\n      <td>Multiplex</td>\n      <td>Park</td>\n      <td>Bar</td>\n      <td>Bakery</td>\n      <td>Pub</td>\n      <td>Gym / Fitness Center</td>\n      <td>Toy / Game Store</td>\n      <td>Shop &amp; Service</td>\n    </tr>\n    <tr>\n      <th>10</th>\n      <td>Suba</td>\n      <td>111111</td>\n      <td>4.708096</td>\n      <td>-74.063170</td>\n      <td>1.0</td>\n      <td>Coffee Shop</td>\n      <td>Fast Food Restaurant</td>\n      <td>Gastropub</td>\n      <td>Seafood Restaurant</td>\n      <td>Ice Cream Shop</td>\n      <td>Restaurant</td>\n      <td>Pub</td>\n      <td>Park</td>\n      <td>Theme Restaurant</td>\n      <td>Cosmetics Shop</td>\n    </tr>\n    <tr>\n      <th>11</th>\n      <td>Barrios Unidos</td>\n      <td>111211</td>\n      <td>4.677830</td>\n      <td>-74.071605</td>\n      <td>3.0</td>\n      <td>Mexican Restaurant</td>\n      <td>Latin American Restaurant</td>\n      <td>Theme Restaurant</td>\n      <td>Caf\u00e9</td>\n      <td>Clothing Store</td>\n      <td>Cocktail Bar</td>\n      <td>Coffee Shop</td>\n      <td>Comfort Food Restaurant</td>\n      <td>Concert Hall</td>\n      <td>Convenience Store</td>\n    </tr>\n    <tr>\n      <th>12</th>\n      <td>Teusaquillo</td>\n      <td>111311</td>\n      <td>4.633320</td>\n      <td>-74.072908</td>\n      <td>1.0</td>\n      <td>Brewery</td>\n      <td>Caf\u00e9</td>\n      <td>Burger Joint</td>\n      <td>Indie Theater</td>\n      <td>Peruvian Restaurant</td>\n      <td>New American Restaurant</td>\n      <td>Cocktail Bar</td>\n      <td>Ice Cream Shop</td>\n      <td>Restaurant</td>\n      <td>Sandwich Place</td>\n    </tr>\n    <tr>\n      <th>13</th>\n      <td>Los M\u00e1rtires</td>\n      <td>111411</td>\n      <td>4.604256</td>\n      <td>-74.089915</td>\n      <td>1.0</td>\n      <td>Shopping Mall</td>\n      <td>Mobile Phone Shop</td>\n      <td>Boutique</td>\n      <td>Clothing Store</td>\n      <td>Department Store</td>\n      <td>Restaurant</td>\n      <td>Theme Restaurant</td>\n      <td>Cosmetics Shop</td>\n      <td>Caribbean Restaurant</td>\n      <td>Cocktail Bar</td>\n    </tr>\n    <tr>\n      <th>14</th>\n      <td>Antonio Nari\u00f1o</td>\n      <td>111511</td>\n      <td>4.587130</td>\n      <td>-74.096930</td>\n      <td>1.0</td>\n      <td>Department Store</td>\n      <td>Clothing Store</td>\n      <td>Restaurant</td>\n      <td>Fried Chicken Joint</td>\n      <td>Pizza Place</td>\n      <td>Drugstore</td>\n      <td>Deli / Bodega</td>\n      <td>Gym</td>\n      <td>Mexican Restaurant</td>\n      <td>Mobile Phone Shop</td>\n    </tr>\n    <tr>\n      <th>15</th>\n      <td>Puente Aranda</td>\n      <td>111611</td>\n      <td>4.624250</td>\n      <td>-74.103724</td>\n      <td>5.0</td>\n      <td>BBQ Joint</td>\n      <td>Seafood Restaurant</td>\n      <td>Bakery</td>\n      <td>Motorcycle Shop</td>\n      <td>Fast Food Restaurant</td>\n      <td>Duty-free Shop</td>\n      <td>Caribbean Restaurant</td>\n      <td>Clothing Store</td>\n      <td>Cocktail Bar</td>\n      <td>Coffee Shop</td>\n    </tr>\n    <tr>\n      <th>16</th>\n      <td>La Candelaria</td>\n      <td>111711</td>\n      <td>4.599095</td>\n      <td>-74.071979</td>\n      <td>1.0</td>\n      <td>Caf\u00e9</td>\n      <td>Italian Restaurant</td>\n      <td>History Museum</td>\n      <td>Hostel</td>\n      <td>Restaurant</td>\n      <td>Cocktail Bar</td>\n      <td>Mexican Restaurant</td>\n      <td>Argentinian Restaurant</td>\n      <td>Bookstore</td>\n      <td>Breakfast Spot</td>\n    </tr>\n    <tr>\n      <th>17</th>\n      <td>Rafael Uribe Uribe</td>\n      <td>111811</td>\n      <td>4.579730</td>\n      <td>-74.116825</td>\n      <td>1.0</td>\n      <td>Burger Joint</td>\n      <td>Neighborhood</td>\n      <td>Mexican Restaurant</td>\n      <td>Pharmacy</td>\n      <td>Cafeteria</td>\n      <td>Caf\u00e9</td>\n      <td>Caribbean Restaurant</td>\n      <td>Clothing Store</td>\n      <td>Cocktail Bar</td>\n      <td>Coffee Shop</td>\n    </tr>\n    <tr>\n      <th>18</th>\n      <td>Ciudad Bol\u00edvar</td>\n      <td>111911</td>\n      <td>4.577028</td>\n      <td>-74.151465</td>\n      <td>1.0</td>\n      <td>Fast Food Restaurant</td>\n      <td>Seafood Restaurant</td>\n      <td>Park</td>\n      <td>Auto Garage</td>\n      <td>Theme Restaurant</td>\n      <td>Cultural Center</td>\n      <td>Caribbean Restaurant</td>\n      <td>Clothing Store</td>\n      <td>Cocktail Bar</td>\n      <td>Coffee Shop</td>\n    </tr>\n  </tbody>\n</table>\n</div>"
                    },
                    "metadata": {}
                }
            ]
        },
        {
            "metadata": {
                "id": "h5IAN7aYOljr",
                "colab_type": "text"
            },
            "cell_type": "markdown",
            "source": "### Visualizing the clusters"
        },
        {
            "metadata": {
                "id": "EEv8cac3Okdg",
                "colab_type": "code",
                "colab": {
                    "base_uri": "https://localhost:8080/",
                    "height": 743
                },
                "executionInfo": {
                    "status": "ok",
                    "timestamp": 1597726567580,
                    "user_tz": -330,
                    "elapsed": 1800,
                    "user": {
                        "displayName": "Thomas George Thomas",
                        "photoUrl": "https://lh3.googleusercontent.com/a-/AOh14GhRjmtno5yCmJOUjYiFNGHi_xP5YZBJ1ZpWGKsZ=s64",
                        "userId": "09561174857978505545"
                    }
                },
                "outputId": "32fcb958-2ee1-4089-9b21-294c69f2762b",
                "scrolled": true
            },
            "cell_type": "code",
            "source": "map_clusters = folium.Map(location=[bogota_lat_coords, bogota_lng_coords], zoom_start=12)\n\nx = np.arange(clusters)\nys = [i + x + (i*x)**2 for i in range(clusters)]\ncolors_array = cm.rainbow(np.linspace(0, 1, len(ys)))\nrainbow = [colors.rgb2hex(i) for i in colors_array]\n\nmarkers_colors = []\nfor lat, lon, poi, cluster in zip(bogota_data['latitude'], bogota_data['longitude'], bogota_data['town'], bogota_data['Cluster Labels']):\n    label = folium.Popup('Cluster ' + str(int(cluster)) + '\\n' + str(poi) , parse_html=True)\n    folium.CircleMarker(\n        [lat, lon],\n        radius=20,\n        popup=label,\n        color=rainbow[int(cluster-1)],\n        fill=True,\n        fill_color=rainbow[int(cluster-1)]\n        ).add_to(map_clusters)\n        \nmap_clusters",
            "execution_count": 186,
            "outputs": [
                {
                    "output_type": "execute_result",
                    "execution_count": 186,
                    "data": {
                        "text/plain": "<folium.folium.Map at 0x7f4f0766ccd0>",
                        "text/html": "<div style=\"width:100%;\"><div style=\"position:relative;width:100%;height:0;padding-bottom:60%;\"><span style=\"color:#565656\">Make this Notebook Trusted to load map: File -> Trust Notebook</span><iframe src=\"about:blank\" style=\"position:absolute;width:100%;height:100%;left:0;top:0;border:none !important;\" data-html=%3C%21DOCTYPE%20html%3E%0A%3Chead%3E%20%20%20%20%0A%20%20%20%20%3Cmeta%20http-equiv%3D%22content-type%22%20content%3D%22text/html%3B%20charset%3DUTF-8%22%20/%3E%0A%20%20%20%20%0A%20%20%20%20%20%20%20%20%3Cscript%3E%0A%20%20%20%20%20%20%20%20%20%20%20%20L_NO_TOUCH%20%3D%20false%3B%0A%20%20%20%20%20%20%20%20%20%20%20%20L_DISABLE_3D%20%3D%20false%3B%0A%20%20%20%20%20%20%20%20%3C/script%3E%0A%20%20%20%20%0A%20%20%20%20%3Cstyle%3Ehtml%2C%20body%20%7Bwidth%3A%20100%25%3Bheight%3A%20100%25%3Bmargin%3A%200%3Bpadding%3A%200%3B%7D%3C/style%3E%0A%20%20%20%20%3Cstyle%3E%23map%20%7Bposition%3Aabsolute%3Btop%3A0%3Bbottom%3A0%3Bright%3A0%3Bleft%3A0%3B%7D%3C/style%3E%0A%20%20%20%20%3Cscript%20src%3D%22https%3A//cdn.jsdelivr.net/npm/leaflet%401.6.0/dist/leaflet.js%22%3E%3C/script%3E%0A%20%20%20%20%3Cscript%20src%3D%22https%3A//code.jquery.com/jquery-1.12.4.min.js%22%3E%3C/script%3E%0A%20%20%20%20%3Cscript%20src%3D%22https%3A//maxcdn.bootstrapcdn.com/bootstrap/3.2.0/js/bootstrap.min.js%22%3E%3C/script%3E%0A%20%20%20%20%3Cscript%20src%3D%22https%3A//cdnjs.cloudflare.com/ajax/libs/Leaflet.awesome-markers/2.0.2/leaflet.awesome-markers.js%22%3E%3C/script%3E%0A%20%20%20%20%3Clink%20rel%3D%22stylesheet%22%20href%3D%22https%3A//cdn.jsdelivr.net/npm/leaflet%401.6.0/dist/leaflet.css%22/%3E%0A%20%20%20%20%3Clink%20rel%3D%22stylesheet%22%20href%3D%22https%3A//maxcdn.bootstrapcdn.com/bootstrap/3.2.0/css/bootstrap.min.css%22/%3E%0A%20%20%20%20%3Clink%20rel%3D%22stylesheet%22%20href%3D%22https%3A//maxcdn.bootstrapcdn.com/bootstrap/3.2.0/css/bootstrap-theme.min.css%22/%3E%0A%20%20%20%20%3Clink%20rel%3D%22stylesheet%22%20href%3D%22https%3A//maxcdn.bootstrapcdn.com/font-awesome/4.6.3/css/font-awesome.min.css%22/%3E%0A%20%20%20%20%3Clink%20rel%3D%22stylesheet%22%20href%3D%22https%3A//cdnjs.cloudflare.com/ajax/libs/Leaflet.awesome-markers/2.0.2/leaflet.awesome-markers.css%22/%3E%0A%20%20%20%20%3Clink%20rel%3D%22stylesheet%22%20href%3D%22https%3A//cdn.jsdelivr.net/gh/python-visualization/folium/folium/templates/leaflet.awesome.rotate.min.css%22/%3E%0A%20%20%20%20%0A%20%20%20%20%20%20%20%20%20%20%20%20%3Cmeta%20name%3D%22viewport%22%20content%3D%22width%3Ddevice-width%2C%0A%20%20%20%20%20%20%20%20%20%20%20%20%20%20%20%20initial-scale%3D1.0%2C%20maximum-scale%3D1.0%2C%20user-scalable%3Dno%22%20/%3E%0A%20%20%20%20%20%20%20%20%20%20%20%20%3Cstyle%3E%0A%20%20%20%20%20%20%20%20%20%20%20%20%20%20%20%20%23map_c315d4114fe749d982e97b9aaa61e28a%20%7B%0A%20%20%20%20%20%20%20%20%20%20%20%20%20%20%20%20%20%20%20%20position%3A%20relative%3B%0A%20%20%20%20%20%20%20%20%20%20%20%20%20%20%20%20%20%20%20%20width%3A%20100.0%25%3B%0A%20%20%20%20%20%20%20%20%20%20%20%20%20%20%20%20%20%20%20%20height%3A%20100.0%25%3B%0A%20%20%20%20%20%20%20%20%20%20%20%20%20%20%20%20%20%20%20%20left%3A%200.0%25%3B%0A%20%20%20%20%20%20%20%20%20%20%20%20%20%20%20%20%20%20%20%20top%3A%200.0%25%3B%0A%20%20%20%20%20%20%20%20%20%20%20%20%20%20%20%20%7D%0A%20%20%20%20%20%20%20%20%20%20%20%20%3C/style%3E%0A%20%20%20%20%20%20%20%20%0A%3C/head%3E%0A%3Cbody%3E%20%20%20%20%0A%20%20%20%20%0A%20%20%20%20%20%20%20%20%20%20%20%20%3Cdiv%20class%3D%22folium-map%22%20id%3D%22map_c315d4114fe749d982e97b9aaa61e28a%22%20%3E%3C/div%3E%0A%20%20%20%20%20%20%20%20%0A%3C/body%3E%0A%3Cscript%3E%20%20%20%20%0A%20%20%20%20%0A%20%20%20%20%20%20%20%20%20%20%20%20var%20map_c315d4114fe749d982e97b9aaa61e28a%20%3D%20L.map%28%0A%20%20%20%20%20%20%20%20%20%20%20%20%20%20%20%20%22map_c315d4114fe749d982e97b9aaa61e28a%22%2C%0A%20%20%20%20%20%20%20%20%20%20%20%20%20%20%20%20%7B%0A%20%20%20%20%20%20%20%20%20%20%20%20%20%20%20%20%20%20%20%20center%3A%20%5B4.614960000000053%2C%20-74.06940999999995%5D%2C%0A%20%20%20%20%20%20%20%20%20%20%20%20%20%20%20%20%20%20%20%20crs%3A%20L.CRS.EPSG3857%2C%0A%20%20%20%20%20%20%20%20%20%20%20%20%20%20%20%20%20%20%20%20zoom%3A%2012%2C%0A%20%20%20%20%20%20%20%20%20%20%20%20%20%20%20%20%20%20%20%20zoomControl%3A%20true%2C%0A%20%20%20%20%20%20%20%20%20%20%20%20%20%20%20%20%20%20%20%20preferCanvas%3A%20false%2C%0A%20%20%20%20%20%20%20%20%20%20%20%20%20%20%20%20%7D%0A%20%20%20%20%20%20%20%20%20%20%20%20%29%3B%0A%0A%20%20%20%20%20%20%20%20%20%20%20%20%0A%0A%20%20%20%20%20%20%20%20%0A%20%20%20%20%0A%20%20%20%20%20%20%20%20%20%20%20%20var%20tile_layer_284f2d8866804fb6b7415b28d99b5269%20%3D%20L.tileLayer%28%0A%20%20%20%20%20%20%20%20%20%20%20%20%20%20%20%20%22https%3A//%7Bs%7D.tile.openstreetmap.org/%7Bz%7D/%7Bx%7D/%7By%7D.png%22%2C%0A%20%20%20%20%20%20%20%20%20%20%20%20%20%20%20%20%7B%22attribution%22%3A%20%22Data%20by%20%5Cu0026copy%3B%20%5Cu003ca%20href%3D%5C%22http%3A//openstreetmap.org%5C%22%5Cu003eOpenStreetMap%5Cu003c/a%5Cu003e%2C%20under%20%5Cu003ca%20href%3D%5C%22http%3A//www.openstreetmap.org/copyright%5C%22%5Cu003eODbL%5Cu003c/a%5Cu003e.%22%2C%20%22detectRetina%22%3A%20false%2C%20%22maxNativeZoom%22%3A%2018%2C%20%22maxZoom%22%3A%2018%2C%20%22minZoom%22%3A%200%2C%20%22noWrap%22%3A%20false%2C%20%22opacity%22%3A%201%2C%20%22subdomains%22%3A%20%22abc%22%2C%20%22tms%22%3A%20false%7D%0A%20%20%20%20%20%20%20%20%20%20%20%20%29.addTo%28map_c315d4114fe749d982e97b9aaa61e28a%29%3B%0A%20%20%20%20%20%20%20%20%0A%20%20%20%20%0A%20%20%20%20%20%20%20%20%20%20%20%20var%20circle_marker_0914df0f92ea43909dde3370dc135a72%20%3D%20L.circleMarker%28%0A%20%20%20%20%20%20%20%20%20%20%20%20%20%20%20%20%5B4.691000000000031%2C%20-74.03344796899995%5D%2C%0A%20%20%20%20%20%20%20%20%20%20%20%20%20%20%20%20%7B%22bubblingMouseEvents%22%3A%20true%2C%20%22color%22%3A%20%22%238000ff%22%2C%20%22dashArray%22%3A%20null%2C%20%22dashOffset%22%3A%20null%2C%20%22fill%22%3A%20true%2C%20%22fillColor%22%3A%20%22%238000ff%22%2C%20%22fillOpacity%22%3A%200.2%2C%20%22fillRule%22%3A%20%22evenodd%22%2C%20%22lineCap%22%3A%20%22round%22%2C%20%22lineJoin%22%3A%20%22round%22%2C%20%22opacity%22%3A%201.0%2C%20%22radius%22%3A%2020%2C%20%22stroke%22%3A%20true%2C%20%22weight%22%3A%203%7D%0A%20%20%20%20%20%20%20%20%20%20%20%20%29.addTo%28map_c315d4114fe749d982e97b9aaa61e28a%29%3B%0A%20%20%20%20%20%20%20%20%0A%20%20%20%20%0A%20%20%20%20%20%20%20%20var%20popup_f0b074fd7f60406b8bf25052a68e3cb4%20%3D%20L.popup%28%7B%22maxWidth%22%3A%20%22100%25%22%7D%29%3B%0A%0A%20%20%20%20%20%20%20%20%0A%20%20%20%20%20%20%20%20%20%20%20%20var%20html_9b38ff473dcb4b71bfc0b67195a3f729%20%3D%20%24%28%60%3Cdiv%20id%3D%22html_9b38ff473dcb4b71bfc0b67195a3f729%22%20style%3D%22width%3A%20100.0%25%3B%20height%3A%20100.0%25%3B%22%3ECluster%201%20Usaqu%C3%A9n%3C/div%3E%60%29%5B0%5D%3B%0A%20%20%20%20%20%20%20%20%20%20%20%20popup_f0b074fd7f60406b8bf25052a68e3cb4.setContent%28html_9b38ff473dcb4b71bfc0b67195a3f729%29%3B%0A%20%20%20%20%20%20%20%20%0A%0A%20%20%20%20%20%20%20%20circle_marker_0914df0f92ea43909dde3370dc135a72.bindPopup%28popup_f0b074fd7f60406b8bf25052a68e3cb4%29%0A%20%20%20%20%20%20%20%20%3B%0A%0A%20%20%20%20%20%20%20%20%0A%20%20%20%20%0A%20%20%20%20%0A%20%20%20%20%20%20%20%20%20%20%20%20var%20circle_marker_9526b8eac4f94aa7b4dfbcd5fa8fb889%20%3D%20L.circleMarker%28%0A%20%20%20%20%20%20%20%20%20%20%20%20%20%20%20%20%5B4.667800000000057%2C%20-74.02591031199995%5D%2C%0A%20%20%20%20%20%20%20%20%20%20%20%20%20%20%20%20%7B%22bubblingMouseEvents%22%3A%20true%2C%20%22color%22%3A%20%22%2300b5eb%22%2C%20%22dashArray%22%3A%20null%2C%20%22dashOffset%22%3A%20null%2C%20%22fill%22%3A%20true%2C%20%22fillColor%22%3A%20%22%2300b5eb%22%2C%20%22fillOpacity%22%3A%200.2%2C%20%22fillRule%22%3A%20%22evenodd%22%2C%20%22lineCap%22%3A%20%22round%22%2C%20%22lineJoin%22%3A%20%22round%22%2C%20%22opacity%22%3A%201.0%2C%20%22radius%22%3A%2020%2C%20%22stroke%22%3A%20true%2C%20%22weight%22%3A%203%7D%0A%20%20%20%20%20%20%20%20%20%20%20%20%29.addTo%28map_c315d4114fe749d982e97b9aaa61e28a%29%3B%0A%20%20%20%20%20%20%20%20%0A%20%20%20%20%0A%20%20%20%20%20%20%20%20var%20popup_3e70d59c781647109f33ba0efd1bcd48%20%3D%20L.popup%28%7B%22maxWidth%22%3A%20%22100%25%22%7D%29%3B%0A%0A%20%20%20%20%20%20%20%20%0A%20%20%20%20%20%20%20%20%20%20%20%20var%20html_e62ffc69b9c04e6fa97f14379cd3c3f7%20%3D%20%24%28%60%3Cdiv%20id%3D%22html_e62ffc69b9c04e6fa97f14379cd3c3f7%22%20style%3D%22width%3A%20100.0%25%3B%20height%3A%20100.0%25%3B%22%3ECluster%202%20Chapinero%3C/div%3E%60%29%5B0%5D%3B%0A%20%20%20%20%20%20%20%20%20%20%20%20popup_3e70d59c781647109f33ba0efd1bcd48.setContent%28html_e62ffc69b9c04e6fa97f14379cd3c3f7%29%3B%0A%20%20%20%20%20%20%20%20%0A%0A%20%20%20%20%20%20%20%20circle_marker_9526b8eac4f94aa7b4dfbcd5fa8fb889.bindPopup%28popup_3e70d59c781647109f33ba0efd1bcd48%29%0A%20%20%20%20%20%20%20%20%3B%0A%0A%20%20%20%20%20%20%20%20%0A%20%20%20%20%0A%20%20%20%20%0A%20%20%20%20%20%20%20%20%20%20%20%20var%20circle_marker_c4c0ff27c90741e89fb8dfec326f1eb5%20%3D%20L.circleMarker%28%0A%20%20%20%20%20%20%20%20%20%20%20%20%20%20%20%20%5B4.584725000000049%2C%20-74.14117047199994%5D%2C%0A%20%20%20%20%20%20%20%20%20%20%20%20%20%20%20%20%7B%22bubblingMouseEvents%22%3A%20true%2C%20%22color%22%3A%20%22%23ffb360%22%2C%20%22dashArray%22%3A%20null%2C%20%22dashOffset%22%3A%20null%2C%20%22fill%22%3A%20true%2C%20%22fillColor%22%3A%20%22%23ffb360%22%2C%20%22fillOpacity%22%3A%200.2%2C%20%22fillRule%22%3A%20%22evenodd%22%2C%20%22lineCap%22%3A%20%22round%22%2C%20%22lineJoin%22%3A%20%22round%22%2C%20%22opacity%22%3A%201.0%2C%20%22radius%22%3A%2020%2C%20%22stroke%22%3A%20true%2C%20%22weight%22%3A%203%7D%0A%20%20%20%20%20%20%20%20%20%20%20%20%29.addTo%28map_c315d4114fe749d982e97b9aaa61e28a%29%3B%0A%20%20%20%20%20%20%20%20%0A%20%20%20%20%0A%20%20%20%20%20%20%20%20var%20popup_28452b65e4e94d76980feb8750f28506%20%3D%20L.popup%28%7B%22maxWidth%22%3A%20%22100%25%22%7D%29%3B%0A%0A%20%20%20%20%20%20%20%20%0A%20%20%20%20%20%20%20%20%20%20%20%20var%20html_83a6c99e2c0c485caf9f7ef7019e80a6%20%3D%20%24%28%60%3Cdiv%20id%3D%22html_83a6c99e2c0c485caf9f7ef7019e80a6%22%20style%3D%22width%3A%20100.0%25%3B%20height%3A%20100.0%25%3B%22%3ECluster%204%20Tunjuelito%3C/div%3E%60%29%5B0%5D%3B%0A%20%20%20%20%20%20%20%20%20%20%20%20popup_28452b65e4e94d76980feb8750f28506.setContent%28html_83a6c99e2c0c485caf9f7ef7019e80a6%29%3B%0A%20%20%20%20%20%20%20%20%0A%0A%20%20%20%20%20%20%20%20circle_marker_c4c0ff27c90741e89fb8dfec326f1eb5.bindPopup%28popup_28452b65e4e94d76980feb8750f28506%29%0A%20%20%20%20%20%20%20%20%3B%0A%0A%20%20%20%20%20%20%20%20%0A%20%20%20%20%0A%20%20%20%20%0A%20%20%20%20%20%20%20%20%20%20%20%20var%20circle_marker_4fc4043b47fa498c9eac874d95a06cae%20%3D%20L.circleMarker%28%0A%20%20%20%20%20%20%20%20%20%20%20%20%20%20%20%20%5B4.638727325000048%2C%20-74.18991999999997%5D%2C%0A%20%20%20%20%20%20%20%20%20%20%20%20%20%20%20%20%7B%22bubblingMouseEvents%22%3A%20true%2C%20%22color%22%3A%20%22%238000ff%22%2C%20%22dashArray%22%3A%20null%2C%20%22dashOffset%22%3A%20null%2C%20%22fill%22%3A%20true%2C%20%22fillColor%22%3A%20%22%238000ff%22%2C%20%22fillOpacity%22%3A%200.2%2C%20%22fillRule%22%3A%20%22evenodd%22%2C%20%22lineCap%22%3A%20%22round%22%2C%20%22lineJoin%22%3A%20%22round%22%2C%20%22opacity%22%3A%201.0%2C%20%22radius%22%3A%2020%2C%20%22stroke%22%3A%20true%2C%20%22weight%22%3A%203%7D%0A%20%20%20%20%20%20%20%20%20%20%20%20%29.addTo%28map_c315d4114fe749d982e97b9aaa61e28a%29%3B%0A%20%20%20%20%20%20%20%20%0A%20%20%20%20%0A%20%20%20%20%20%20%20%20var%20popup_7776199a6a614016914f0bba1c82e813%20%3D%20L.popup%28%7B%22maxWidth%22%3A%20%22100%25%22%7D%29%3B%0A%0A%20%20%20%20%20%20%20%20%0A%20%20%20%20%20%20%20%20%20%20%20%20var%20html_7d0b380a77064a9f92301b55fc4653ff%20%3D%20%24%28%60%3Cdiv%20id%3D%22html_7d0b380a77064a9f92301b55fc4653ff%22%20style%3D%22width%3A%20100.0%25%3B%20height%3A%20100.0%25%3B%22%3ECluster%201%20Bosa%3C/div%3E%60%29%5B0%5D%3B%0A%20%20%20%20%20%20%20%20%20%20%20%20popup_7776199a6a614016914f0bba1c82e813.setContent%28html_7d0b380a77064a9f92301b55fc4653ff%29%3B%0A%20%20%20%20%20%20%20%20%0A%0A%20%20%20%20%20%20%20%20circle_marker_4fc4043b47fa498c9eac874d95a06cae.bindPopup%28popup_7776199a6a614016914f0bba1c82e813%29%0A%20%20%20%20%20%20%20%20%3B%0A%0A%20%20%20%20%20%20%20%20%0A%20%20%20%20%0A%20%20%20%20%0A%20%20%20%20%20%20%20%20%20%20%20%20var%20circle_marker_0a65bbc26a2f4b89b777fa0a031f13ca%20%3D%20L.circleMarker%28%0A%20%20%20%20%20%20%20%20%20%20%20%20%20%20%20%20%5B4.6525550000000635%2C%20-74.15529871899997%5D%2C%0A%20%20%20%20%20%20%20%20%20%20%20%20%20%20%20%20%7B%22bubblingMouseEvents%22%3A%20true%2C%20%22color%22%3A%20%22%238000ff%22%2C%20%22dashArray%22%3A%20null%2C%20%22dashOffset%22%3A%20null%2C%20%22fill%22%3A%20true%2C%20%22fillColor%22%3A%20%22%238000ff%22%2C%20%22fillOpacity%22%3A%200.2%2C%20%22fillRule%22%3A%20%22evenodd%22%2C%20%22lineCap%22%3A%20%22round%22%2C%20%22lineJoin%22%3A%20%22round%22%2C%20%22opacity%22%3A%201.0%2C%20%22radius%22%3A%2020%2C%20%22stroke%22%3A%20true%2C%20%22weight%22%3A%203%7D%0A%20%20%20%20%20%20%20%20%20%20%20%20%29.addTo%28map_c315d4114fe749d982e97b9aaa61e28a%29%3B%0A%20%20%20%20%20%20%20%20%0A%20%20%20%20%0A%20%20%20%20%20%20%20%20var%20popup_2f30dea14c1f48bebbe62074a02c955c%20%3D%20L.popup%28%7B%22maxWidth%22%3A%20%22100%25%22%7D%29%3B%0A%0A%20%20%20%20%20%20%20%20%0A%20%20%20%20%20%20%20%20%20%20%20%20var%20html_27309aa1b0884f14addcca15005960d6%20%3D%20%24%28%60%3Cdiv%20id%3D%22html_27309aa1b0884f14addcca15005960d6%22%20style%3D%22width%3A%20100.0%25%3B%20height%3A%20100.0%25%3B%22%3ECluster%201%20Kennedy%3C/div%3E%60%29%5B0%5D%3B%0A%20%20%20%20%20%20%20%20%20%20%20%20popup_2f30dea14c1f48bebbe62074a02c955c.setContent%28html_27309aa1b0884f14addcca15005960d6%29%3B%0A%20%20%20%20%20%20%20%20%0A%0A%20%20%20%20%20%20%20%20circle_marker_0a65bbc26a2f4b89b777fa0a031f13ca.bindPopup%28popup_2f30dea14c1f48bebbe62074a02c955c%29%0A%20%20%20%20%20%20%20%20%3B%0A%0A%20%20%20%20%20%20%20%20%0A%20%20%20%20%0A%20%20%20%20%0A%20%20%20%20%20%20%20%20%20%20%20%20var%20circle_marker_38d4170b34bc4002b9386353170ec05c%20%3D%20L.circleMarker%28%0A%20%20%20%20%20%20%20%20%20%20%20%20%20%20%20%20%5B4.695895000000064%2C%20-74.14457572699996%5D%2C%0A%20%20%20%20%20%20%20%20%20%20%20%20%20%20%20%20%7B%22bubblingMouseEvents%22%3A%20true%2C%20%22color%22%3A%20%22%238000ff%22%2C%20%22dashArray%22%3A%20null%2C%20%22dashOffset%22%3A%20null%2C%20%22fill%22%3A%20true%2C%20%22fillColor%22%3A%20%22%238000ff%22%2C%20%22fillOpacity%22%3A%200.2%2C%20%22fillRule%22%3A%20%22evenodd%22%2C%20%22lineCap%22%3A%20%22round%22%2C%20%22lineJoin%22%3A%20%22round%22%2C%20%22opacity%22%3A%201.0%2C%20%22radius%22%3A%2020%2C%20%22stroke%22%3A%20true%2C%20%22weight%22%3A%203%7D%0A%20%20%20%20%20%20%20%20%20%20%20%20%29.addTo%28map_c315d4114fe749d982e97b9aaa61e28a%29%3B%0A%20%20%20%20%20%20%20%20%0A%20%20%20%20%0A%20%20%20%20%20%20%20%20var%20popup_40c696e957504ff5ba4f3abc6f723de3%20%3D%20L.popup%28%7B%22maxWidth%22%3A%20%22100%25%22%7D%29%3B%0A%0A%20%20%20%20%20%20%20%20%0A%20%20%20%20%20%20%20%20%20%20%20%20var%20html_c2849be0be1242cea978170b3d65cc0e%20%3D%20%24%28%60%3Cdiv%20id%3D%22html_c2849be0be1242cea978170b3d65cc0e%22%20style%3D%22width%3A%20100.0%25%3B%20height%3A%20100.0%25%3B%22%3ECluster%201%20Fontib%C3%B3n%3C/div%3E%60%29%5B0%5D%3B%0A%20%20%20%20%20%20%20%20%20%20%20%20popup_40c696e957504ff5ba4f3abc6f723de3.setContent%28html_c2849be0be1242cea978170b3d65cc0e%29%3B%0A%20%20%20%20%20%20%20%20%0A%0A%20%20%20%20%20%20%20%20circle_marker_38d4170b34bc4002b9386353170ec05c.bindPopup%28popup_40c696e957504ff5ba4f3abc6f723de3%29%0A%20%20%20%20%20%20%20%20%3B%0A%0A%20%20%20%20%20%20%20%20%0A%20%20%20%20%0A%20%20%20%20%0A%20%20%20%20%20%20%20%20%20%20%20%20var%20circle_marker_ada98e3c31ce4a108d99fc56e1288c6b%20%3D%20L.circleMarker%28%0A%20%20%20%20%20%20%20%20%20%20%20%20%20%20%20%20%5B4.724539094000022%2C%20-74.11550499999998%5D%2C%0A%20%20%20%20%20%20%20%20%20%20%20%20%20%20%20%20%7B%22bubblingMouseEvents%22%3A%20true%2C%20%22color%22%3A%20%22%238000ff%22%2C%20%22dashArray%22%3A%20null%2C%20%22dashOffset%22%3A%20null%2C%20%22fill%22%3A%20true%2C%20%22fillColor%22%3A%20%22%238000ff%22%2C%20%22fillOpacity%22%3A%200.2%2C%20%22fillRule%22%3A%20%22evenodd%22%2C%20%22lineCap%22%3A%20%22round%22%2C%20%22lineJoin%22%3A%20%22round%22%2C%20%22opacity%22%3A%201.0%2C%20%22radius%22%3A%2020%2C%20%22stroke%22%3A%20true%2C%20%22weight%22%3A%203%7D%0A%20%20%20%20%20%20%20%20%20%20%20%20%29.addTo%28map_c315d4114fe749d982e97b9aaa61e28a%29%3B%0A%20%20%20%20%20%20%20%20%0A%20%20%20%20%0A%20%20%20%20%20%20%20%20var%20popup_9f3f5f60b80a41268b72ca1f7d721ea7%20%3D%20L.popup%28%7B%22maxWidth%22%3A%20%22100%25%22%7D%29%3B%0A%0A%20%20%20%20%20%20%20%20%0A%20%20%20%20%20%20%20%20%20%20%20%20var%20html_aedeb860858e46e8a284cd7cebd2347e%20%3D%20%24%28%60%3Cdiv%20id%3D%22html_aedeb860858e46e8a284cd7cebd2347e%22%20style%3D%22width%3A%20100.0%25%3B%20height%3A%20100.0%25%3B%22%3ECluster%201%20Engativ%C3%A1%3C/div%3E%60%29%5B0%5D%3B%0A%20%20%20%20%20%20%20%20%20%20%20%20popup_9f3f5f60b80a41268b72ca1f7d721ea7.setContent%28html_aedeb860858e46e8a284cd7cebd2347e%29%3B%0A%20%20%20%20%20%20%20%20%0A%0A%20%20%20%20%20%20%20%20circle_marker_ada98e3c31ce4a108d99fc56e1288c6b.bindPopup%28popup_9f3f5f60b80a41268b72ca1f7d721ea7%29%0A%20%20%20%20%20%20%20%20%3B%0A%0A%20%20%20%20%20%20%20%20%0A%20%20%20%20%0A%20%20%20%20%0A%20%20%20%20%20%20%20%20%20%20%20%20var%20circle_marker_feda60dca25042e5a3fae354dac844e3%20%3D%20L.circleMarker%28%0A%20%20%20%20%20%20%20%20%20%20%20%20%20%20%20%20%5B4.7080964370000515%2C%20-74.06316999999996%5D%2C%0A%20%20%20%20%20%20%20%20%20%20%20%20%20%20%20%20%7B%22bubblingMouseEvents%22%3A%20true%2C%20%22color%22%3A%20%22%238000ff%22%2C%20%22dashArray%22%3A%20null%2C%20%22dashOffset%22%3A%20null%2C%20%22fill%22%3A%20true%2C%20%22fillColor%22%3A%20%22%238000ff%22%2C%20%22fillOpacity%22%3A%200.2%2C%20%22fillRule%22%3A%20%22evenodd%22%2C%20%22lineCap%22%3A%20%22round%22%2C%20%22lineJoin%22%3A%20%22round%22%2C%20%22opacity%22%3A%201.0%2C%20%22radius%22%3A%2020%2C%20%22stroke%22%3A%20true%2C%20%22weight%22%3A%203%7D%0A%20%20%20%20%20%20%20%20%20%20%20%20%29.addTo%28map_c315d4114fe749d982e97b9aaa61e28a%29%3B%0A%20%20%20%20%20%20%20%20%0A%20%20%20%20%0A%20%20%20%20%20%20%20%20var%20popup_4a086da9b3ae439b8a6a5342b802e628%20%3D%20L.popup%28%7B%22maxWidth%22%3A%20%22100%25%22%7D%29%3B%0A%0A%20%20%20%20%20%20%20%20%0A%20%20%20%20%20%20%20%20%20%20%20%20var%20html_00206d58d3a44327940204e02ffd3f7e%20%3D%20%24%28%60%3Cdiv%20id%3D%22html_00206d58d3a44327940204e02ffd3f7e%22%20style%3D%22width%3A%20100.0%25%3B%20height%3A%20100.0%25%3B%22%3ECluster%201%20Suba%3C/div%3E%60%29%5B0%5D%3B%0A%20%20%20%20%20%20%20%20%20%20%20%20popup_4a086da9b3ae439b8a6a5342b802e628.setContent%28html_00206d58d3a44327940204e02ffd3f7e%29%3B%0A%20%20%20%20%20%20%20%20%0A%0A%20%20%20%20%20%20%20%20circle_marker_feda60dca25042e5a3fae354dac844e3.bindPopup%28popup_4a086da9b3ae439b8a6a5342b802e628%29%0A%20%20%20%20%20%20%20%20%3B%0A%0A%20%20%20%20%20%20%20%20%0A%20%20%20%20%0A%20%20%20%20%0A%20%20%20%20%20%20%20%20%20%20%20%20var%20circle_marker_5be2312c58e14f92be13a9fd117011de%20%3D%20L.circleMarker%28%0A%20%20%20%20%20%20%20%20%20%20%20%20%20%20%20%20%5B4.67783038400006%2C%20-74.07160499999998%5D%2C%0A%20%20%20%20%20%20%20%20%20%20%20%20%20%20%20%20%7B%22bubblingMouseEvents%22%3A%20true%2C%20%22color%22%3A%20%22%2380ffb4%22%2C%20%22dashArray%22%3A%20null%2C%20%22dashOffset%22%3A%20null%2C%20%22fill%22%3A%20true%2C%20%22fillColor%22%3A%20%22%2380ffb4%22%2C%20%22fillOpacity%22%3A%200.2%2C%20%22fillRule%22%3A%20%22evenodd%22%2C%20%22lineCap%22%3A%20%22round%22%2C%20%22lineJoin%22%3A%20%22round%22%2C%20%22opacity%22%3A%201.0%2C%20%22radius%22%3A%2020%2C%20%22stroke%22%3A%20true%2C%20%22weight%22%3A%203%7D%0A%20%20%20%20%20%20%20%20%20%20%20%20%29.addTo%28map_c315d4114fe749d982e97b9aaa61e28a%29%3B%0A%20%20%20%20%20%20%20%20%0A%20%20%20%20%0A%20%20%20%20%20%20%20%20var%20popup_bdafa3413e4c4a24b5b2919655ec02dc%20%3D%20L.popup%28%7B%22maxWidth%22%3A%20%22100%25%22%7D%29%3B%0A%0A%20%20%20%20%20%20%20%20%0A%20%20%20%20%20%20%20%20%20%20%20%20var%20html_2a8b6976921c490fad54da02c4793ac5%20%3D%20%24%28%60%3Cdiv%20id%3D%22html_2a8b6976921c490fad54da02c4793ac5%22%20style%3D%22width%3A%20100.0%25%3B%20height%3A%20100.0%25%3B%22%3ECluster%203%20Barrios%20Unidos%3C/div%3E%60%29%5B0%5D%3B%0A%20%20%20%20%20%20%20%20%20%20%20%20popup_bdafa3413e4c4a24b5b2919655ec02dc.setContent%28html_2a8b6976921c490fad54da02c4793ac5%29%3B%0A%20%20%20%20%20%20%20%20%0A%0A%20%20%20%20%20%20%20%20circle_marker_5be2312c58e14f92be13a9fd117011de.bindPopup%28popup_bdafa3413e4c4a24b5b2919655ec02dc%29%0A%20%20%20%20%20%20%20%20%3B%0A%0A%20%20%20%20%20%20%20%20%0A%20%20%20%20%0A%20%20%20%20%0A%20%20%20%20%20%20%20%20%20%20%20%20var%20circle_marker_0010befc6e06449d952f8f83210cc90a%20%3D%20L.circleMarker%28%0A%20%20%20%20%20%20%20%20%20%20%20%20%20%20%20%20%5B4.633319682000035%2C%20-74.07290770799995%5D%2C%0A%20%20%20%20%20%20%20%20%20%20%20%20%20%20%20%20%7B%22bubblingMouseEvents%22%3A%20true%2C%20%22color%22%3A%20%22%238000ff%22%2C%20%22dashArray%22%3A%20null%2C%20%22dashOffset%22%3A%20null%2C%20%22fill%22%3A%20true%2C%20%22fillColor%22%3A%20%22%238000ff%22%2C%20%22fillOpacity%22%3A%200.2%2C%20%22fillRule%22%3A%20%22evenodd%22%2C%20%22lineCap%22%3A%20%22round%22%2C%20%22lineJoin%22%3A%20%22round%22%2C%20%22opacity%22%3A%201.0%2C%20%22radius%22%3A%2020%2C%20%22stroke%22%3A%20true%2C%20%22weight%22%3A%203%7D%0A%20%20%20%20%20%20%20%20%20%20%20%20%29.addTo%28map_c315d4114fe749d982e97b9aaa61e28a%29%3B%0A%20%20%20%20%20%20%20%20%0A%20%20%20%20%0A%20%20%20%20%20%20%20%20var%20popup_7b05815ca3be468cb1ba8ec0825757f2%20%3D%20L.popup%28%7B%22maxWidth%22%3A%20%22100%25%22%7D%29%3B%0A%0A%20%20%20%20%20%20%20%20%0A%20%20%20%20%20%20%20%20%20%20%20%20var%20html_ddff2d55aa7140c5b09afe9c7672fe82%20%3D%20%24%28%60%3Cdiv%20id%3D%22html_ddff2d55aa7140c5b09afe9c7672fe82%22%20style%3D%22width%3A%20100.0%25%3B%20height%3A%20100.0%25%3B%22%3ECluster%201%20Teusaquillo%3C/div%3E%60%29%5B0%5D%3B%0A%20%20%20%20%20%20%20%20%20%20%20%20popup_7b05815ca3be468cb1ba8ec0825757f2.setContent%28html_ddff2d55aa7140c5b09afe9c7672fe82%29%3B%0A%20%20%20%20%20%20%20%20%0A%0A%20%20%20%20%20%20%20%20circle_marker_0010befc6e06449d952f8f83210cc90a.bindPopup%28popup_7b05815ca3be468cb1ba8ec0825757f2%29%0A%20%20%20%20%20%20%20%20%3B%0A%0A%20%20%20%20%20%20%20%20%0A%20%20%20%20%0A%20%20%20%20%0A%20%20%20%20%20%20%20%20%20%20%20%20var%20circle_marker_2dac557b4e864dec8788443efb3d24d6%20%3D%20L.circleMarker%28%0A%20%20%20%20%20%20%20%20%20%20%20%20%20%20%20%20%5B4.604255667000075%2C%20-74.08991499999996%5D%2C%0A%20%20%20%20%20%20%20%20%20%20%20%20%20%20%20%20%7B%22bubblingMouseEvents%22%3A%20true%2C%20%22color%22%3A%20%22%238000ff%22%2C%20%22dashArray%22%3A%20null%2C%20%22dashOffset%22%3A%20null%2C%20%22fill%22%3A%20true%2C%20%22fillColor%22%3A%20%22%238000ff%22%2C%20%22fillOpacity%22%3A%200.2%2C%20%22fillRule%22%3A%20%22evenodd%22%2C%20%22lineCap%22%3A%20%22round%22%2C%20%22lineJoin%22%3A%20%22round%22%2C%20%22opacity%22%3A%201.0%2C%20%22radius%22%3A%2020%2C%20%22stroke%22%3A%20true%2C%20%22weight%22%3A%203%7D%0A%20%20%20%20%20%20%20%20%20%20%20%20%29.addTo%28map_c315d4114fe749d982e97b9aaa61e28a%29%3B%0A%20%20%20%20%20%20%20%20%0A%20%20%20%20%0A%20%20%20%20%20%20%20%20var%20popup_33890a43072943d89fe2d8565ad4b1ae%20%3D%20L.popup%28%7B%22maxWidth%22%3A%20%22100%25%22%7D%29%3B%0A%0A%20%20%20%20%20%20%20%20%0A%20%20%20%20%20%20%20%20%20%20%20%20var%20html_2716635d51ec4cc08b10d5352a84b533%20%3D%20%24%28%60%3Cdiv%20id%3D%22html_2716635d51ec4cc08b10d5352a84b533%22%20style%3D%22width%3A%20100.0%25%3B%20height%3A%20100.0%25%3B%22%3ECluster%201%20Los%20M%C3%A1rtires%3C/div%3E%60%29%5B0%5D%3B%0A%20%20%20%20%20%20%20%20%20%20%20%20popup_33890a43072943d89fe2d8565ad4b1ae.setContent%28html_2716635d51ec4cc08b10d5352a84b533%29%3B%0A%20%20%20%20%20%20%20%20%0A%0A%20%20%20%20%20%20%20%20circle_marker_2dac557b4e864dec8788443efb3d24d6.bindPopup%28popup_33890a43072943d89fe2d8565ad4b1ae%29%0A%20%20%20%20%20%20%20%20%3B%0A%0A%20%20%20%20%20%20%20%20%0A%20%20%20%20%0A%20%20%20%20%0A%20%20%20%20%20%20%20%20%20%20%20%20var%20circle_marker_29c0244d2f5045f19e202331cb4762e8%20%3D%20L.circleMarker%28%0A%20%20%20%20%20%20%20%20%20%20%20%20%20%20%20%20%5B4.587130000000059%2C%20-74.09692978299995%5D%2C%0A%20%20%20%20%20%20%20%20%20%20%20%20%20%20%20%20%7B%22bubblingMouseEvents%22%3A%20true%2C%20%22color%22%3A%20%22%238000ff%22%2C%20%22dashArray%22%3A%20null%2C%20%22dashOffset%22%3A%20null%2C%20%22fill%22%3A%20true%2C%20%22fillColor%22%3A%20%22%238000ff%22%2C%20%22fillOpacity%22%3A%200.2%2C%20%22fillRule%22%3A%20%22evenodd%22%2C%20%22lineCap%22%3A%20%22round%22%2C%20%22lineJoin%22%3A%20%22round%22%2C%20%22opacity%22%3A%201.0%2C%20%22radius%22%3A%2020%2C%20%22stroke%22%3A%20true%2C%20%22weight%22%3A%203%7D%0A%20%20%20%20%20%20%20%20%20%20%20%20%29.addTo%28map_c315d4114fe749d982e97b9aaa61e28a%29%3B%0A%20%20%20%20%20%20%20%20%0A%20%20%20%20%0A%20%20%20%20%20%20%20%20var%20popup_c15fbb99d58b42a1acfdd1d03ed0e547%20%3D%20L.popup%28%7B%22maxWidth%22%3A%20%22100%25%22%7D%29%3B%0A%0A%20%20%20%20%20%20%20%20%0A%20%20%20%20%20%20%20%20%20%20%20%20var%20html_49c9f44a7e894077b2ee5840fa5675cf%20%3D%20%24%28%60%3Cdiv%20id%3D%22html_49c9f44a7e894077b2ee5840fa5675cf%22%20style%3D%22width%3A%20100.0%25%3B%20height%3A%20100.0%25%3B%22%3ECluster%201%20Antonio%20Nari%C3%B1o%3C/div%3E%60%29%5B0%5D%3B%0A%20%20%20%20%20%20%20%20%20%20%20%20popup_c15fbb99d58b42a1acfdd1d03ed0e547.setContent%28html_49c9f44a7e894077b2ee5840fa5675cf%29%3B%0A%20%20%20%20%20%20%20%20%0A%0A%20%20%20%20%20%20%20%20circle_marker_29c0244d2f5045f19e202331cb4762e8.bindPopup%28popup_c15fbb99d58b42a1acfdd1d03ed0e547%29%0A%20%20%20%20%20%20%20%20%3B%0A%0A%20%20%20%20%20%20%20%20%0A%20%20%20%20%0A%20%20%20%20%0A%20%20%20%20%20%20%20%20%20%20%20%20var%20circle_marker_2cb2b5cb6a974dd389c4cd09610071bd%20%3D%20L.circleMarker%28%0A%20%20%20%20%20%20%20%20%20%20%20%20%20%20%20%20%5B4.624250000000075%2C%20-74.10372384099998%5D%2C%0A%20%20%20%20%20%20%20%20%20%20%20%20%20%20%20%20%7B%22bubblingMouseEvents%22%3A%20true%2C%20%22color%22%3A%20%22%23ff0000%22%2C%20%22dashArray%22%3A%20null%2C%20%22dashOffset%22%3A%20null%2C%20%22fill%22%3A%20true%2C%20%22fillColor%22%3A%20%22%23ff0000%22%2C%20%22fillOpacity%22%3A%200.2%2C%20%22fillRule%22%3A%20%22evenodd%22%2C%20%22lineCap%22%3A%20%22round%22%2C%20%22lineJoin%22%3A%20%22round%22%2C%20%22opacity%22%3A%201.0%2C%20%22radius%22%3A%2020%2C%20%22stroke%22%3A%20true%2C%20%22weight%22%3A%203%7D%0A%20%20%20%20%20%20%20%20%20%20%20%20%29.addTo%28map_c315d4114fe749d982e97b9aaa61e28a%29%3B%0A%20%20%20%20%20%20%20%20%0A%20%20%20%20%0A%20%20%20%20%20%20%20%20var%20popup_c82786fa359f4c029471ef0549fa62dd%20%3D%20L.popup%28%7B%22maxWidth%22%3A%20%22100%25%22%7D%29%3B%0A%0A%20%20%20%20%20%20%20%20%0A%20%20%20%20%20%20%20%20%20%20%20%20var%20html_6a940888ef0e440db1bb5766ea48e52c%20%3D%20%24%28%60%3Cdiv%20id%3D%22html_6a940888ef0e440db1bb5766ea48e52c%22%20style%3D%22width%3A%20100.0%25%3B%20height%3A%20100.0%25%3B%22%3ECluster%205%20Puente%20Aranda%3C/div%3E%60%29%5B0%5D%3B%0A%20%20%20%20%20%20%20%20%20%20%20%20popup_c82786fa359f4c029471ef0549fa62dd.setContent%28html_6a940888ef0e440db1bb5766ea48e52c%29%3B%0A%20%20%20%20%20%20%20%20%0A%0A%20%20%20%20%20%20%20%20circle_marker_2cb2b5cb6a974dd389c4cd09610071bd.bindPopup%28popup_c82786fa359f4c029471ef0549fa62dd%29%0A%20%20%20%20%20%20%20%20%3B%0A%0A%20%20%20%20%20%20%20%20%0A%20%20%20%20%0A%20%20%20%20%0A%20%20%20%20%20%20%20%20%20%20%20%20var%20circle_marker_9163cf269daf4d8f9f6eea5b3819d563%20%3D%20L.circleMarker%28%0A%20%20%20%20%20%20%20%20%20%20%20%20%20%20%20%20%5B4.599095000000034%2C%20-74.07197925799994%5D%2C%0A%20%20%20%20%20%20%20%20%20%20%20%20%20%20%20%20%7B%22bubblingMouseEvents%22%3A%20true%2C%20%22color%22%3A%20%22%238000ff%22%2C%20%22dashArray%22%3A%20null%2C%20%22dashOffset%22%3A%20null%2C%20%22fill%22%3A%20true%2C%20%22fillColor%22%3A%20%22%238000ff%22%2C%20%22fillOpacity%22%3A%200.2%2C%20%22fillRule%22%3A%20%22evenodd%22%2C%20%22lineCap%22%3A%20%22round%22%2C%20%22lineJoin%22%3A%20%22round%22%2C%20%22opacity%22%3A%201.0%2C%20%22radius%22%3A%2020%2C%20%22stroke%22%3A%20true%2C%20%22weight%22%3A%203%7D%0A%20%20%20%20%20%20%20%20%20%20%20%20%29.addTo%28map_c315d4114fe749d982e97b9aaa61e28a%29%3B%0A%20%20%20%20%20%20%20%20%0A%20%20%20%20%0A%20%20%20%20%20%20%20%20var%20popup_cb6ec5b48bee47fcad442b4ac2095bc0%20%3D%20L.popup%28%7B%22maxWidth%22%3A%20%22100%25%22%7D%29%3B%0A%0A%20%20%20%20%20%20%20%20%0A%20%20%20%20%20%20%20%20%20%20%20%20var%20html_dda7720e7538417381570561db02cddb%20%3D%20%24%28%60%3Cdiv%20id%3D%22html_dda7720e7538417381570561db02cddb%22%20style%3D%22width%3A%20100.0%25%3B%20height%3A%20100.0%25%3B%22%3ECluster%201%20La%20Candelaria%3C/div%3E%60%29%5B0%5D%3B%0A%20%20%20%20%20%20%20%20%20%20%20%20popup_cb6ec5b48bee47fcad442b4ac2095bc0.setContent%28html_dda7720e7538417381570561db02cddb%29%3B%0A%20%20%20%20%20%20%20%20%0A%0A%20%20%20%20%20%20%20%20circle_marker_9163cf269daf4d8f9f6eea5b3819d563.bindPopup%28popup_cb6ec5b48bee47fcad442b4ac2095bc0%29%0A%20%20%20%20%20%20%20%20%3B%0A%0A%20%20%20%20%20%20%20%20%0A%20%20%20%20%0A%20%20%20%20%0A%20%20%20%20%20%20%20%20%20%20%20%20var%20circle_marker_5cd1941cceab492d9a992aa9c6ab6d76%20%3D%20L.circleMarker%28%0A%20%20%20%20%20%20%20%20%20%20%20%20%20%20%20%20%5B4.5797300000000405%2C%20-74.11682462899995%5D%2C%0A%20%20%20%20%20%20%20%20%20%20%20%20%20%20%20%20%7B%22bubblingMouseEvents%22%3A%20true%2C%20%22color%22%3A%20%22%238000ff%22%2C%20%22dashArray%22%3A%20null%2C%20%22dashOffset%22%3A%20null%2C%20%22fill%22%3A%20true%2C%20%22fillColor%22%3A%20%22%238000ff%22%2C%20%22fillOpacity%22%3A%200.2%2C%20%22fillRule%22%3A%20%22evenodd%22%2C%20%22lineCap%22%3A%20%22round%22%2C%20%22lineJoin%22%3A%20%22round%22%2C%20%22opacity%22%3A%201.0%2C%20%22radius%22%3A%2020%2C%20%22stroke%22%3A%20true%2C%20%22weight%22%3A%203%7D%0A%20%20%20%20%20%20%20%20%20%20%20%20%29.addTo%28map_c315d4114fe749d982e97b9aaa61e28a%29%3B%0A%20%20%20%20%20%20%20%20%0A%20%20%20%20%0A%20%20%20%20%20%20%20%20var%20popup_e713790bdb4940c7814f5e54dbe46062%20%3D%20L.popup%28%7B%22maxWidth%22%3A%20%22100%25%22%7D%29%3B%0A%0A%20%20%20%20%20%20%20%20%0A%20%20%20%20%20%20%20%20%20%20%20%20var%20html_84c78ce1c19d430ca50fe42270b7eb17%20%3D%20%24%28%60%3Cdiv%20id%3D%22html_84c78ce1c19d430ca50fe42270b7eb17%22%20style%3D%22width%3A%20100.0%25%3B%20height%3A%20100.0%25%3B%22%3ECluster%201%20Rafael%20Uribe%20Uribe%3C/div%3E%60%29%5B0%5D%3B%0A%20%20%20%20%20%20%20%20%20%20%20%20popup_e713790bdb4940c7814f5e54dbe46062.setContent%28html_84c78ce1c19d430ca50fe42270b7eb17%29%3B%0A%20%20%20%20%20%20%20%20%0A%0A%20%20%20%20%20%20%20%20circle_marker_5cd1941cceab492d9a992aa9c6ab6d76.bindPopup%28popup_e713790bdb4940c7814f5e54dbe46062%29%0A%20%20%20%20%20%20%20%20%3B%0A%0A%20%20%20%20%20%20%20%20%0A%20%20%20%20%0A%20%20%20%20%0A%20%20%20%20%20%20%20%20%20%20%20%20var%20circle_marker_8fdb8ea06efc483c814750abc8aa8935%20%3D%20L.circleMarker%28%0A%20%20%20%20%20%20%20%20%20%20%20%20%20%20%20%20%5B4.577027933000068%2C%20-74.15146499999997%5D%2C%0A%20%20%20%20%20%20%20%20%20%20%20%20%20%20%20%20%7B%22bubblingMouseEvents%22%3A%20true%2C%20%22color%22%3A%20%22%238000ff%22%2C%20%22dashArray%22%3A%20null%2C%20%22dashOffset%22%3A%20null%2C%20%22fill%22%3A%20true%2C%20%22fillColor%22%3A%20%22%238000ff%22%2C%20%22fillOpacity%22%3A%200.2%2C%20%22fillRule%22%3A%20%22evenodd%22%2C%20%22lineCap%22%3A%20%22round%22%2C%20%22lineJoin%22%3A%20%22round%22%2C%20%22opacity%22%3A%201.0%2C%20%22radius%22%3A%2020%2C%20%22stroke%22%3A%20true%2C%20%22weight%22%3A%203%7D%0A%20%20%20%20%20%20%20%20%20%20%20%20%29.addTo%28map_c315d4114fe749d982e97b9aaa61e28a%29%3B%0A%20%20%20%20%20%20%20%20%0A%20%20%20%20%0A%20%20%20%20%20%20%20%20var%20popup_27f308558dc14adf9f8306ba3e91b8d0%20%3D%20L.popup%28%7B%22maxWidth%22%3A%20%22100%25%22%7D%29%3B%0A%0A%20%20%20%20%20%20%20%20%0A%20%20%20%20%20%20%20%20%20%20%20%20var%20html_d32f2568a57b4925859cac03a2c40912%20%3D%20%24%28%60%3Cdiv%20id%3D%22html_d32f2568a57b4925859cac03a2c40912%22%20style%3D%22width%3A%20100.0%25%3B%20height%3A%20100.0%25%3B%22%3ECluster%201%20Ciudad%20Bol%C3%ADvar%3C/div%3E%60%29%5B0%5D%3B%0A%20%20%20%20%20%20%20%20%20%20%20%20popup_27f308558dc14adf9f8306ba3e91b8d0.setContent%28html_d32f2568a57b4925859cac03a2c40912%29%3B%0A%20%20%20%20%20%20%20%20%0A%0A%20%20%20%20%20%20%20%20circle_marker_8fdb8ea06efc483c814750abc8aa8935.bindPopup%28popup_27f308558dc14adf9f8306ba3e91b8d0%29%0A%20%20%20%20%20%20%20%20%3B%0A%0A%20%20%20%20%20%20%20%20%0A%20%20%20%20%0A%3C/script%3E onload=\"this.contentDocument.open();this.contentDocument.write(    decodeURIComponent(this.getAttribute('data-html')));this.contentDocument.close();\" allowfullscreen webkitallowfullscreen mozallowfullscreen></iframe></div></div>"
                    },
                    "metadata": {}
                }
            ]
        },
        {
            "metadata": {
                "id": "2p6Ndn18Pj2m",
                "colab_type": "text"
            },
            "cell_type": "markdown",
            "source": "## Examining our Clusters"
        },
        {
            "metadata": {
                "id": "Jx9KwrZ3P6Uf",
                "colab_type": "text"
            },
            "cell_type": "markdown",
            "source": "### Cluster 1"
        },
        {
            "metadata": {
                "id": "IIRvkQZuPjNM",
                "colab_type": "code",
                "colab": {
                    "base_uri": "https://localhost:8080/",
                    "height": 227
                },
                "executionInfo": {
                    "status": "ok",
                    "timestamp": 1597726606178,
                    "user_tz": -330,
                    "elapsed": 1050,
                    "user": {
                        "displayName": "Thomas George Thomas",
                        "photoUrl": "https://lh3.googleusercontent.com/a-/AOh14GhRjmtno5yCmJOUjYiFNGHi_xP5YZBJ1ZpWGKsZ=s64",
                        "userId": "09561174857978505545"
                    }
                },
                "outputId": "e4a7c639-7d36-48fe-9d78-874b9d0579c8"
            },
            "cell_type": "code",
            "source": "bogota_data.loc[bogota_data['Cluster Labels'] == 1, bogota_data.columns[[1] + list(range(5, bogota_data.shape[1]))]]",
            "execution_count": 178,
            "outputs": [
                {
                    "output_type": "execute_result",
                    "execution_count": 178,
                    "data": {
                        "text/plain": "   post_code 1st Most Common Venue 2nd Most Common Venue  \\\n0     110111                 Hotel                  Caf\u00e9   \n6     110711         Movie Theater         Shopping Mall   \n7     110811          Burger Joint         Shopping Mall   \n8     110911        Airport Lounge           Coffee Shop   \n9     111011           Pizza Place    Seafood Restaurant   \n10    111111           Coffee Shop  Fast Food Restaurant   \n12    111311               Brewery                  Caf\u00e9   \n13    111411         Shopping Mall     Mobile Phone Shop   \n14    111511      Department Store        Clothing Store   \n16    111711                  Caf\u00e9    Italian Restaurant   \n17    111811          Burger Joint          Neighborhood   \n18    111911  Fast Food Restaurant    Seafood Restaurant   \n\n   3rd Most Common Venue 4th Most Common Venue 5th Most Common Venue  \\\n0      French Restaurant      Asian Restaurant                   Pub   \n6         Ice Cream Shop              Pharmacy        Cosmetics Shop   \n7            Beer Garden     Health Food Store          Cupcake Shop   \n8                   Caf\u00e9        Duty-free Shop           Pizza Place   \n9              Multiplex                  Park                   Bar   \n10             Gastropub    Seafood Restaurant        Ice Cream Shop   \n12          Burger Joint         Indie Theater   Peruvian Restaurant   \n13              Boutique        Clothing Store      Department Store   \n14            Restaurant   Fried Chicken Joint           Pizza Place   \n16        History Museum                Hostel            Restaurant   \n17    Mexican Restaurant              Pharmacy             Cafeteria   \n18                  Park           Auto Garage      Theme Restaurant   \n\n      6th Most Common Venue 7th Most Common Venue   8th Most Common Venue  \\\n0                Steakhouse                   Bar              Restaurant   \n6                      Caf\u00e9  Caribbean Restaurant          Clothing Store   \n7            Clothing Store          Cocktail Bar             Coffee Shop   \n8                Donut Shop        Cosmetics Shop     Fried Chicken Joint   \n9                    Bakery                   Pub    Gym / Fitness Center   \n10               Restaurant                   Pub                    Park   \n12  New American Restaurant          Cocktail Bar          Ice Cream Shop   \n13               Restaurant      Theme Restaurant          Cosmetics Shop   \n14                Drugstore         Deli / Bodega                     Gym   \n16             Cocktail Bar    Mexican Restaurant  Argentinian Restaurant   \n17                     Caf\u00e9  Caribbean Restaurant          Clothing Store   \n18          Cultural Center  Caribbean Restaurant          Clothing Store   \n\n      9th Most Common Venue 10th Most Common Venue  \n0            Gymnastics Gym   Gym / Fitness Center  \n6              Cocktail Bar            Coffee Shop  \n7   Comfort Food Restaurant           Concert Hall  \n8                 Gift Shop              Cafeteria  \n9          Toy / Game Store         Shop & Service  \n10         Theme Restaurant         Cosmetics Shop  \n12               Restaurant         Sandwich Place  \n13     Caribbean Restaurant           Cocktail Bar  \n14       Mexican Restaurant      Mobile Phone Shop  \n16                Bookstore         Breakfast Spot  \n17             Cocktail Bar            Coffee Shop  \n18             Cocktail Bar            Coffee Shop  ",
                        "text/html": "<div>\n<style scoped>\n    .dataframe tbody tr th:only-of-type {\n        vertical-align: middle;\n    }\n\n    .dataframe tbody tr th {\n        vertical-align: top;\n    }\n\n    .dataframe thead th {\n        text-align: right;\n    }\n</style>\n<table border=\"1\" class=\"dataframe\">\n  <thead>\n    <tr style=\"text-align: right;\">\n      <th></th>\n      <th>post_code</th>\n      <th>1st Most Common Venue</th>\n      <th>2nd Most Common Venue</th>\n      <th>3rd Most Common Venue</th>\n      <th>4th Most Common Venue</th>\n      <th>5th Most Common Venue</th>\n      <th>6th Most Common Venue</th>\n      <th>7th Most Common Venue</th>\n      <th>8th Most Common Venue</th>\n      <th>9th Most Common Venue</th>\n      <th>10th Most Common Venue</th>\n    </tr>\n  </thead>\n  <tbody>\n    <tr>\n      <th>0</th>\n      <td>110111</td>\n      <td>Hotel</td>\n      <td>Caf\u00e9</td>\n      <td>French Restaurant</td>\n      <td>Asian Restaurant</td>\n      <td>Pub</td>\n      <td>Steakhouse</td>\n      <td>Bar</td>\n      <td>Restaurant</td>\n      <td>Gymnastics Gym</td>\n      <td>Gym / Fitness Center</td>\n    </tr>\n    <tr>\n      <th>6</th>\n      <td>110711</td>\n      <td>Movie Theater</td>\n      <td>Shopping Mall</td>\n      <td>Ice Cream Shop</td>\n      <td>Pharmacy</td>\n      <td>Cosmetics Shop</td>\n      <td>Caf\u00e9</td>\n      <td>Caribbean Restaurant</td>\n      <td>Clothing Store</td>\n      <td>Cocktail Bar</td>\n      <td>Coffee Shop</td>\n    </tr>\n    <tr>\n      <th>7</th>\n      <td>110811</td>\n      <td>Burger Joint</td>\n      <td>Shopping Mall</td>\n      <td>Beer Garden</td>\n      <td>Health Food Store</td>\n      <td>Cupcake Shop</td>\n      <td>Clothing Store</td>\n      <td>Cocktail Bar</td>\n      <td>Coffee Shop</td>\n      <td>Comfort Food Restaurant</td>\n      <td>Concert Hall</td>\n    </tr>\n    <tr>\n      <th>8</th>\n      <td>110911</td>\n      <td>Airport Lounge</td>\n      <td>Coffee Shop</td>\n      <td>Caf\u00e9</td>\n      <td>Duty-free Shop</td>\n      <td>Pizza Place</td>\n      <td>Donut Shop</td>\n      <td>Cosmetics Shop</td>\n      <td>Fried Chicken Joint</td>\n      <td>Gift Shop</td>\n      <td>Cafeteria</td>\n    </tr>\n    <tr>\n      <th>9</th>\n      <td>111011</td>\n      <td>Pizza Place</td>\n      <td>Seafood Restaurant</td>\n      <td>Multiplex</td>\n      <td>Park</td>\n      <td>Bar</td>\n      <td>Bakery</td>\n      <td>Pub</td>\n      <td>Gym / Fitness Center</td>\n      <td>Toy / Game Store</td>\n      <td>Shop &amp; Service</td>\n    </tr>\n    <tr>\n      <th>10</th>\n      <td>111111</td>\n      <td>Coffee Shop</td>\n      <td>Fast Food Restaurant</td>\n      <td>Gastropub</td>\n      <td>Seafood Restaurant</td>\n      <td>Ice Cream Shop</td>\n      <td>Restaurant</td>\n      <td>Pub</td>\n      <td>Park</td>\n      <td>Theme Restaurant</td>\n      <td>Cosmetics Shop</td>\n    </tr>\n    <tr>\n      <th>12</th>\n      <td>111311</td>\n      <td>Brewery</td>\n      <td>Caf\u00e9</td>\n      <td>Burger Joint</td>\n      <td>Indie Theater</td>\n      <td>Peruvian Restaurant</td>\n      <td>New American Restaurant</td>\n      <td>Cocktail Bar</td>\n      <td>Ice Cream Shop</td>\n      <td>Restaurant</td>\n      <td>Sandwich Place</td>\n    </tr>\n    <tr>\n      <th>13</th>\n      <td>111411</td>\n      <td>Shopping Mall</td>\n      <td>Mobile Phone Shop</td>\n      <td>Boutique</td>\n      <td>Clothing Store</td>\n      <td>Department Store</td>\n      <td>Restaurant</td>\n      <td>Theme Restaurant</td>\n      <td>Cosmetics Shop</td>\n      <td>Caribbean Restaurant</td>\n      <td>Cocktail Bar</td>\n    </tr>\n    <tr>\n      <th>14</th>\n      <td>111511</td>\n      <td>Department Store</td>\n      <td>Clothing Store</td>\n      <td>Restaurant</td>\n      <td>Fried Chicken Joint</td>\n      <td>Pizza Place</td>\n      <td>Drugstore</td>\n      <td>Deli / Bodega</td>\n      <td>Gym</td>\n      <td>Mexican Restaurant</td>\n      <td>Mobile Phone Shop</td>\n    </tr>\n    <tr>\n      <th>16</th>\n      <td>111711</td>\n      <td>Caf\u00e9</td>\n      <td>Italian Restaurant</td>\n      <td>History Museum</td>\n      <td>Hostel</td>\n      <td>Restaurant</td>\n      <td>Cocktail Bar</td>\n      <td>Mexican Restaurant</td>\n      <td>Argentinian Restaurant</td>\n      <td>Bookstore</td>\n      <td>Breakfast Spot</td>\n    </tr>\n    <tr>\n      <th>17</th>\n      <td>111811</td>\n      <td>Burger Joint</td>\n      <td>Neighborhood</td>\n      <td>Mexican Restaurant</td>\n      <td>Pharmacy</td>\n      <td>Cafeteria</td>\n      <td>Caf\u00e9</td>\n      <td>Caribbean Restaurant</td>\n      <td>Clothing Store</td>\n      <td>Cocktail Bar</td>\n      <td>Coffee Shop</td>\n    </tr>\n    <tr>\n      <th>18</th>\n      <td>111911</td>\n      <td>Fast Food Restaurant</td>\n      <td>Seafood Restaurant</td>\n      <td>Park</td>\n      <td>Auto Garage</td>\n      <td>Theme Restaurant</td>\n      <td>Cultural Center</td>\n      <td>Caribbean Restaurant</td>\n      <td>Clothing Store</td>\n      <td>Cocktail Bar</td>\n      <td>Coffee Shop</td>\n    </tr>\n  </tbody>\n</table>\n</div>"
                    },
                    "metadata": {}
                }
            ]
        },
        {
            "metadata": {
                "id": "n_5zENbHQHDc",
                "colab_type": "text"
            },
            "cell_type": "markdown",
            "source": "### Cluster 2"
        },
        {
            "metadata": {
                "id": "i52C8QyOQIIj",
                "colab_type": "code",
                "colab": {
                    "base_uri": "https://localhost:8080/",
                    "height": 708
                },
                "executionInfo": {
                    "status": "ok",
                    "timestamp": 1597726609697,
                    "user_tz": -330,
                    "elapsed": 926,
                    "user": {
                        "displayName": "Thomas George Thomas",
                        "photoUrl": "https://lh3.googleusercontent.com/a-/AOh14GhRjmtno5yCmJOUjYiFNGHi_xP5YZBJ1ZpWGKsZ=s64",
                        "userId": "09561174857978505545"
                    }
                },
                "outputId": "eed949ed-ba5f-4199-9270-55c8976640a6"
            },
            "cell_type": "code",
            "source": "bogota_data.loc[bogota_data['Cluster Labels'] == 2, bogota_data.columns[[1] + list(range(5, bogota_data.shape[1]))]]",
            "execution_count": 177,
            "outputs": [
                {
                    "output_type": "execute_result",
                    "execution_count": 177,
                    "data": {
                        "text/plain": "  post_code 1st Most Common Venue 2nd Most Common Venue 3rd Most Common Venue  \\\n1    110211              Mountain      Theme Restaurant     French Restaurant   \n\n  4th Most Common Venue 5th Most Common Venue 6th Most Common Venue  \\\n1  Caribbean Restaurant        Clothing Store          Cocktail Bar   \n\n  7th Most Common Venue    8th Most Common Venue 9th Most Common Venue  \\\n1           Coffee Shop  Comfort Food Restaurant          Concert Hall   \n\n  10th Most Common Venue  \n1      Convenience Store  ",
                        "text/html": "<div>\n<style scoped>\n    .dataframe tbody tr th:only-of-type {\n        vertical-align: middle;\n    }\n\n    .dataframe tbody tr th {\n        vertical-align: top;\n    }\n\n    .dataframe thead th {\n        text-align: right;\n    }\n</style>\n<table border=\"1\" class=\"dataframe\">\n  <thead>\n    <tr style=\"text-align: right;\">\n      <th></th>\n      <th>post_code</th>\n      <th>1st Most Common Venue</th>\n      <th>2nd Most Common Venue</th>\n      <th>3rd Most Common Venue</th>\n      <th>4th Most Common Venue</th>\n      <th>5th Most Common Venue</th>\n      <th>6th Most Common Venue</th>\n      <th>7th Most Common Venue</th>\n      <th>8th Most Common Venue</th>\n      <th>9th Most Common Venue</th>\n      <th>10th Most Common Venue</th>\n    </tr>\n  </thead>\n  <tbody>\n    <tr>\n      <th>1</th>\n      <td>110211</td>\n      <td>Mountain</td>\n      <td>Theme Restaurant</td>\n      <td>French Restaurant</td>\n      <td>Caribbean Restaurant</td>\n      <td>Clothing Store</td>\n      <td>Cocktail Bar</td>\n      <td>Coffee Shop</td>\n      <td>Comfort Food Restaurant</td>\n      <td>Concert Hall</td>\n      <td>Convenience Store</td>\n    </tr>\n  </tbody>\n</table>\n</div>"
                    },
                    "metadata": {}
                }
            ]
        },
        {
            "metadata": {
                "id": "v4QPzdbeQrH7",
                "colab_type": "text"
            },
            "cell_type": "markdown",
            "source": "### Cluster 3"
        },
        {
            "metadata": {
                "id": "2rUpGO0rQrwn",
                "colab_type": "code",
                "colab": {
                    "base_uri": "https://localhost:8080/",
                    "height": 148
                },
                "executionInfo": {
                    "status": "ok",
                    "timestamp": 1597726615898,
                    "user_tz": -330,
                    "elapsed": 879,
                    "user": {
                        "displayName": "Thomas George Thomas",
                        "photoUrl": "https://lh3.googleusercontent.com/a-/AOh14GhRjmtno5yCmJOUjYiFNGHi_xP5YZBJ1ZpWGKsZ=s64",
                        "userId": "09561174857978505545"
                    }
                },
                "outputId": "271607d2-250f-4da1-bc6f-c70e2d5a211e"
            },
            "cell_type": "code",
            "source": "bogota_data.loc[bogota_data['Cluster Labels'] == 3, bogota_data.columns[[1] + list(range(5, bogota_data.shape[1]))]]",
            "execution_count": 179,
            "outputs": [
                {
                    "output_type": "execute_result",
                    "execution_count": 179,
                    "data": {
                        "text/plain": "   post_code 1st Most Common Venue      2nd Most Common Venue  \\\n11    111211    Mexican Restaurant  Latin American Restaurant   \n\n   3rd Most Common Venue 4th Most Common Venue 5th Most Common Venue  \\\n11      Theme Restaurant                  Caf\u00e9        Clothing Store   \n\n   6th Most Common Venue 7th Most Common Venue    8th Most Common Venue  \\\n11          Cocktail Bar           Coffee Shop  Comfort Food Restaurant   \n\n   9th Most Common Venue 10th Most Common Venue  \n11          Concert Hall      Convenience Store  ",
                        "text/html": "<div>\n<style scoped>\n    .dataframe tbody tr th:only-of-type {\n        vertical-align: middle;\n    }\n\n    .dataframe tbody tr th {\n        vertical-align: top;\n    }\n\n    .dataframe thead th {\n        text-align: right;\n    }\n</style>\n<table border=\"1\" class=\"dataframe\">\n  <thead>\n    <tr style=\"text-align: right;\">\n      <th></th>\n      <th>post_code</th>\n      <th>1st Most Common Venue</th>\n      <th>2nd Most Common Venue</th>\n      <th>3rd Most Common Venue</th>\n      <th>4th Most Common Venue</th>\n      <th>5th Most Common Venue</th>\n      <th>6th Most Common Venue</th>\n      <th>7th Most Common Venue</th>\n      <th>8th Most Common Venue</th>\n      <th>9th Most Common Venue</th>\n      <th>10th Most Common Venue</th>\n    </tr>\n  </thead>\n  <tbody>\n    <tr>\n      <th>11</th>\n      <td>111211</td>\n      <td>Mexican Restaurant</td>\n      <td>Latin American Restaurant</td>\n      <td>Theme Restaurant</td>\n      <td>Caf\u00e9</td>\n      <td>Clothing Store</td>\n      <td>Cocktail Bar</td>\n      <td>Coffee Shop</td>\n      <td>Comfort Food Restaurant</td>\n      <td>Concert Hall</td>\n      <td>Convenience Store</td>\n    </tr>\n  </tbody>\n</table>\n</div>"
                    },
                    "metadata": {}
                }
            ]
        },
        {
            "metadata": {
                "id": "vNoT1xCCQvDT",
                "colab_type": "text"
            },
            "cell_type": "markdown",
            "source": "### Cluster 4"
        },
        {
            "metadata": {
                "id": "aOAToKVrQtFl",
                "colab_type": "code",
                "colab": {
                    "base_uri": "https://localhost:8080/",
                    "height": 323
                },
                "executionInfo": {
                    "status": "ok",
                    "timestamp": 1597726618875,
                    "user_tz": -330,
                    "elapsed": 896,
                    "user": {
                        "displayName": "Thomas George Thomas",
                        "photoUrl": "https://lh3.googleusercontent.com/a-/AOh14GhRjmtno5yCmJOUjYiFNGHi_xP5YZBJ1ZpWGKsZ=s64",
                        "userId": "09561174857978505545"
                    }
                },
                "outputId": "c28def20-b1e8-407d-d5ee-d8c297ecb10c"
            },
            "cell_type": "code",
            "source": "bogota_data.loc[bogota_data['Cluster Labels'] == 4, bogota_data.columns[[1] + list(range(5, bogota_data.shape[1]))]]",
            "execution_count": 180,
            "outputs": [
                {
                    "output_type": "execute_result",
                    "execution_count": 180,
                    "data": {
                        "text/plain": "  post_code 1st Most Common Venue      2nd Most Common Venue  \\\n5    110611                   Gym  Latin American Restaurant   \n\n  3rd Most Common Venue 4th Most Common Venue 5th Most Common Venue  \\\n5            Restaurant      Theme Restaurant       Cultural Center   \n\n  6th Most Common Venue 7th Most Common Venue 8th Most Common Venue  \\\n5  Caribbean Restaurant        Clothing Store          Cocktail Bar   \n\n  9th Most Common Venue   10th Most Common Venue  \n5           Coffee Shop  Comfort Food Restaurant  ",
                        "text/html": "<div>\n<style scoped>\n    .dataframe tbody tr th:only-of-type {\n        vertical-align: middle;\n    }\n\n    .dataframe tbody tr th {\n        vertical-align: top;\n    }\n\n    .dataframe thead th {\n        text-align: right;\n    }\n</style>\n<table border=\"1\" class=\"dataframe\">\n  <thead>\n    <tr style=\"text-align: right;\">\n      <th></th>\n      <th>post_code</th>\n      <th>1st Most Common Venue</th>\n      <th>2nd Most Common Venue</th>\n      <th>3rd Most Common Venue</th>\n      <th>4th Most Common Venue</th>\n      <th>5th Most Common Venue</th>\n      <th>6th Most Common Venue</th>\n      <th>7th Most Common Venue</th>\n      <th>8th Most Common Venue</th>\n      <th>9th Most Common Venue</th>\n      <th>10th Most Common Venue</th>\n    </tr>\n  </thead>\n  <tbody>\n    <tr>\n      <th>5</th>\n      <td>110611</td>\n      <td>Gym</td>\n      <td>Latin American Restaurant</td>\n      <td>Restaurant</td>\n      <td>Theme Restaurant</td>\n      <td>Cultural Center</td>\n      <td>Caribbean Restaurant</td>\n      <td>Clothing Store</td>\n      <td>Cocktail Bar</td>\n      <td>Coffee Shop</td>\n      <td>Comfort Food Restaurant</td>\n    </tr>\n  </tbody>\n</table>\n</div>"
                    },
                    "metadata": {}
                }
            ]
        },
        {
            "metadata": {
                "id": "ouOfglijQ4QA",
                "colab_type": "text"
            },
            "cell_type": "markdown",
            "source": "### Cluster 5"
        },
        {
            "metadata": {
                "id": "F4xYIT6BQxG_",
                "colab_type": "code",
                "colab": {
                    "base_uri": "https://localhost:8080/",
                    "height": 131
                },
                "executionInfo": {
                    "status": "ok",
                    "timestamp": 1597726622710,
                    "user_tz": -330,
                    "elapsed": 922,
                    "user": {
                        "displayName": "Thomas George Thomas",
                        "photoUrl": "https://lh3.googleusercontent.com/a-/AOh14GhRjmtno5yCmJOUjYiFNGHi_xP5YZBJ1ZpWGKsZ=s64",
                        "userId": "09561174857978505545"
                    }
                },
                "outputId": "feba1e4e-1df5-4d60-9afb-cf628b727c93"
            },
            "cell_type": "code",
            "source": "bogota_data.loc[bogota_data['Cluster Labels'] == 5, bogota_data.columns[[1] + list(range(5, bogota_data.shape[1]))]]",
            "execution_count": 181,
            "outputs": [
                {
                    "output_type": "execute_result",
                    "execution_count": 181,
                    "data": {
                        "text/plain": "   post_code 1st Most Common Venue 2nd Most Common Venue  \\\n15    111611             BBQ Joint    Seafood Restaurant   \n\n   3rd Most Common Venue 4th Most Common Venue 5th Most Common Venue  \\\n15                Bakery       Motorcycle Shop  Fast Food Restaurant   \n\n   6th Most Common Venue 7th Most Common Venue 8th Most Common Venue  \\\n15        Duty-free Shop  Caribbean Restaurant        Clothing Store   \n\n   9th Most Common Venue 10th Most Common Venue  \n15          Cocktail Bar            Coffee Shop  ",
                        "text/html": "<div>\n<style scoped>\n    .dataframe tbody tr th:only-of-type {\n        vertical-align: middle;\n    }\n\n    .dataframe tbody tr th {\n        vertical-align: top;\n    }\n\n    .dataframe thead th {\n        text-align: right;\n    }\n</style>\n<table border=\"1\" class=\"dataframe\">\n  <thead>\n    <tr style=\"text-align: right;\">\n      <th></th>\n      <th>post_code</th>\n      <th>1st Most Common Venue</th>\n      <th>2nd Most Common Venue</th>\n      <th>3rd Most Common Venue</th>\n      <th>4th Most Common Venue</th>\n      <th>5th Most Common Venue</th>\n      <th>6th Most Common Venue</th>\n      <th>7th Most Common Venue</th>\n      <th>8th Most Common Venue</th>\n      <th>9th Most Common Venue</th>\n      <th>10th Most Common Venue</th>\n    </tr>\n  </thead>\n  <tbody>\n    <tr>\n      <th>15</th>\n      <td>111611</td>\n      <td>BBQ Joint</td>\n      <td>Seafood Restaurant</td>\n      <td>Bakery</td>\n      <td>Motorcycle Shop</td>\n      <td>Fast Food Restaurant</td>\n      <td>Duty-free Shop</td>\n      <td>Caribbean Restaurant</td>\n      <td>Clothing Store</td>\n      <td>Cocktail Bar</td>\n      <td>Coffee Shop</td>\n    </tr>\n  </tbody>\n</table>\n</div>"
                    },
                    "metadata": {}
                }
            ]
        },
        {
            "metadata": {
                "id": "BrHlnq6_EVSO",
                "colab_type": "text"
            },
            "cell_type": "markdown",
            "source": "# Results and Discussion\n\nThe towns of Bogota have a diverse number of places to which you could go, the number of towns is few, despite the grouping that it can be seen that Bogota is a multicultural area, with few towns but with a great variety of activities that They can be done depending on what the person is looking for, its restaurants are divided mainly into typical Colombian food, French, Chinese, Italian and sometimes thematic restaurants, it has many museums and green areas that people seem to like very much, many bars and for people looking to exercise all towns have at least one gym."
        },
        {
            "metadata": {
                "id": "NuztDbPeH2AN",
                "colab_type": "text"
            },
            "cell_type": "markdown",
            "source": "# Conclusion\n\nThe purpose of this project was to explore the localities of the city of Bogota and see how attractive it is for tourists, people who live and also for people who would like to live in Bogota. We explore the city based on the zip codes of the localities and then we extrapolate the common places present in each of the neighborhoods and finally we conclude with the grouping of similar neighborhoods.\n\nWe were able to see that each of the towns in the city of Bogota has a wide variety of experiences to offer that are unique in their own way. The cultural diversity is quite evident, which also gives the feeling of inclusion thanks to its section on multinational culture.\n\nNot all towns seem to offer a vacation getaway or romantic getaway with many places to explore, beautiful landscapes, and a wide variety of cultures. But if there is a large amount that could end up in a great experience to spend a short vacation with a pleasant memory not only for its museums, restaurants and parks, but also for its culture, tourist sites and the wonderful Colombian coffee."
        },
        {
            "metadata": {},
            "cell_type": "markdown",
            "source": "## References"
        },
        {
            "metadata": {},
            "cell_type": "markdown",
            "source": "1. [The Battle of Neighbourhood \u2014 A Tale of Two Cities by Thomas George](https://medium.com/analytics-vidhya/a-tale-of-two-cities-clustering-neighborhoods-of-london-and-paris-5328f69cd8b6)\n2. [Foursquare API](https://foursquare.com/)\n3. [ArcGIS API](https://www.arcgis.com/index.html)"
        },
        {
            "metadata": {},
            "cell_type": "code",
            "source": "",
            "execution_count": null,
            "outputs": []
        }
    ],
    "metadata": {
        "colab": {
            "name": "Tale of Two Cities.ipynb",
            "provenance": [],
            "collapsed_sections": [],
            "toc_visible": true,
            "authorship_tag": "ABX9TyMBMaFgENmlg1wAYlx6zgev"
        },
        "kernelspec": {
            "name": "python3",
            "display_name": "Python 3.7",
            "language": "python"
        },
        "language_info": {
            "name": "python",
            "version": "3.7.9",
            "mimetype": "text/x-python",
            "codemirror_mode": {
                "name": "ipython",
                "version": 3
            },
            "pygments_lexer": "ipython3",
            "nbconvert_exporter": "python",
            "file_extension": ".py"
        }
    },
    "nbformat": 4,
    "nbformat_minor": 1
}